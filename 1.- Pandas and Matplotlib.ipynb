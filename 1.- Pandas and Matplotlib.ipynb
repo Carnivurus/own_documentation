{
 "cells": [
  {
   "cell_type": "markdown",
   "metadata": {},
   "source": [
    "# DataFrames\n",
    "## Metodos y Funciones"
   ]
  },
  {
   "cell_type": "markdown",
   "metadata": {},
   "source": [
    "En este material definire los data frames, mi interes es mostrar las diferencias de metodos\n",
    "y funciones para cada una de ellas empezaremos por el data frame en general y sus propiedades."
   ]
  },
  {
   "cell_type": "markdown",
   "metadata": {},
   "source": [
    "# Generales\n",
    "- dtype('object') - Para conocer la clase o tipo del objeto\n",
    "- .DataFrame - data= database, columns = header 'Recibe una base con headers y lo transforma en un conjunto de datos/tabla.\n",
    "--   keep_default_na=False/True\n",
    "- .sum()\n",
    "- .min()\n",
    "- .median()\n",
    "- .mean()\n",
    "- pd.concat([database1,database2], axis='columns')\n",
    "- .read_csv(datapath, sep='',header=\"infer\", names=[col1,col2], decimal=',')"
   ]
  },
  {
   "cell_type": "markdown",
   "metadata": {},
   "source": [
    "## DateTime Formats\n",
    "- pd.to_datetime(df['col'],format= %m-%d-%Y %H:%M:%S) #dont forget to specify the parameter format\n",
    "- .dt.round() -redondea la fecha hacia donde se acerque mas \n",
    "- .dt.flor() - redondea la fecha hacia abajo\n",
    "- .dt.ceil() - redondea la fecha hacia arriba\n",
    "- .dt.year - OR (.month /.day) para entregar una fecha especifica dividida\n",
    "- .dt.tz_localize() - asigna un zona horaria cuando el date no lo contiene\n",
    "- ..dt.tz_convert() - transformar a otra zona horaria"
   ]
  },
  {
   "cell_type": "markdown",
   "metadata": {},
   "source": [
    "## Convertir a un tipo de datos especificos\n",
    "\n",
    "- df[col].astype() - transforma el typo de datos a otro tipo.\n",
    "- pd.to_numeric(df[col], errors='coerce') - transforma el array de str a numerico.\n"
   ]
  },
  {
   "cell_type": "markdown",
   "metadata": {},
   "source": [
    "## Metodos Numpy\n",
    "\n",
    "- np.array_equal(original_col, original_col.astype(int)) - Comprueba si el cambio modificará/omitirá un valor del original. - Exmple np.array_equal(df.Quantity, df.Quantity.astype(\"int\"))"
   ]
  },
  {
   "cell_type": "markdown",
   "metadata": {},
   "source": [
    "# Atributos de un Dataframe\n",
    "- .shape - rows, columns\n",
    "- .columns - name columns\n",
    "- .size  - rows*columns\n",
    "- .index - start, stop of index\n",
    "- pd.Series(row_values, index=column_names) Crea una nueva series\n",
    "Oceans = pd.Series(['Pacific', 'Atlantic', 'Indian', 'Southern', 'Arctic'])"
   ]
  },
  {
   "cell_type": "markdown",
   "metadata": {},
   "source": []
  },
  {
   "cell_type": "markdown",
   "metadata": {},
   "source": [
    "# Dentro de DataFrame\n",
    "- .info(show_counts=True) - Despliega la información de la tabla, clase, indices, columnas, cantidad de valores no nulos y tipos de datos.\n",
    "- .describe(include= 'all'or 'object' or leave it blank for numbers)  #muestra estadisticas descriptivas\n",
    "- .head() - Muestra los primeros 5 valores.\n",
    "- .tail() - Muestra los últimos 5 valores.\n",
    "- .sum() - Suma los valores\n",
    "- .count() - Cuenta los valores dentro de la columna\n",
    "- .loc[row,column] = new_value remplaza el valor localizado de un df\n",
    "- ~ invierte un booleano \n",
    " - .isin(value) - Condicion, si esta dentro de.\n",
    "- df.pivot_table(index='' , columns='', values='', aggfunc='')\n",
    "- first_df.merge(second_df, on='column', how = 'inner' /outer/ left ,  suffixes=['_1st_student', '_2nd_student']) #si son diferentes nombres de columnas, usar left_on= y right_on= "
   ]
  },
  {
   "cell_type": "markdown",
   "metadata": {},
   "source": [
    "## to manipulate NA\n",
    "- .fillna(new_value, inplace=True) - Rellena los valores NA por el valor indicado\n",
    "- .dropna(subset=[column1, column2, etc], inplace=True)  - Elimina todas las filas en donde cualquiera de las columnas especificadas tenga un valor ausente\n",
    "- .dropna(axis='columns', inplace=True) Elimina las columnas en donde se encuentren valores ausentes\n",
    "- .isna() or isnull() - Detecta los espacios sin ningún valor dentro del dataframe y los devuelve como un booleano"
   ]
  },
  {
   "cell_type": "markdown",
   "metadata": {},
   "source": [
    "## to manipulate data\n",
    "- .rename(columns = columns_new, inplace= True) - Renombra todas las columnas por un nuevo conjunto.\n",
    "- .columns() = Acces to the Data labels of the data frame.\n",
    "-  df.rename(columns = {\"Old_Name\":\"New_Name\"}, inplace = True) - To change an especific column.\n",
    "- .drop(labels=['notes'], axis=1 , inplace=True) -elimina una fila/columna de un conjunto de datos 0 para filas 1 para columnas\n",
    "- .drop_duplicates(inplace=True) - Remueve todos los valores duplicados de la tabla\n",
    "- .duplicated() Detecta los valores repetidos y los devuelve como un booleano\n",
    "- .apply() Itera sobre cada fila/columna para aplicar una funcion (upper, lower etc.)\n",
    "- .transform() igual que el apply pero puede reemplazar la base original\n",
    "- .set_index()"
   ]
  },
  {
   "cell_type": "markdown",
   "metadata": {},
   "source": [
    "### usually work together\n",
    "\n",
    "- .groupby(by='column')\n",
    "- .reset_index(drop=False) - resetea el indice\n",
    "- .sort_values(by='column',ascending=False) ordena los valores de dorma descendente \"False\" o ascendente 'True'"
   ]
  },
  {
   "cell_type": "markdown",
   "metadata": {},
   "source": [
    "# Series\n",
    "- .isna() - Detecta los espacios sin ningún valor dentro de la serie\n",
    "- .fillna(new_value, inplace=True) - Rellena los valores NA por el valor indicado y los devuelve como un booleano\n",
    "- .unique() devuelve los valores únicos de una columna\n",
    "- .nunique() devuelve la cantidad de valores únicos de una columna\n",
    "- .replace(old_element,new_element) - remplazar\n",
    "- .sort_values(ascending=False) ordena los valores de dorma descendente \"False\" o ascendente 'True'\n",
    "- .value_counts(dropna=True) - devuelve la cantidad de veces que cada valor único aparece en esa columna. \n",
    "- . sort_index() Ordena la tabla por el valor del indice.\n"
   ]
  },
  {
   "cell_type": "markdown",
   "metadata": {},
   "source": [
    "# Lists\n",
    "- .strip() - Quitar espacios al inicio y al final\n",
    "- .lower() - minusculas\n",
    "- .replace(old_element,new_element) - remplazar\n",
    "- .append() - anexar a otra lista\n",
    "- .year, .month, .day\n",
    "\n",
    "\n",
    "lambda ( Funcion = lambda Parametros : Operacion)"
   ]
  },
  {
   "cell_type": "code",
   "execution_count": 4,
   "metadata": {},
   "outputs": [
    {
     "data": {
      "text/plain": [
       "array([], shape=(5, 6, 0, 3, 12, 1), dtype=float64)"
      ]
     },
     "execution_count": 4,
     "metadata": {},
     "output_type": "execute_result"
    }
   ],
   "source": [
    "import numpy as np\n",
    "\n",
    "lista= [\"Juan\",\"Gabi\",\"Mariana\"]\n",
    "numeros= [5,6,0,3,12,1]\n",
    "\n",
    "np.random.random(10) #Simple, devuelve n numeros aleatorios\n",
    "np.random.randn(3,4) # devuelve negativos \n",
    "np.random.rand(3,4) # devuelve solo positivos\n",
    "np.random.randint(4,9, 10) #Genera valores aleatorios a partir de intevalos\n",
    "np.random.randint(-40,9, 10) #Genera valores aleatorios  a partir de intevalos\n",
    "np.random.choice(lista) #devuelve un valor aleatorio de una lista ya creada\n",
    "np.random.uniform(1,100) # devuelve un valor aleatorios flotantes a partir de sus parametros\n",
    "np.random.choice(lista, 100 , p= [0.8,0.1,0.1]) #Se puede agregar probabilidad a un random choice\n",
    "np.random.normal(3,.05,numeros)  #mu, sigma, muestra \n",
    "\n",
    "\n",
    "\n"
   ]
  }
 ],
 "metadata": {
  "kernelspec": {
   "display_name": "Python 3",
   "language": "python",
   "name": "python3"
  },
  "language_info": {
   "codemirror_mode": {
    "name": "ipython",
    "version": 3
   },
   "file_extension": ".py",
   "mimetype": "text/x-python",
   "name": "python",
   "nbconvert_exporter": "python",
   "pygments_lexer": "ipython3",
   "version": "3.12.0"
  }
 },
 "nbformat": 4,
 "nbformat_minor": 2
}
