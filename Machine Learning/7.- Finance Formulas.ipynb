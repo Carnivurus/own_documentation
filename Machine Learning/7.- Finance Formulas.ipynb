{
 "cells": [
  {
   "cell_type": "markdown",
   "metadata": {},
   "source": [
    "## Gross Profit\n",
    "\n",
    "Gross profit is the financial metric that represents the difference between revenue (income) generated from sales of goods or services and the cost of producing or acquiring those goods. It reflects the profit a company earns after deducting the cost of goods sold but before deducting other expenses like operating expenses or taxes.\n",
    "\n",
    "\n",
    "$$\n",
    "\\text{Gross Profit} = {\\text{Income} - \\text{Cost goods}}\n",
    "$$\n",
    "\n",
    "\n",
    "- Gross Profit: The difference between the income generated from sales of goods or services and the cost of producing or acquiring those goods.\n",
    "- Income: The total amount of money received by a business from its activities, including sales of goods or services.\n",
    "- Cost of goods: The direct costs attributable to the production or acquisition of goods sold by a business."
   ]
  },
  {
   "cell_type": "markdown",
   "metadata": {},
   "source": [
    "## Gross profit margin\n",
    "\n",
    "The gross profit margin is a financial metric that represents the percentage of revenue (income) that exceeds the cost of goods sold. It is calculated by dividing the gross profit by the revenue and then multiplying by 100% to express the result as a percentage. This metric indicates the efficiency of a company's production or procurement process and its ability to control production costs.\n",
    "\n",
    "$$ \\text{Gross profit margin} = \\frac{\\text{Gross profit}}{\\text{Income}} \\times 100\\% $$\n"
   ]
  }
 ],
 "metadata": {
  "language_info": {
   "name": "python"
  }
 },
 "nbformat": 4,
 "nbformat_minor": 2
}
