{
 "cells": [
  {
   "cell_type": "markdown",
   "metadata": {},
   "source": [
    "## Gross Profit\n",
    "\n",
    "Gross profit is the financial metric that represents the difference between revenue (income) generated from sales of goods or services and the cost of producing or acquiring those goods. It reflects the profit a company earns after deducting the cost of goods sold but before deducting other expenses like operating expenses or taxes.\n",
    "\n",
    "\n",
    "$$\n",
    "\\text{Gross Profit} = {\\text{Income} - \\text{Cost goods}}\n",
    "$$\n",
    "\n",
    "\n",
    "- Gross Profit: The difference between the income generated from sales of goods or services and the cost of producing or acquiring those goods. `does not include taxes , operative expenses, interest expenses, depreciation and amortization`\n",
    "- Income (Revenues): The total amount of money received by a business from its activities, including sales of goods or services.\n",
    "- Cost of goods: The direct costs attributable to the production or acquisition of goods (or services) sold by a business.\n"
   ]
  },
  {
   "cell_type": "markdown",
   "metadata": {},
   "source": [
    "### Gross profit margin\n",
    "\n",
    "The gross profit margin is a financial metric that represents the percentage of revenue (income) that exceeds the cost of goods sold. It is calculated by dividing the gross profit by the revenue and then multiplying by 100% to express the result as a percentage. This metric indicates the efficiency of a company's production or procurement process and its ability to control production costs.\n",
    "\n",
    "$$ \\text{Gross profit margin} = \\frac{\\text{Gross profit}}{\\text{Income}} \\times 100\\% $$\n"
   ]
  },
  {
   "cell_type": "markdown",
   "metadata": {},
   "source": [
    "## Operating profit\n",
    "\n",
    "\n",
    "Operating profit, also known as operating income or operating earnings, is a measure of a company's profitability that reflects the profit from its core business operations, excluding interest and taxes. It is calculated by subtracting operating expenses from gross profit.\n",
    "\n",
    "$$ \\text{Operating Profit} = \\text{Gross profit - Operating Expenses}\n",
    "$$\n",
    "\n",
    "Operating Expenses = `Salaries and rental expenses`\n",
    "\n",
    "- If the operating profit is negative, this is called an operating loss"
   ]
  },
  {
   "cell_type": "markdown",
   "metadata": {},
   "source": [
    "### Operating profit margin\n",
    "\n",
    "The operating profit margin is a financial ratio that measures the profitability of a company's core business operations. It indicates the percentage of revenue that remains as operating profit after deducting operating expenses.\n",
    "\n",
    "If we divide operating profit by revenue, we get operating profit margin\n",
    "\n",
    "$$ \\text{Operating Profit Margin} = \\frac{\\text{Operating Profit}}{\\text{Income}} \\cdot 100 $$\n"
   ]
  },
  {
   "cell_type": "markdown",
   "metadata": {},
   "source": [
    "## Net Profit\n",
    "\n",
    "Net profit, also known as net income or net earnings, is a measure of a company's profitability after accounting for all expenses and taxes. It represents the amount of money that remains after deducting all costs, including operating expenses, interest, taxes, and any other expenses, from total revenue."
   ]
  }
 ],
 "metadata": {
  "language_info": {
   "name": "python"
  }
 },
 "nbformat": 4,
 "nbformat_minor": 2
}
