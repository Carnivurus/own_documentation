{
 "cells": [
  {
   "cell_type": "markdown",
   "metadata": {},
   "source": [
    "## One Hot Encoding\n",
    "\n",
    "El \"one hot encoding\" es una técnica que convierte datos categóricos en vectores binarios donde solo un valor es 1 y los demás son 0. Por ejemplo, para las frutas: \n",
    "\n",
    "- manzana=[1,0,0], \n",
    "- plátano=[0,1,0], \n",
    "- naranja=[0,0,1]. \n",
    "\n",
    "Esto facilita el procesamiento por algoritmos de aprendizaje automático, ya que proporciona una representación numérica única para cada categoría."
   ]
  },
  {
   "cell_type": "code",
   "execution_count": 18,
   "metadata": {},
   "outputs": [],
   "source": [
    "import pandas as pd\n",
    "from sklearn.model_selection import train_test_split\n",
    "from sklearn.linear_model import LogisticRegression\n",
    "\n",
    "# Importamos librerias\n",
    "data = pd.read_csv('D:/Tripleten/datasets/travel_insurance_us.csv')"
   ]
  },
  {
   "cell_type": "code",
   "execution_count": 27,
   "metadata": {},
   "outputs": [
    {
     "name": "stdout",
     "output_type": "stream",
     "text": [
      "¡Entrenado!\n"
     ]
    }
   ],
   "source": [
    "data['Gender'].fillna('unknown', inplace=True)\n",
    "data_ohe = pd.get_dummies(data, drop_first=True, dummy_na=True)\n",
    "\n",
    "features = data_ohe.drop('Claim', axis=1)\n",
    "target = data_ohe['Claim']\n",
    "\n",
    "x_train, x_test, y_train, y_test =  train_test_split(features,target, test_size = 0.25, random_state=12345)\n",
    "\n",
    "model = LogisticRegression(solver='liblinear')\n",
    "model.fit(x_train, y_train)\n",
    "\n",
    "print('¡Entrenado!')\n"
   ]
  },
  {
   "cell_type": "markdown",
   "metadata": {},
   "source": [
    "## Label Encoder\n",
    "El laben encoding reemplazar las categorías con etiquetas numéricas arbitrarias, se utiliza para codificar características categóricas para árboles de decisión y otros algoritmos basados en árboles, como bosques aleatorios.\n",
    "\n"
   ]
  },
  {
   "cell_type": "code",
   "execution_count": 29,
   "metadata": {},
   "outputs": [],
   "source": [
    "from sklearn.preprocessing import LabelEncoder\n",
    "from sklearn.preprocessing import OrdinalEncoder\n",
    "data = pd.read_csv('D:/Tripleten/datasets/travel_insurance_us.csv')"
   ]
  },
  {
   "cell_type": "code",
   "execution_count": 46,
   "metadata": {},
   "outputs": [
    {
     "name": "stdout",
     "output_type": "stream",
     "text": [
      "       Agency\n",
      "0           9\n",
      "1           7\n",
      "2           7\n",
      "3           7\n",
      "4           9\n",
      "...       ...\n",
      "50655       7\n",
      "50656       7\n",
      "50657       7\n",
      "50658       7\n",
      "50659       2\n",
      "\n",
      "[50660 rows x 1 columns]\n"
     ]
    }
   ],
   "source": [
    "# Creamos una instancia de la clase\n",
    "encoder = LabelEncoder()\n",
    "\n",
    "# Le entregamos la base a la clase para que regonozca las variables categóricas\n",
    "encoder.fit(data['Agency'])\n",
    "\n",
    "# podríamos usar tambienla funcion fit_transform si la data es la misma\n",
    "#data_ordinal = pd.DataFrame(encoder.fit_transform(data['Agency']), columns=['Agency'])\n",
    "\n",
    "# Transformamos los datos\n",
    "data_ordinal = pd.DataFrame(encoder.transform(data['Agency']), columns=['Agency'])\n",
    "\n",
    "print(data_ordinal)\n"
   ]
  },
  {
   "cell_type": "code",
   "execution_count": null,
   "metadata": {},
   "outputs": [],
   "source": []
  },
  {
   "cell_type": "markdown",
   "metadata": {},
   "source": [
    "## Ordinal Encoder\n",
    "\n",
    "Se usa para dos o más columnas a la vez, hasta el conjunto de datos completo"
   ]
  },
  {
   "cell_type": "code",
   "execution_count": 37,
   "metadata": {},
   "outputs": [
    {
     "name": "stdout",
     "output_type": "stream",
     "text": [
      "       Agency  Agency Type  Distribution Channel  Product Name  Claim  \\\n",
      "0         9.0          0.0                   1.0          24.0    0.0   \n",
      "1         7.0          1.0                   1.0          10.0    0.0   \n",
      "2         7.0          1.0                   1.0          10.0    0.0   \n",
      "3         7.0          1.0                   1.0          10.0    0.0   \n",
      "4         9.0          0.0                   1.0          24.0    0.0   \n",
      "...       ...          ...                   ...           ...    ...   \n",
      "50655     7.0          1.0                   1.0           1.0    0.0   \n",
      "50656     7.0          1.0                   1.0          10.0    0.0   \n",
      "50657     7.0          1.0                   1.0           1.0    0.0   \n",
      "50658     7.0          1.0                   1.0           1.0    0.0   \n",
      "50659     2.0          0.0                   1.0          17.0    0.0   \n",
      "\n",
      "       Duration  Destination  Net Sales  Commission (in value)  Gender   Age  \n",
      "0          14.0        121.0      602.0                  486.0     1.0  37.0  \n",
      "1          52.0         61.0      470.0                    0.0     NaN  34.0  \n",
      "2         253.0         16.0      735.0                    0.0     NaN  34.0  \n",
      "3           8.0         54.0      121.0                    0.0     NaN  34.0  \n",
      "4           7.0         24.0      602.0                  486.0     1.0  32.0  \n",
      "...         ...          ...        ...                    ...     ...   ...  \n",
      "50655      57.0         85.0      470.0                    0.0     NaN  34.0  \n",
      "50656       9.0        118.0      343.0                    0.0     NaN  34.0  \n",
      "50657     147.0          3.0      792.0                    0.0     NaN  34.0  \n",
      "50658      86.0        124.0      457.0                    0.0     NaN  22.0  \n",
      "50659     105.0        113.0      676.0                  482.0     1.0  23.0  \n",
      "\n",
      "[50660 rows x 11 columns]\n"
     ]
    }
   ],
   "source": [
    "# Creamos una instancia de la clase\n",
    "encoder = OrdinalEncoder()\n",
    "\n",
    "# Le entregamos la base a la clase para que regonozca las variables categóricas\n",
    "encoder.fit(data)\n",
    "\n",
    "# Transformamos los datos\n",
    "data_ordinal = pd.DataFrame(encoder.transform(data), columns=data.columns)\n",
    "print(data_ordinal)\n"
   ]
  },
  {
   "cell_type": "markdown",
   "metadata": {},
   "source": [
    "Este tipo de variable categórica se denomina variable ordinal, a diferencia de una variable nominal (una variable de categorías sin orden). La codificación ordinal es una codificación de una variable ordinal con etiquetas numéricas dispuestas en un orden natural específico, generalmente realizada mediante enumeración manual de etiquetas.\n",
    "\n",
    "Otra alternativa es simplemente implementar el mapeo por medio de pandas. Ya que estamos usando pandas de todos modos, este es el método que recomendamos:\n"
   ]
  },
  {
   "cell_type": "markdown",
   "metadata": {},
   "source": [
    "```py\n",
    "\n",
    "temperature_dict = {'cold': 0, 'warm': 1, 'hot': 2}\n",
    "df['temperature'] = df['temperature'].map(temp_dict) \n",
    "\n",
    "```\n"
   ]
  },
  {
   "cell_type": "markdown",
   "metadata": {},
   "source": [
    "## Conclusiones\n",
    "\n",
    "`Para modelos de regresion usar OHE (One Hot Encoding).` OHE codifica cada categoría como un vector linealmente independiente en un espacio N-dimensional. Todos estos vectores son inicialmente equidistantes entre sí y aprenderán sus pesos independientes separados durante la ejecución del algoritmo\n",
    "\n",
    "`Para los algoritmos basados en árboles`  El mejor enfoque para los árboles es hacer divisiones por categorías sin procesar, pero dado que scikit-learn actualmente no admite esta opción, en muchos casos, el segundo mejor enfoque resulta ser la codificación de etiqueta\n",
    "\n",
    "\n",
    "Para resumir todo, la codificación de una variable categórica con OHE generalmente dará como resultado el mejor rendimiento a menos que:\n",
    "1. Se use en un algoritmo basado en árboles (algunas plataformas de machine learning admiten variables categóricas no codificadas para árboles, pero si no, la codificación de etiquetas puede dar como resultado un mejor rendimiento en algunos casos).\n",
    "2. Sea una variable ordinal (la codificación ordinal generalmente funciona mejor para las variables ordinales).\n",
    "3. Sea una variable de alta cardinalidad (es posible que se necesiten técnicas de codificación más avanzadas)."
   ]
  }
 ],
 "metadata": {
  "kernelspec": {
   "display_name": "Python 3",
   "language": "python",
   "name": "python3"
  },
  "language_info": {
   "codemirror_mode": {
    "name": "ipython",
    "version": 3
   },
   "file_extension": ".py",
   "mimetype": "text/x-python",
   "name": "python",
   "nbconvert_exporter": "python",
   "pygments_lexer": "ipython3",
   "version": "3.12.0"
  }
 },
 "nbformat": 4,
 "nbformat_minor": 2
}
