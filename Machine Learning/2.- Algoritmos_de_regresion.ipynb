{
 "cells": [
  {
   "cell_type": "markdown",
   "metadata": {},
   "source": [
    "# Algoritmo de regresión Logística\n",
    "\n",
    "Antes de iniciar con los modelos de regresion debemos de recordar que en un algoritmo de regresion, nuestra meta es obtener número, (a diferencia de las clasificaciones donde se categorizan los datos). Para esto abra un elemento muy importante que debemos conocer."
   ]
  },
  {
   "cell_type": "markdown",
   "metadata": {},
   "source": [
    "## Error cuadrático medio o (MSE)\n",
    "\n",
    "¿Qué métrica es la más adecuada para una tarea de regresión? ¡El error cuadrático medio!\n",
    "\n",
    "Para encontrar el EMC, primero debes calcular el error de cada observación:\n",
    "\n",
    "$$ \\text{Error de observación} = \\text{Predicción del modelo} - \\text{Respuesta correcta} $$\n",
    "\n",
    "Lo cuál se transforma en la siguiente formula\n",
    "\n",
    "$$ EMC = \\frac{\\text {Suma de los cuadrados de los errores de observación}}{\\text{Número de observaciones}} $$\n",
    "\n",
    "Vamos a analizar estos cálculos:\n",
    "\n",
    "1. El error de observación muestra el grado de discrepancia entre la respuesta correcta y la predicción. Si el error es mucho más grande que cero, el modelo ha sobrevalorado el apartamento; si es mucho menor que cero, entonces el modelo le ha dado un precio reducido.\n",
    "2. No tendría caso sumar los errores como están, ya que los positivos anularían los negativos. Para hacer que todos cuenten, necesitamos deshacernos de los signos elevándolos al cuadrado.\n",
    "3. Encontramos la media para obtener datos para todas las observaciones.\n",
    "\n",
    "Recuerda que al elevar al cuadrado el EMC no tendrá la misma unidad de medida que nuestra variable objetivo por lo que será necesario usar la RECM, que significa raíz del error cuadrático medio. Tiene las mismas unidades de medida que la variable objetivo.\n",
    "\n",
    "Ahora verás como usarlo en python."
   ]
  },
  {
   "cell_type": "code",
   "execution_count": null,
   "metadata": {},
   "outputs": [],
   "source": [
    "def mse(answers, predictions):\n",
    "    result = []\n",
    "    for i in range(0, len(answers)):\n",
    "        result.append((answers[i] - predictions[i])**2)\n",
    "    return sum(result) / len(result)\n",
    "\n",
    "answers = [623, 253, 150, 237]\n",
    "predictions = [649, 253, 370, 148]\n",
    "\n",
    "print(mse(answers, predictions))\n"
   ]
  },
  {
   "cell_type": "markdown",
   "metadata": {},
   "source": [
    "Esta fue la forma de utilizar python para poder aplicar la formula, sin embargo python ofrece a través de sklearn una opcion para hacerlo mas facil a traves de la librería `mean_squared_error`."
   ]
  },
  {
   "cell_type": "code",
   "execution_count": null,
   "metadata": {},
   "outputs": [],
   "source": [
    "from sklearn.metrics import mean_squared_error as mse\n",
    "\n",
    "answers = [623, 253, 150, 237]\n",
    "predictions = [649, 253, 370, 148]\n",
    "\n",
    "mse(answers,predictions)\n"
   ]
  },
  {
   "cell_type": "markdown",
   "metadata": {},
   "source": [
    "Ahora veamoslo con una base de datos"
   ]
  },
  {
   "cell_type": "code",
   "execution_count": null,
   "metadata": {},
   "outputs": [],
   "source": [
    "import pandas as pd\n",
    "from sklearn.metrics import mean_squared_error\n",
    "import numpy as np\n",
    "\n",
    "# Importamos la libreria\n",
    "df = pd.read_csv('D:/Tripleten/datasets/train_data_us.csv')\n",
    "\n",
    "# Definimos nuestra base de entrenamiento y nuestra base de resultados\n",
    "features = df.drop(['last_price'], axis=1)\n",
    "target = df['last_price'] / 100000\n",
    "\n",
    "# Calculamos la prediccion promediando el target\n",
    "predictions = pd.Series(target.mean(), index=target.index)\n",
    "mse = mean_squared_error(target, predictions)\n",
    "\n",
    "print('MSE:', mse)\n",
    "rmse = np.sqrt(mse)\n",
    "print('RMSE:', rmse)"
   ]
  },
  {
   "cell_type": "markdown",
   "metadata": {},
   "source": [
    "A continuación veremos su uso real con los diferentes algoritmos de regresión."
   ]
  },
  {
   "cell_type": "markdown",
   "metadata": {},
   "source": [
    "## Arbol de decision de regresión"
   ]
  },
  {
   "cell_type": "code",
   "execution_count": null,
   "metadata": {},
   "outputs": [],
   "source": [
    "import pandas as pd\n",
    "from sklearn.tree import DecisionTreeRegressor\n",
    "from sklearn.model_selection import train_test_split\n",
    "from sklearn.metrics import mean_squared_error\n",
    "import numpy as np\n",
    "\n",
    "# Importamos nuestra libreria\n",
    "df = pd.read_csv('D:/Tripleten/datasets/train_data_us.csv')\n",
    "\n",
    "# Definimos nuestra base de entrenamiento y nuestro resultado esperado (target/test)\n",
    "train = df.drop(['last_price'], axis=1)\n",
    "test = df['last_price'] / 100000\n",
    "\n",
    "# Segmentamos nuestras bases en dos para poder hacer un comparativo y tener datos de entrenamiento y de valicación (test)\n",
    "x_train, x_test, y_train, y_test = train_test_split(\n",
    "train, test, test_size= 0.25, random_state=12345) # segmenta el 25% de los datos para hacer el conjunto de validación\n",
    "\n",
    "# Para poder iterar en un arbol de regresion, primero definimos las siguientes variables\n",
    "best_model = None\n",
    "best_result = 10000\n",
    "best_depth = 0\n",
    "for depth in range(1, 6): # selecciona el rango del hiperparámetro\n",
    "    model = DecisionTreeRegressor( max_depth = depth ,random_state=12345 )# entrena el modelo en el conjunto de entrenamiento\n",
    "    model.fit(x_train, y_train) # entrena el modelo en el conjunto de entrenamiento\n",
    "    predictions_valid = model.predict(x_test) # obtén las predicciones del modelo en el conjunto de validación\n",
    "    \n",
    "    mse = mean_squared_error(y_test,predictions_valid) # calcula la RECM en el conjunto de validación\n",
    "    recm = np.sqrt(mse)\n",
    "    if recm < best_result:\n",
    "        best_model = model\n",
    "        best_result = recm\n",
    "        best_depth = depth\n",
    "\n",
    "print(f\"RECM del mejor modelo en el conjunto de validación (max_depth = {best_depth}): {best_result}\")"
   ]
  },
  {
   "cell_type": "markdown",
   "metadata": {},
   "source": [
    "A continuación se presenta el mismo ejercicio pero con otro nombre en las variables con el fin de relacionar las diferentes nominaciones."
   ]
  },
  {
   "cell_type": "code",
   "execution_count": null,
   "metadata": {},
   "outputs": [],
   "source": [
    "import pandas as pd\n",
    "from sklearn.tree import DecisionTreeRegressor\n",
    "from sklearn.model_selection import train_test_split\n",
    "from sklearn.metrics import mean_squared_error\n",
    "\n",
    "df = pd.read_csv('D:/Tripleten/datasets/train_data_us.csv')\n",
    "\n",
    "features = df.drop(['last_price'], axis=1)\n",
    "target = df['last_price'] / 1000000\n",
    "\n",
    "# En este caso las nombramos features y target en lugar de x_train y y_train\n",
    "features_train, features_valid, target_train, target_valid = train_test_split(\n",
    "    features, target, test_size=0.25, random_state=12345) # segmenta el 25% de los datos para hacer el conjunto de validación\n",
    "\n",
    "best_model = None\n",
    "best_result = 10000\n",
    "best_depth = 0\n",
    "for depth in range(1, 6): # selecciona el rango del hiperparámetro\n",
    "    model = DecisionTreeRegressor(max_depth=depth, random_state=12345) # inicializa el constructor de modelos con los parámetros random_state=12345 y max_depth=depth\n",
    "    model.fit(features_train, target_train) # entrena el modelo en el conjunto de entrenamiento\n",
    "    predictions_valid = model.predict(features_valid) # obtén las predicciones del modelo en el conjunto de validación\n",
    "    result = mean_squared_error(target_valid, predictions_valid)**0.5 # calcula la RECM en el conjunto de validación\n",
    "    if result < best_result:\n",
    "        best_model = model\n",
    "        best_result = result\n",
    "        best_depth = depth\n",
    "\n",
    "print(f\"RECM del mejor modelo en el conjunto de validación (max_depth = {best_depth}): {best_result}\")"
   ]
  },
  {
   "cell_type": "markdown",
   "metadata": {},
   "source": [
    "Ahora procederemos al siguiente algoritmo de regresion.\n",
    "\n",
    "## Bosque Aleatorio de Regresión\n",
    "\n",
    "El bosque aleatorio de regresión no difiere mucho del de clasificación. Lo que hace es entrenar a un grupo de árboles independientes y luego promedia sus respuestas para tomar una decisión.\n",
    "\n",
    "Se trabaja bastante similar al Bosque aleatorio de clasificación, con unas pequeñas diferencias:\n",
    "\n",
    "- El objetivo (o test) lo definiremos con resultado numérico.\n",
    "- Usaremos el mse() en lugar del accuracy_score()"
   ]
  },
  {
   "cell_type": "code",
   "execution_count": null,
   "metadata": {},
   "outputs": [],
   "source": [
    "import pandas as pd\n",
    "import numpy as np\n",
    "from sklearn.ensemble import RandomForestRegressor\n",
    "from sklearn.model_selection import train_test_split\n",
    "from sklearn.metrics import mean_squared_error\n",
    "\n",
    "# Importo la tabla de pandas\n",
    "df = pd.read_csv('D:/Tripleten/datasets/train_data_us.csv')\n",
    "\n",
    "train = df.drop('last_price', axis=1)\n",
    "test = df['last_price'] / 100000\n",
    "\n",
    "x_train, x_test, y_train, y_test = train_test_split(train,test, test_size=0.25 , random_state=54321)\n",
    "\n",
    "best_error = 10000\n",
    "best_est = 0\n",
    "best_depth = 0\n",
    "\n",
    "for est in range(10,201,10):\n",
    "    for depth in range( 1 , 11):\n",
    "        model = RandomForestRegressor(n_estimators= est, max_depth = depth, random_state=54321)\n",
    "        model.fit(x_train, y_train)\n",
    "        predictions_valid = model.predict(x_test)\n",
    "        mse = mean_squared_error(y_test, predictions_valid)\n",
    "        rmse = np.sqrt(mse)\n",
    "        print(\"Validación rmse para los n_estimators de\", est, \", depth=\", depth, \"is\", rmse)\n",
    "        if rmse < best_error:\n",
    "            best_error = rmse\n",
    "            best_est = est\n",
    "            best_depth = depth\n",
    "\n",
    "print(\"RMSE del mejor modelo en el conjunto de validación:\", best_error, \"n_estimators:\", best_est, \"best_depth:\", best_depth)\n"
   ]
  },
  {
   "cell_type": "markdown",
   "metadata": {},
   "source": [
    "Volvamos a resolver el ejemplo anterior pero variando los nombres de las variables para entender mejor su significado"
   ]
  },
  {
   "cell_type": "code",
   "execution_count": null,
   "metadata": {},
   "outputs": [],
   "source": [
    "import pandas as pd\n",
    "from sklearn.ensemble import RandomForestRegressor\n",
    "from sklearn.metrics import mean_squared_error\n",
    "from sklearn.model_selection import train_test_split\n",
    "\n",
    "df = pd.read_csv('D:/Tripleten/datasets/train_data_us.csv')\n",
    "\n",
    "df_train, df_valid = train_test_split(df, test_size=0.25, random_state=54321)\n",
    "\n",
    "features_train = df_train.drop(['last_price'], axis=1)\n",
    "target_train = df_train['last_price'] / 100000\n",
    "features_valid = df_valid.drop(['last_price'], axis=1)\n",
    "target_valid = df_valid['last_price'] / 100000\n",
    "\n",
    "best_error = 10000\n",
    "best_est = 0\n",
    "best_depth = 0\n",
    "for est in range(10, 51, 10):\n",
    "    for depth in range (1, 11):\n",
    "        model = RandomForestRegressor(random_state=54321, n_estimators=est, max_depth=depth)\n",
    "        model.fit(features_train, target_train)\n",
    "        predictions_valid = model.predict(features_valid)\n",
    "        error = mean_squared_error(target_valid, predictions_valid)**0.5\n",
    "        # print(\"Validación de RECM para los n_estimators de\", est, \", depth=\", depth, \"es\", error)\n",
    "        if error < best_error:\n",
    "            best_error = error\n",
    "            best_est = est\n",
    "            best_depth = depth\n",
    "\n",
    "print(\"RECM del mejor modelo en el conjunto de validación:\", best_error, \"n_estimators:\", best_est, \"best_depth:\", best_depth)\n"
   ]
  },
  {
   "cell_type": "markdown",
   "metadata": {},
   "source": [
    "## Regresion Lineal\n",
    "\n",
    "La idea general de la regresión lineal es que hay una sencilla ecuación lineal que describe cómo un determinado parámetro define el output. Es un método utilizado para modelar la relación entre una variable dependiente y una o más variables independientes al aproximar esta relación con una función lineal.\n",
    "\n",
    "En resumen, LinearRegression de sklearn proporciona una forma conveniente de ajustar modelos de regresión lineal y realizar predicciones basadas en esos modelos en Python."
   ]
  },
  {
   "cell_type": "code",
   "execution_count": null,
   "metadata": {},
   "outputs": [],
   "source": [
    "import pandas as pd\n",
    "from sklearn.linear_model import LinearRegression\n",
    "from sklearn.model_selection import train_test_split\n",
    "from sklearn.metrics import mean_squared_error\n",
    "import numpy as np\n",
    "\n",
    "df = pd.read_csv('D:/Tripleten/datasets/train_data_us.csv')\n",
    "\n",
    "features = df.drop('last_price', axis=1)\n",
    "target = df['last_price']/100000\n",
    "\n",
    "features_train, features_valid, target_train, target_valid = train_test_split(\n",
    "    features,target, test_size=0.25 , random_state=12345) # segmenta el 25% de los datos para hacer el conjunto de validación\n",
    "\n",
    "model = LinearRegression()\n",
    "model.fit(features_train,target_train) # entrena el modelo en el conjunto de entrenamiento\n",
    "predictions_valid = model.predict(features_valid) # obtén las predicciones del modelo en el conjunto de validación\n",
    "mse = mean_squared_error(target_valid, predictions_valid)\n",
    "result = np.sqrt(mse)\n",
    "print(\"RECM del modelo de regresión lineal en el conjunto de validación:\", result)\n"
   ]
  },
  {
   "cell_type": "code",
   "execution_count": null,
   "metadata": {},
   "outputs": [],
   "source": [
    "import pandas as pd\n",
    "from sklearn.tree import DecisionTreeRegressor # importa el modelo que escogiste desde este módulo\n",
    "\n",
    "# df = pd.read_csv('/datasets/train_data_us.csv')\n",
    "\n",
    "\n",
    "# inicializa las variables\n",
    "x_train = df.drop(columns=['last_price']) \n",
    "x_test = df['last_price']\n",
    "\n",
    "\n",
    "final_model = DecisionTreeRegressor( max_depth=3 , random_state =54321 )# inicializa el constructor para el modelo que tenía el mejor valor de RECM\n",
    "final_model.fit(x_train,x_test) # entrena el modelo en el conjunto de entrenamiento\n",
    "\n"
   ]
  },
  {
   "cell_type": "code",
   "execution_count": null,
   "metadata": {},
   "outputs": [],
   "source": [
    "import pandas as pd\n",
    "from sklearn.tree import DecisionTreeRegressor\n",
    "from sklearn.metrics import mean_squared_error\n",
    "import numpy as np\n",
    "\n",
    "df = pd.read_csv('D:/Tripleten/datasets/train_data_us.csv')\n",
    "\n",
    "# inicializa las variables\n",
    "x_train = df.drop(columns=['last_price']) \n",
    "x_test = df['last_price']/100000\n",
    "\n",
    "final_model = DecisionTreeRegressor( max_depth=10 , random_state =54321 )# inicializa el constructor para el modelo que tenía el mejor valor de RECM\n",
    "\n",
    "final_model.fit(x_train,x_test) # entrena el modelo en el conjunto de entrenamiento\n",
    "predictions = final_model.predict(x_train)\n",
    "mse = mean_squared_error(x_test, predictions)\n",
    "rmse = np.sqrt(mse)\n",
    "\n",
    "print(rmse)"
   ]
  },
  {
   "cell_type": "code",
   "execution_count": null,
   "metadata": {},
   "outputs": [],
   "source": [
    "import pandas as pd\n",
    "from sklearn.ensemble import RandomForestRegressor\n",
    "from sklearn.metrics import mean_squared_error\n",
    "\n",
    "df = pd.read_csv('D:/Tripleten/datasets/train_data_us.csv')\n",
    "\n",
    "# inicializa las variables\n",
    "x_train = df.drop(columns=['last_price']) \n",
    "x_test = df['last_price']/100000\n",
    "\n",
    "final_model = RandomForestRegressor(n_estimators=100 ,max_depth=10 , random_state =54321 )# inicializa el constructor para el modelo que tenía el mejor valor de RECM\n",
    "\n",
    "best_est = 0\n",
    "best_depth = 0\n",
    "best_rmse = 10000\n",
    "\n",
    "for est in range(1 , 100):\n",
    "    for depth in range(1 ,10 ):\n",
    "        model.fit(x_train,x_test)\n",
    "        predictions = model.predict(x_train)\n",
    "        mse = mean_squared_error(x_test ,predictions)\n",
    "        rmse = mse**0.5\n",
    "        print(\"Actual:\", rmse, \"n_estimators:\", est, \"best_depth:\", depth)\n",
    "\n",
    "        if rmse < best_rmse:\n",
    "            best_est = est\n",
    "            best_depth = depth\n",
    "            best_rmse = rmse\n",
    "\n",
    "print(\"RECM del mejor modelo en el conjunto de validación:\", best_rmse, \"n_estimators:\", best_est, \"best_depth:\", best_depth)"
   ]
  },
  {
   "cell_type": "code",
   "execution_count": null,
   "metadata": {},
   "outputs": [],
   "source": [
    "import pandas as pd\n",
    "from sklearn.ensemble import RandomForestRegressor\n",
    "from sklearn.metrics import mean_squared_error\n",
    "\n",
    "df = pd.read_csv('D:/Tripleten/datasets/train_data_us.csv')\n",
    "\n",
    "# inicializa las variables\n",
    "x_train = df.drop(columns=['last_price']) \n",
    "x_test = df['last_price']/100000\n",
    "\n",
    "final_model = RandomForestRegressor(n_estimators=40 , random_state = 54321 )# inicializa el constructor para el modelo que tenía el mejor valor de RECM\n",
    "model.fit(x_train,x_test)\n",
    "predictions = model.predict(x_train)\n",
    "mse = mean_squared_error(x_test ,predictions)\n",
    "rmse = mse**0.5\n",
    "\n",
    "print(\"RECM del mejor modelo en el conjunto de validación:\", best_rmse, \"n_estimators:\", best_est, \"best_depth:\", best_depth)"
   ]
  },
  {
   "cell_type": "code",
   "execution_count": null,
   "metadata": {},
   "outputs": [],
   "source": [
    "import pandas as pd\n",
    "from sklearn.metrics import mean_squared_error\n",
    "from sklearn.ensemble import RandomForestRegressor\n",
    "\n",
    "df = pd.read_csv('D:/Tripleten/datasets/train_data_us.csv')\n",
    "\n",
    "features = df.drop(['last_price'], axis=1)\n",
    "target = df['last_price'] / 100000\n",
    "\n",
    "final_model = RandomForestRegressor(random_state=54321, n_estimators=40)\n",
    "final_model.fit(features, target)\n",
    "\n",
    "predictions = final_model.predict(features)\n",
    "result = mean_squared_error(target, predictions)**0.5 \n",
    "print(result)"
   ]
  }
 ],
 "metadata": {
  "kernelspec": {
   "display_name": "Python 3",
   "language": "python",
   "name": "python3"
  },
  "language_info": {
   "codemirror_mode": {
    "name": "ipython",
    "version": 3
   },
   "file_extension": ".py",
   "mimetype": "text/x-python",
   "name": "python",
   "nbconvert_exporter": "python",
   "pygments_lexer": "ipython3",
   "version": "3.12.0"
  }
 },
 "nbformat": 4,
 "nbformat_minor": 2
}
