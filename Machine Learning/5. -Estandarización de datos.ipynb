{
 "cells": [
  {
   "cell_type": "markdown",
   "metadata": {},
   "source": [
    "The Standard Scaler standarize the númeric values."
   ]
  },
  {
   "cell_type": "code",
   "execution_count": 1,
   "metadata": {},
   "outputs": [
    {
     "name": "stdout",
     "output_type": "stream",
     "text": [
      "      Agency    Agency Type Distribution Channel              Product Name  \\\n",
      "33312    EPX  Travel Agency               Online         Cancellation Plan   \n",
      "50154    EPX  Travel Agency               Online         Cancellation Plan   \n",
      "26729    EPX  Travel Agency               Online         Cancellation Plan   \n",
      "37842    EPX  Travel Agency               Online  2 way Comprehensive Plan   \n",
      "23588    EPX  Travel Agency               Online  2 way Comprehensive Plan   \n",
      "\n",
      "       Duration Destination  Net Sales  Commission (in value) Gender       Age  \n",
      "33312  0.243485       CHINA  -0.513068              -0.500631    NaN -0.283389  \n",
      "50154 -0.266879   SINGAPORE  -0.554403              -0.500631    NaN -0.283389  \n",
      "26729 -0.329555    MALAYSIA  -0.637074              -0.500631    NaN -0.709982  \n",
      "37842 -0.069896    THAILAND   0.065625              -0.500631    NaN -0.354488  \n",
      "23588 -0.374324    MALAYSIA  -0.430398              -0.500631    NaN -0.425587  \n"
     ]
    }
   ],
   "source": [
    "import pandas as pd\n",
    "from sklearn.model_selection import train_test_split\n",
    "from sklearn.preprocessing import StandardScaler\n",
    "\n",
    "data = pd.read_csv('D:/Tripleten/datasets/travel_insurance_us.csv')\n",
    "\n",
    "target = data['Claim']\n",
    "features = data.drop('Claim', axis=1)\n",
    "features_train, features_valid, target_train, target_valid = train_test_split(\n",
    "    features, target, test_size=0.25, random_state=12345\n",
    ")\n",
    "\n",
    "numeric = ['Duration', 'Net Sales', 'Commission (in value)', 'Age']\n",
    "\n",
    "scaler = StandardScaler()\n",
    "scaler.fit(features_train[numeric])\n",
    "features_train[numeric] = scaler.transform(features_train[numeric])\n",
    "features_valid[numeric] = scaler.transform(features_valid[numeric])\n",
    "print(features_train.head())\n"
   ]
  },
  {
   "cell_type": "code",
   "execution_count": 26,
   "metadata": {},
   "outputs": [
    {
     "name": "stdout",
     "output_type": "stream",
     "text": [
      "       Duration  Net Sales  Commission (in value)       Age  Agency_ART  \\\n",
      "33312  0.243485  -0.513068              -0.500631 -0.283389       False   \n",
      "50154 -0.266879  -0.554403              -0.500631 -0.283389       False   \n",
      "26729 -0.329555  -0.637074              -0.500631 -0.709982       False   \n",
      "37842 -0.069896   0.065625              -0.500631 -0.354488       False   \n",
      "23588 -0.374324  -0.430398              -0.500631 -0.425587       False   \n",
      "\n",
      "       Agency_C2B  Agency_CBH  Agency_CCR  Agency_CSR  Agency_CWT  ...  \\\n",
      "33312       False       False       False       False       False  ...   \n",
      "50154       False       False       False       False       False  ...   \n",
      "26729       False       False       False       False       False  ...   \n",
      "37842       False       False       False       False       False  ...   \n",
      "23588       False       False       False       False       False  ...   \n",
      "\n",
      "       Destination_URUGUAY  Destination_UZBEKISTAN  Destination_VANUATU  \\\n",
      "33312                False                   False                False   \n",
      "50154                False                   False                False   \n",
      "26729                False                   False                False   \n",
      "37842                False                   False                False   \n",
      "23588                False                   False                False   \n",
      "\n",
      "       Destination_VENEZUELA  Destination_VIET NAM  Destination_ZAMBIA  \\\n",
      "33312                  False                 False               False   \n",
      "50154                  False                 False               False   \n",
      "26729                  False                 False               False   \n",
      "37842                  False                 False               False   \n",
      "23588                  False                 False               False   \n",
      "\n",
      "       Destination_ZIMBABWE  Destination_nan  Gender_M  Gender_nan  \n",
      "33312                 False            False     False        True  \n",
      "50154                 False            False     False        True  \n",
      "26729                 False            False     False        True  \n",
      "37842                 False            False     False        True  \n",
      "23588                 False            False     False        True  \n",
      "\n",
      "[5 rows x 193 columns]\n"
     ]
    }
   ],
   "source": [
    "# Importing the libraries\n",
    "import pandas as pd\n",
    "from sklearn.model_selection import train_test_split\n",
    "from sklearn.preprocessing import StandardScaler\n",
    "\n",
    "# Importing the dataset\n",
    "data = pd.read_csv('D:/Tripleten/datasets/travel_insurance_us.csv')\n",
    "\n",
    "# Encoding categoric values into binaries\n",
    "data_ohe = pd.get_dummies(data, drop_first=True, dummy_na=True)\n",
    "\n",
    "features = data_ohe.drop(columns='Claim')\n",
    "target = data_ohe['Claim']\n",
    "\n",
    "# Creating a validation and training dataset\n",
    "x_train, x_val, y_train, y_val = train_test_split(features, target, test_size= 0.25, random_state=12345)\n",
    "\n",
    "# Extracting the columns with int and float values\n",
    "numeric = features.select_dtypes(include=['int','float']).columns\n",
    "\n",
    "# Escalating the numeric values\n",
    "scaler = StandardScaler()\n",
    "scaler.fit(x_train[numeric])\n",
    "\n",
    "# Transforming and passing the values into the features and target\n",
    "x_train[numeric] = scaler.transform(x_train[numeric])\n",
    "x_val[numeric] = scaler.transform(x_val[numeric])\n",
    "\n",
    "print(x_train.head())"
   ]
  },
  {
   "cell_type": "code",
   "execution_count": 1,
   "metadata": {},
   "outputs": [
    {
     "name": "stdout",
     "output_type": "stream",
     "text": [
      "0        0\n",
      "1        0\n",
      "2        0\n",
      "3        0\n",
      "4        0\n",
      "        ..\n",
      "50655    0\n",
      "50656    0\n",
      "50657    0\n",
      "50658    0\n",
      "50659    0\n",
      "Name: Claim, Length: 50660, dtype: int64\n"
     ]
    }
   ],
   "source": [
    "import pandas as pd\n",
    "from sklearn.metrics import accuracy_score\n",
    "\n",
    "data = pd.read_csv('D:/Tripleten/datasets/travel_insurance_us_preprocessed.csv')\n",
    "\n",
    "target = data['Claim']\n",
    "features = data.drop('Claim', axis=1)\n",
    "\n",
    "target_pred_constant = data['Claim'].replace(data['Claim'].values, 0)\n",
    "print(target_pred_constant)"
   ]
  }
 ],
 "metadata": {
  "kernelspec": {
   "display_name": "Python 3",
   "language": "python",
   "name": "python3"
  },
  "language_info": {
   "codemirror_mode": {
    "name": "ipython",
    "version": 3
   },
   "file_extension": ".py",
   "mimetype": "text/x-python",
   "name": "python",
   "nbconvert_exporter": "python",
   "pygments_lexer": "ipython3",
   "version": "3.12.0"
  }
 },
 "nbformat": 4,
 "nbformat_minor": 2
}
