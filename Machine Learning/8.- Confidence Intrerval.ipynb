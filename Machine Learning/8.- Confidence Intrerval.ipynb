{
 "cells": [
  {
   "cell_type": "code",
   "execution_count": null,
   "metadata": {},
   "outputs": [],
   "source": [
    "Confidence Interval\n",
    "\n"
   ]
  },
  {
   "cell_type": "markdown",
   "metadata": {},
   "source": [
    "## Cálculo del Intervalo de Confianza\n",
    "Para construir un intervalo de confianza del 90% alrededor de la media poblacional, se utilizan los percentiles de la distribución normal estándar. Específicamente, se toman los valores correspondientes a los percentiles 5% y 95% (denotados como F(0.05) y F(0.95)), y se multiplican por el error estándar de la media para obtener los límites inferiores y superiores del intervalo de confianza.\n",
    "\n",
    "## Error Estándar de la Media (SEM)\n",
    "Es la desviación estándar de la distribución de las medias muestrales. Se calcula dividiendo la desviación estándar de la población por la raíz cuadrada del tamaño de la muestra. Cuanto mayor sea el tamaño de la muestra, menor será el error estándar y más precisa será la estimación.\n",
    "\n"
   ]
  },
  {
   "cell_type": "markdown",
   "metadata": {},
   "source": [
    "Es posible simplificar el cálculo utilizando la distribución de Student scipy.stats.t. Tiene una función para el intervalo de confianza, interval(), que toma:\n",
    "\n",
    "- alpha: nivel de significación\n",
    "- df: número de grados de libertad (igual a n - 1)\n",
    "- loc (de localización): la distribución media igual a la estimación media. Para la muestra, se calcula del modo siguiente: sample.mean()\n",
    "- scale: el error estándar de la distribución igual a la estimación del error estándar. Se calcula de la siguiente manera: sample.sem()."
   ]
  },
  {
   "cell_type": "code",
   "execution_count": 1,
   "metadata": {},
   "outputs": [
    {
     "name": "stdout",
     "output_type": "stream",
     "text": [
      "Media: 470.5285714285714\n",
      "Intervalo de confianza del 95 %: (463.357753651609, 477.6993892055338)\n"
     ]
    }
   ],
   "source": [
    "import pandas as pd\n",
    "from scipy import stats as st\n",
    "\n",
    "sample = pd.Series([\n",
    "    439, 518, 452, 505, 493, 470, 498, 442, 497, \n",
    "    423, 524, 442, 459, 452, 463, 488, 497, 500,\n",
    "    476, 501, 456, 425, 438, 435, 516, 453, 505, \n",
    "    441, 477, 469, 497, 502, 442, 449, 465, 429,\n",
    "    442, 472, 466, 431, 490, 475, 447, 435, 482, \n",
    "    434, 525, 510, 494, 493, 495, 499, 455, 464,\n",
    "    509, 432, 476, 438, 512, 423, 428, 499, 492, \n",
    "    493, 467, 493, 468, 420, 513, 427])\n",
    "\n",
    "print('Media:', sample.mean())\n",
    "\n",
    "confidence_interval = st.t.interval(0.95,df=sample.count()-1,loc=sample.mean(), scale= sample.sem())\n",
    "\n",
    "print('Intervalo de confianza del 95 %:', confidence_interval)"
   ]
  },
  {
   "cell_type": "markdown",
   "metadata": {},
   "source": [
    "La función sample.sem() se refiere al método para calcular el error estándar de la media (SEM) a partir de una muestra de datos. La SEM es una medida de cuánto varía la media muestral de una muestra a otra. Es especialmente útil cuando estamos tratando de estimar la precisión de la media muestral como una estimación de la media poblacional."
   ]
  },
  {
   "cell_type": "markdown",
   "metadata": {},
   "source": [
    "## Bootstrapping\n",
    "\n",
    "El bootstrapping es una técnica de remuestreo que se utiliza en estadística para estimar la distribución de una estadística de interés (como la media, la mediana, la varianza, etc.) a partir de una muestra de datos. Esta técnica es particularmente útil cuando no se conocen las distribuciones teóricas de los datos o cuando se dispone de una muestra pequeña.\n",
    "\n",
    "El proceso básico del bootstrapping implica lo siguiente:\n",
    "\n",
    "- Tomar una muestra de datos con reemplazo de la muestra original. Esto significa que los elementos de la muestra original se pueden seleccionar más de una vez y también pueden no ser seleccionados en absoluto en la muestra de bootstrap resultante.\n",
    "- Calcular la estadística de interés (por ejemplo, la media, la mediana, etc.) para cada muestra de bootstrap generada en el paso anterior.\n",
    "- Repetir los pasos 1 y 2 muchas veces (generalmente miles de veces) para obtener una distribución empírica de la estadística de interés.\n",
    "- Utilizar esta distribución empírica para estimar intervalos de confianza, realizar pruebas de hipótesis u otros análisis estadísticos.\n",
    "\n",
    "El bootstrapping es una técnica poderosa y flexible que se puede aplicar a una amplia variedad de problemas en estadística y ciencia de datos. Permite obtener estimaciones precisas de la incertidumbre asociada con una estadística de interés sin hacer suposiciones fuertes sobre la distribución de los datos subyacentes.\n",
    "\n",
    "\n",
    "Para formar submuestras usaremos dt.sample(# muestras, random_state=1234)"
   ]
  },
  {
   "cell_type": "code",
   "execution_count": 112,
   "metadata": {},
   "outputs": [
    {
     "name": "stdout",
     "output_type": "stream",
     "text": [
      "19.01, 20.85\n"
     ]
    }
   ],
   "source": [
    "import pandas as pd\n",
    "import numpy as np\n",
    "\n",
    "data = pd.Series([\n",
    "    10.7 ,  9.58,  7.74,  8.3 , 11.82,  9.74, 10.18,  8.43,  8.71,\n",
    "     6.84,  9.26, 11.61, 11.08,  8.94,  8.44, 10.41,  9.36, 10.85,\n",
    "    10.41,  8.37,  8.99, 10.17,  7.78, 10.79, 10.61, 10.87,  7.43,\n",
    "     8.44,  9.44,  8.26,  7.98, 11.27, 11.61,  9.84, 12.47,  7.8 ,\n",
    "    10.54,  8.99,  7.33,  8.55,  8.06, 10.62, 10.41,  9.29,  9.98,\n",
    "     9.46,  9.99,  8.62, 11.34, 11.21, 15.19, 20.85, 19.15, 19.01,\n",
    "    15.24, 16.66, 17.62, 18.22, 17.2 , 15.76, 16.89, 15.22, 18.7 ,\n",
    "    14.84, 14.88, 19.41, 18.54, 17.85, 18.31, 13.68, 18.46, 13.99,\n",
    "    16.38, 16.88, 17.82, 15.17, 15.16, 18.15, 15.08, 15.91, 16.82,\n",
    "    16.85, 18.04, 17.51, 18.44, 15.33, 16.07, 17.22, 15.9 , 18.03,\n",
    "    17.26, 17.6 , 16.77, 17.45, 13.73, 14.95, 15.57, 19.19, 14.39,\n",
    "    15.76])\n",
    "\n",
    "state = np.random.RandomState(12345)\n",
    "\n",
    "\n",
    "# Valores para el cuantil del 99% en la variable valores\n",
    "conf_int_values = []\n",
    "\n",
    "#Obteniendo el intervalo de confianza / Confidence interval del 99%\n",
    "for i in range(1000):\t\n",
    "\tsubsample = data.sample(frac=1, replace=True, random_state=state) #tambien se puede usar el parametro fraq=1 para especificar que queremos #la misma longitud de la base origina (100%)\n",
    "\tquantile = subsample.quantile(0.99)\n",
    "\tconf_int_values.append(quantile)\n",
    "\n",
    "# Con los datos obtenidos, crearemos una Serie y sacaremos el valor mayor y menor (percentiles)\n",
    "values = pd.Series(conf_int_values)\n",
    "lower = values.quantile(0.05)\n",
    "upper = values.quantile(0.95)\n",
    "\n",
    "confidence_interval =f'{lower:.2f}, {upper:.2f}'\n",
    "\n",
    "print(confidence_interval)\n"
   ]
  },
  {
   "cell_type": "code",
   "execution_count": null,
   "metadata": {},
   "outputs": [],
   "source": []
  }
 ],
 "metadata": {
  "kernelspec": {
   "display_name": "Python 3",
   "language": "python",
   "name": "python3"
  },
  "language_info": {
   "codemirror_mode": {
    "name": "ipython",
    "version": 3
   },
   "file_extension": ".py",
   "mimetype": "text/x-python",
   "name": "python",
   "nbconvert_exporter": "python",
   "pygments_lexer": "ipython3",
   "version": "3.12.0"
  }
 },
 "nbformat": 4,
 "nbformat_minor": 2
}
