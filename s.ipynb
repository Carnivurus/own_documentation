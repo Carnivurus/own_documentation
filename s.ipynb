{
 "cells": [
  {
   "cell_type": "code",
   "execution_count": 15,
   "metadata": {},
   "outputs": [],
   "source": [
    "def increase(elements):\n",
    "    n = len(elements)\n",
    "    vals = []\n",
    "    for i in range(n):\n",
    "        elements[i] += 1\n",
    "    return elements"
   ]
  },
  {
   "cell_type": "code",
   "execution_count": 14,
   "metadata": {},
   "outputs": [
    {
     "data": {
      "text/plain": [
       "[2, 2, 3, 4, 6]"
      ]
     },
     "execution_count": 14,
     "metadata": {},
     "output_type": "execute_result"
    }
   ],
   "source": [
    "increase([1,1,2,3,5])"
   ]
  },
  {
   "cell_type": "code",
   "execution_count": 16,
   "metadata": {},
   "outputs": [
    {
     "name": "stdout",
     "output_type": "stream",
     "text": [
      "Resultado de la multiplicación de la matriz por el vector: [14, 32, 50]\n"
     ]
    }
   ],
   "source": [
    "def matriz_por_vector(matriz, vector):\n",
    "    n = len(matriz)  # Toma la longitud de una fila de la matriz, que también es el tamaño de la matriz\n",
    "    resultado = [0] * n  # Inicializa un vector de resultados de tamaño n\n",
    "    \n",
    "    # Recorre cada fila de la matriz\n",
    "    for i in range(n):\n",
    "        # Inicializa el producto punto de la fila de la matriz con el vector\n",
    "        producto_punto = 0\n",
    "        # Realiza el producto punto de la fila de la matriz con el vector\n",
    "        for j in range(n):\n",
    "            producto_punto += matriz[i][j] * vector[j]\n",
    "        # Almacena el resultado del producto punto en la posición correspondiente del vector de resultados\n",
    "        resultado[i] = producto_punto\n",
    "    \n",
    "    return resultado\n",
    "\n",
    "# Ejemplo de uso\n",
    "matriz = [[1, 2, 3],\n",
    "          [4, 5, 6],\n",
    "          [7, 8, 9]]\n",
    "\n",
    "vector = [1, 2, 3]\n",
    "\n",
    "resultado = matriz_por_vector(matriz, vector)\n",
    "print(\"Resultado de la multiplicación de la matriz por el vector:\", resultado)\n"
   ]
  },
  {
   "cell_type": "code",
   "execution_count": 26,
   "metadata": {},
   "outputs": [],
   "source": [
    "matriz = [[1, 2, 3],\n",
    "          [4, 5, 6],\n",
    "          [7, 8, 9]]\n",
    "\n",
    "vector = [1, 2, 3]\n",
    "\n",
    "\n",
    "\n",
    "def analisis(matriz, vector):\n",
    "    n = len(matriz)\n",
    "    for i in range(n):\n",
    "        for j in range(n):\n",
    "            print(i,j)"
   ]
  },
  {
   "cell_type": "code",
   "execution_count": 27,
   "metadata": {},
   "outputs": [
    {
     "name": "stdout",
     "output_type": "stream",
     "text": [
      "0 0\n",
      "0 1\n",
      "0 2\n",
      "1 0\n",
      "1 1\n",
      "1 2\n",
      "2 0\n",
      "2 1\n",
      "2 2\n"
     ]
    }
   ],
   "source": [
    "analisis(matriz,vector)"
   ]
  },
  {
   "cell_type": "code",
   "execution_count": 33,
   "metadata": {},
   "outputs": [
    {
     "data": {
      "text/plain": [
       "1"
      ]
     },
     "execution_count": 33,
     "metadata": {},
     "output_type": "execute_result"
    }
   ],
   "source": [
    "matriz[0][0] * vector[0]\n",
    "vector[0]"
   ]
  },
  {
   "cell_type": "code",
   "execution_count": 37,
   "metadata": {},
   "outputs": [
    {
     "data": {
      "text/plain": [
       "array([[ 30,  36,  42,  19],\n",
       "       [ 66,  81,  96,  46],\n",
       "       [102, 126, 150,  73],\n",
       "       [102, 126, 150,  73]])"
      ]
     },
     "execution_count": 37,
     "metadata": {},
     "output_type": "execute_result"
    }
   ],
   "source": [
    "import numpy as np\n",
    "\n",
    "matriz2 = np.array([[1, 2, 3],\n",
    "          [4, 5, 6],\n",
    "          [7, 8, 9],\n",
    "          [7, 8, 9]])\n",
    "\n",
    "matriz3 = np.array([[1, 2, 3,3],\n",
    "          [4, 5, 6,2],\n",
    "          [7, 8, 9,4]])\n",
    "\n",
    "\n",
    "matriz2 @ matriz3"
   ]
  },
  {
   "cell_type": "markdown",
   "metadata": {},
   "source": [
    "Voy a explicar cómo se calcula el discriminante en este caso.\n",
    "\n",
    "El discriminante de una ecuación cuadrática de la forma $ax^2 + bx + c = 0$ se calcula como $\\Delta = b^2 - 4ac$.\n",
    "\n",
    "En la ecuación cuadrática dada, $x^2 - x - 2 = 0$, los coeficientes son: $a = 1$, $b = -1$ y $c = -2$.\n",
    "\n",
    "Entonces, sustituimos estos valores en la fórmula del discriminante:\n",
    "\n",
    "Δ\n",
    "=\n",
    "(\n",
    "−\n",
    "1\n",
    ")\n",
    "2\n",
    "−\n",
    "4\n",
    "(\n",
    "1\n",
    ")\n",
    "(\n",
    "−\n",
    "2\n",
    ")\n",
    "Δ=(−1) \n",
    "2\n",
    " −4(1)(−2)\n",
    "\n",
    "Simplificamos:\n",
    "\n",
    "Δ\n",
    "=\n",
    "1\n",
    "+\n",
    "8\n",
    "=\n",
    "9\n",
    "Δ=1+8=9\n",
    "\n",
    "Por lo tanto, el discriminante de la ecuación cuadrática dada es 9.\n",
    "\n",
    "El discriminante nos da información sobre la naturaleza de las raíces de la ecuación. Si el discriminante es positivo, la ecuación tiene dos raíces reales distintas. Si es cero, la ecuación tiene una raíz real doble. Y si es negativo, las raíces son complejas conjugadas. En este caso, como el discriminante es 9, la ecuación tiene dos raíces reales distintas."
   ]
  },
  {
   "cell_type": "code",
   "execution_count": 28,
   "metadata": {},
   "outputs": [],
   "source": [
    "from math import log10\n",
    "\n",
    "y=  [0,0,1,1,0]\n",
    "a = (0.2,0.4,0.6,0.8,1)\n",
    "\n",
    "\n",
    "def prob_loss(y,a):\n",
    "    vals= []\n",
    "    for i in range(len(y)):\n",
    "        if y[i] == 1:\n",
    "            vals.append(log10(a[i]))\n",
    "        if y[i] == 0:\n",
    "            x = 1-a[i]\n",
    "            vals.append(log10(x))\n",
    "    return sum(vals)\n",
    "    "
   ]
  },
  {
   "cell_type": "code",
   "execution_count": 29,
   "metadata": {},
   "outputs": [],
   "source": [
    "\n",
    "# prob_loss(y,a)"
   ]
  },
  {
   "cell_type": "code",
   "execution_count": 32,
   "metadata": {},
   "outputs": [],
   "source": [
    "import numpy as np\n",
    "import matplotlib.pyplot as plt\n",
    "import  as sym\n",
    "from sklearn.linear_model import LinearRegression"
   ]
  },
  {
   "cell_type": "code",
   "execution_count": 33,
   "metadata": {},
   "outputs": [],
   "source": [
    "experiencia = np.array([5,6,13])\n",
    "salario = np.array([6.85,16.83, 26.84])\n"
   ]
  },
  {
   "cell_type": "code",
   "execution_count": 36,
   "metadata": {},
   "outputs": [],
   "source": [
    "model = LinearRegression().fit(experiencia.reshape(3,-1), salario)\n",
    "model.predict()"
   ]
  },
  {
   "cell_type": "code",
   "execution_count": 46,
   "metadata": {},
   "outputs": [
    {
     "name": "stdout",
     "output_type": "stream",
     "text": [
      "2*y**2 - 5\n"
     ]
    }
   ],
   "source": [
    "\n",
    "\n",
    "\n",
    "\n"
   ]
  }
 ],
 "metadata": {
  "kernelspec": {
   "display_name": "Python 3",
   "language": "python",
   "name": "python3"
  },
  "language_info": {
   "codemirror_mode": {
    "name": "ipython",
    "version": 3
   },
   "file_extension": ".py",
   "mimetype": "text/x-python",
   "name": "python",
   "nbconvert_exporter": "python",
   "pygments_lexer": "ipython3",
   "version": "3.12.2"
  }
 },
 "nbformat": 4,
 "nbformat_minor": 2
}
