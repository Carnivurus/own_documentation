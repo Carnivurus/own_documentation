{
 "cells": [
  {
   "cell_type": "markdown",
   "metadata": {},
   "source": [
    "En el camino del analista observaremos terminos como Varianza, Covarianza y desviación standard, será necesario siempre conocer la teoría pero en resumen python recibe los elementos con la libreria numpy de la siguiente manera"
   ]
  },
  {
   "cell_type": "code",
   "execution_count": 1,
   "metadata": {},
   "outputs": [],
   "source": [
    "#En python: \n",
    "import numpy as np\n",
    "data = np.random.randn(100)"
   ]
  },
  {
   "cell_type": "markdown",
   "metadata": {},
   "source": [
    "Varianza \n",
    "- Dispersión de datos alrededor de la media"
   ]
  },
  {
   "cell_type": "code",
   "execution_count": 2,
   "metadata": {},
   "outputs": [],
   "source": [
    "variance = np.var(data)"
   ]
  },
  {
   "cell_type": "markdown",
   "metadata": {},
   "source": [
    "Desviación Standard \n",
    "- Raiz cuadrada de la varianza\n",
    "- Proporciona una medida de dispersión similar a la varianza, pero está expresada en las mismas unidades que los datos originales."
   ]
  },
  {
   "cell_type": "code",
   "execution_count": 3,
   "metadata": {},
   "outputs": [],
   "source": [
    "std_deviation = np.std(data) #opción 1\n",
    "std_deviation = np.sqrt(variance) #opción 2"
   ]
  },
  {
   "cell_type": "markdown",
   "metadata": {},
   "source": [
    "Covarianza \n",
    "- Grado de variabilidad conjunta entre variables."
   ]
  },
  {
   "cell_type": "markdown",
   "metadata": {},
   "source": [
    "Existe una forma simple de obtener la covarianza"
   ]
  },
  {
   "cell_type": "code",
   "execution_count": null,
   "metadata": {},
   "outputs": [
    {
     "name": "stdout",
     "output_type": "stream",
     "text": [
      "-0.01852803792430579\n"
     ]
    }
   ],
   "source": [
    "import numpy as np\n",
    "import matplotlib.pyplot as plt\n",
    "# Datos de ejemplo para dos variables\n",
    "variable1 = np.random.randn(100)\n",
    "variable2 = np.random.randn(100)\n",
    "covariance_matrix = np.cov(variable1,variable2) # calculamos la matriz de covarianza\n",
    "covariance = covariance_matrix[0][1] # extraemos la covarianza como valor\n",
    "print(covariance) "
   ]
  },
  {
   "cell_type": "markdown",
   "metadata": {},
   "source": [
    "Sin embargo, es recomendable utilizar la covarianza normalizada np.corrcoef(), en este ejemplo se coloca un grafico para una mejor visualización"
   ]
  },
  {
   "cell_type": "code",
   "execution_count": null,
   "metadata": {},
   "outputs": [
    {
     "name": "stdout",
     "output_type": "stream",
     "text": [
      "Coeficiente de Correlación: -0.1221443845466682\n"
     ]
    }
   ],
   "source": [
    "import numpy as np\n",
    "import matplotlib.pyplot as plt\n",
    "# Datos de ejemplo para dos variables\n",
    "variable1 = np.random.randn(100)\n",
    "variable2 = np.random.randn(100)\n",
    "\n",
    "correlation_coefficient = np.corrcoef(variable1, variable2)[0, 1] #Covarianza normalizada\n",
    "print(f'Coeficiente de Correlación: {correlation_coefficient}')"
   ]
  },
  {
   "cell_type": "code",
   "execution_count": null,
   "metadata": {},
   "outputs": [
    {
     "data": {
      "image/png": "[encoded data removed]",
      "text/plain": [
       "<Figure size 640x480 with 1 Axes>"
      ]
     },
     "metadata": {},
     "output_type": "display_data"
    }
   ],
   "source": [
    "fig_correlation = plt.scatter(variable1,variable2, label=['Cov1','Cov2'])\n",
    "fit = np.polyfit(variable1, variable2, 1)\n",
    "line = np.poly1d(fit)\n",
    "plt.plot(variable1, line(variable1), color='red', linestyle='--', label='Línea de Regresión')\n",
    "\n",
    "plt.show()"
   ]
  },
  {
   "cell_type": "markdown",
   "metadata": {},
   "source": [
    "Regla de las tres sigmas\n",
    "- Esta establece que casi todos los valores (99.7%) caen dentro de un rango determinado.  En otras palabras, el 99.7% de todos los valores se sitúan en un intervalo que comprende 3 desviaciones estándar a la izquierda y 3 a la derecha de la media."
   ]
  },
  {
   "cell_type": "markdown",
   "metadata": {},
   "source": [
    "Varianza (Formulas)\n",
    "\n",
    "    A total Poblacion | σ² = Σ (x_i - μ)² / n\n",
    "    varianza_poblacional = np.var(datos_poblacion)\n",
    "\n",
    "    Muestra | s² = (Σ (x_i - x̄)²) / (n - 1)\n",
    "    varianza_muestral = np.var(datos_muestra, ddof=1)\n",
    "\n",
    "\n",
    "Desviación Standard\n",
    "\n",
    "    σ =  √σ² \n",
    "    desviacion_estandar_poblacional = math.sqrt(varianza_poblacional)\n",
    "    σ = mt.sqrt(n * p * (1 - p))  - Aplicada para distribuciones binomiales"
   ]
  }
 ],
 "metadata": {
  "kernelspec": {
   "display_name": "Python 3",
   "language": "python",
   "name": "python3"
  },
  "language_info": {
   "codemirror_mode": {
    "name": "ipython",
    "version": 3
   },
   "file_extension": ".py",
   "mimetype": "text/x-python",
   "name": "python",
   "nbconvert_exporter": "python",
   "pygments_lexer": "ipython3",
   "version": "3.12.0"
  }
 },
 "nbformat": 4,
 "nbformat_minor": 2
}
