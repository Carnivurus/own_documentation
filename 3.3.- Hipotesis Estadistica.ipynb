{
 "cells": [
  {
   "cell_type": "markdown",
   "metadata": {},
   "source": [
    "## Hipotesis\n",
    "\n",
    "La prueba de hipótesis es una herramienta estadística. Con esta herramienta, puedes realizar `estimaciones sobre poblaciones grandes utilizando muestras pequeñas`. La lógica de realizar una prueba estadística de una hipótesis es ligeramente diferente\n",
    "En primer lugar, sacaremos conclusiones sobre un gran dataset, o población estadística, basadas en las muestras. Una muestra es una parte pequeña pero representativa de los datos que refleja el comportamiento de toda la población estadística"
   ]
  },
  {
   "cell_type": "markdown",
   "metadata": {},
   "source": [
    "## Teorema del lílmite central\n",
    "\n",
    "El teorema del límite central menciona que cuando hay un número suficiente de observaciones en una muestra, la distribución muestral de las medias muestrales de cualquier población estadística `tiende a seguir una distribución normal` alrededor de la media de dicha población.Puedes estimar la media de una población estadística utilizando la media de una muestra. Cuanto mayor sea la muestra, más precisa será la media de la población y esto funciona para poblaciones estadísticas con cualquier distribución.\n",
    "<br>\n",
    "<br>\n",
    "¿Cuál será su varianza? Eso depende del tamaño de la muestra. Cuanto mayor sea, menor será la desviación estándar de la media de la muestra. Cuanto mayor sea la muestra que tomemos, más precisa será la media de toda la población.\n",
    "<br>\n",
    "<br>\n",
    "La desviación estándar de la media de la muestra del promedio de la población estadística se llama error estándar y se encuentra usando la siguiente fórmula:\n",
    "\n",
    "$$E.S.E = \\frac {S}{ \\sqrt {n}} $$\n",
    "\n",
    "- E.S.E. = Estimated Standard Error\n",
    "- S = Standard deviation (muestra)\n",
    "- n = tamañó de la muestra"
   ]
  },
  {
   "cell_type": "markdown",
   "metadata": {},
   "source": [
    "Estos analálisis ya vienen precargados en los metodos de python, pero era importante conocerlos"
   ]
  },
  {
   "cell_type": "markdown",
   "metadata": {},
   "source": [
    "## Hipotesis de dos colas\n",
    "\n",
    "Una prueba de hipótesis de dos colas está diseñada para mostrar si la media de la muestra es considerablemente mayor y considerablemente menor que la media de una población"
   ]
  },
  {
   "cell_type": "markdown",
   "metadata": {},
   "source": [
    "\n",
    "- Hipotesis de dos colas: U\n",
    "- significación estadística bilateral = probabilidad de que la media de toda la población estadística se desvíe del valor propuesto al menos tanto como vemos en la muestra (aumentando o disminuyendo en cualquier dirección).\n",
    "- La estadística de diferencia: Es el número de desviaciones estándar entre los valores comparados si ambas distribuciones se convierten en una distribución normal estándar con media 0 y desviación estándar 1. Este número no ayuda mucho a orientarse.\n",
    "- El valor p es la probabilidad de obtener un resultado al menos tan extremo como el que estás considerando, suponiendo que la hipótesis nula sea correcta\n",
    "- Significación estadística bilateral: que es la probabilidad de que la media de toda la población estadística se desvíe del valor propuesto al menos tanto como vemos en la muestra (aumentando o disminuyendo en cualquier dirección)."
   ]
  },
  {
   "cell_type": "code",
   "execution_count": null,
   "metadata": {},
   "outputs": [],
   "source": [
    "# Formula Hipotesis\n",
    "\n",
    "# from scipy import stats as st\n",
    "\n",
    "# scipy.stats.ttest_1samp (array, popmean).pvalue # entrega la probabilidad del valor"
   ]
  },
  {
   "cell_type": "code",
   "execution_count": null,
   "metadata": {},
   "outputs": [],
   "source": [
    "# import numpy as np\n",
    "\n",
    "# np.random.random() #Simple, devuelve n numeros aleatorios\n",
    "# np.random.randn(3,4) # devuelve negativos \n",
    "# np.random.rand(3,4) # devuelve solo positivos\n",
    "# np.random.randint(4,9, 10) #Genera valores aleatorios a partir de intevalos\n",
    "# np.random.randint(-40,9, 10) #Genera valores aleatorios  a partir de intevalos\n",
    "# np.random.choice(x) #devuelve un valor aleatorio de una lista ya creada\n",
    "# np.random.uniform(1,100) # devuelve un valor aleatorios flotantes a partir de sus parametros\n",
    "# np.random.normal()  #mu, sigma, muestra \n",
    "\n",
    "# lista= [\"Juan\",\"Gabi\",\"Mariana\"]\n",
    "# np.random.choice(lista, 100 , p= [0.8,0.1,0.1]) #Se puede agregar probabilidad a un random choice"
   ]
  },
  {
   "cell_type": "markdown",
   "metadata": {},
   "source": [
    "- p_valor = el área del limites a los extremos.\n",
    "- alpha = el area de un punto fijo del área total hacia los extremos (nivel de error)\n"
   ]
  }
 ],
 "metadata": {
  "kernelspec": {
   "display_name": "Python 3",
   "language": "python",
   "name": "python3"
  },
  "language_info": {
   "codemirror_mode": {
    "name": "ipython",
    "version": 3
   },
   "file_extension": ".py",
   "mimetype": "text/x-python",
   "name": "python",
   "nbconvert_exporter": "python",
   "pygments_lexer": "ipython3",
   "version": "3.12.0"
  }
 },
 "nbformat": 4,
 "nbformat_minor": 2
}
