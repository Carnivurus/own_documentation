{
 "cells": [
  {
   "cell_type": "markdown",
   "metadata": {},
   "source": [
    "Un servidor es basicamente una computadora ubicada en otra parte que funciona las 24 horas y ofrece sus servicios de hosteo a muchos clientes. Se compone de la siguiente estructura"
   ]
  },
  {
   "cell_type": "markdown",
   "metadata": {},
   "source": [
    "Componentes de la Arquitectura\n",
    "\n",
    "- Servidor\n",
    "    - Software\n",
    "        - Ambiente del proyecto\n",
    "            - Ambiente Virtual\n",
    "            - Docker\n",
    "        - Ambiente del servidor\n",
    "            - Usuarios\n",
    "            - Librerias Base\n",
    "\n",
    "    - Hardware\n",
    "        - CPU\n",
    "        - GPU\n",
    "        - RAM\n",
    "    \n",
    "    - Network\n",
    "        - IP\n"
   ]
  },
  {
   "cell_type": "markdown",
   "metadata": {},
   "source": [
    "## Seleccionar Cloud\n",
    "- Ver los temas de costo poder\n",
    "- User experience\n",
    "\n",
    "## Seleccionar OS\n",
    "- Fixed release\n",
    "- Rolling release\n",
    "\n",
    "\n",
    "## Terminal \n",
    "- Powershell\n",
    "- Terminal\n",
    "- CMD\n",
    "\n",
    "## Estructura de Comando\n",
    "- Programa\n",
    "- Acción\n",
    "- Argumentos\n",
    "- ¿Dónde estan los programas?\n",
    "\n",
    "## Configuración inicial\n",
    "- Crear usuario\n",
    "- Permisos\n",
    "- Sudo\n",
    "- Actualizar\n",
    "- htop\n",
    "\n",
    "## Ambiente Python\n",
    "- Version de Python propia para el proyecto\n",
    "\n",
    "## IDE para programar\n",
    "- VS Code\n",
    "\n",
    "## Herramientas Basicas\n",
    "- Git\n",
    "- Nano\n",
    "- Vim\n",
    "- etc\n",
    "\n",
    "## Herramientas avanzadas\n",
    "- Docker\n",
    "- Airflow\n",
    "- Snakemake\n",
    "\n",
    "## Otros \n",
    "- Tmus\n",
    "- Liquid/Prompt"
   ]
  }
 ],
 "metadata": {
  "language_info": {
   "name": "python"
  }
 },
 "nbformat": 4,
 "nbformat_minor": 2
}
