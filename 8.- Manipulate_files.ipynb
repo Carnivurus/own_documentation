{
 "cells": [
  {
   "cell_type": "markdown",
   "metadata": {},
   "source": [
    "## Manipular Archivos\n",
    "\n",
    "- open()  = Abrir archivo\n",
    "- close() = cerrar archivo\n",
    "- write() = Escribir sobre el archivo\n",
    "- read() = Lectura de todo el texto en 1 str\n",
    "- readlines() = Lectura por lineas\n",
    "- writelines() = Escribe por línea\n",
    "- with open(file, mode) as f : = Cierra automaticamente el archivo\n",
    "- rstrip() = quita los espacios blancos al final del string"
   ]
  },
  {
   "cell_type": "markdown",
   "metadata": {},
   "source": [
    "ZipFile"
   ]
  },
  {
   "cell_type": "code",
   "execution_count": 53,
   "metadata": {},
   "outputs": [],
   "source": [
    "from zipfile import ZipFile"
   ]
  },
  {
   "cell_type": "markdown",
   "metadata": {},
   "source": [
    "- with ZipFile(file, mode) as f \n",
    "- printdir() = Enlista los archivos dentro de un zip"
   ]
  },
  {
   "cell_type": "markdown",
   "metadata": {},
   "source": [
    "JSON"
   ]
  },
  {
   "cell_type": "code",
   "execution_count": 56,
   "metadata": {},
   "outputs": [],
   "source": [
    "import json\n",
    "import requests"
   ]
  },
  {
   "cell_type": "markdown",
   "metadata": {},
   "source": [
    "YAML"
   ]
  },
  {
   "cell_type": "code",
   "execution_count": 58,
   "metadata": {},
   "outputs": [],
   "source": [
    "import yaml"
   ]
  },
  {
   "cell_type": "markdown",
   "metadata": {},
   "source": [
    "- json.dump(data,f)"
   ]
  },
  {
   "cell_type": "markdown",
   "metadata": {},
   "source": [
    "Escribir en archivos:\n",
    "\n",
    "- 'r': abre un archivo nuevo o ya y lo lee.\n",
    "- 'w': abre un nuevo archivo vacío en el que se puede escribir.\n",
    "- 'a': abre un archivo nuevo o ya existente y le añade texto.\n"
   ]
  },
  {
   "cell_type": "code",
   "execution_count": 10,
   "metadata": {},
   "outputs": [
    {
     "name": "stdout",
     "output_type": "stream",
     "text": [
      "<class '_io.TextIOWrapper'>\n"
     ]
    }
   ],
   "source": [
    "# f= open(\"D:\\\\Tripleten\\\\other_excercises\\\\archivo.docx\" , mode=\"r\") #read mode .docs\n",
    "f= open(\"D:\\\\Tripleten\\\\other_excercises\\\\archivo2.txt\", mode=\"r\") #read mode .txt\n",
    "print(type(f)) #Con esto identificamos que es un objeto tipo file\n",
    "f.close() #Siempre cerrar para liberar la memoria"
   ]
  },
  {
   "cell_type": "markdown",
   "metadata": {},
   "source": [
    "### Metodo no recomendado"
   ]
  },
  {
   "cell_type": "code",
   "execution_count": 15,
   "metadata": {},
   "outputs": [
    {
     "name": "stdout",
     "output_type": "stream",
     "text": [
      "El pollo loco ataca de nuevo1\n",
      "El pollo loco ataca de nuevo2\n",
      "El pollo loco ataca de nuevo3\n",
      "El pollo loco ataca de nuevo4\n",
      "El pollo loco ataca de nuevo5\n",
      "El pollo loco ataca de nuevo6\n",
      "El pollo loco ataca de nuevo7\n",
      "El pollo loco ataca de nuevo8\n",
      "El pollo loco ataca de nuevo9\n",
      "El pollo loco ataca de nuevo9\n"
     ]
    }
   ],
   "source": [
    "f= open(\"D:\\\\Tripleten\\\\other_excercises\\\\archivo2.txt\", mode=\"r\")\n",
    "for line in f:\n",
    "    print(line.rstrip())\n",
    "f.close()"
   ]
  },
  {
   "cell_type": "markdown",
   "metadata": {},
   "source": [
    "### Metodo recomendado 1 - Una cadena"
   ]
  },
  {
   "cell_type": "code",
   "execution_count": 17,
   "metadata": {},
   "outputs": [
    {
     "name": "stdout",
     "output_type": "stream",
     "text": [
      "El pollo loco ataca de nuevo1\n",
      "El pollo loco ataca de nuevo2\n",
      "El pollo loco ataca de nuevo3\n",
      "El pollo loco ataca de nuevo4\n",
      "El pollo loco ataca de nuevo5\n",
      "El pollo loco ataca de nuevo6\n",
      "El pollo loco ataca de nuevo7   \n",
      "El pollo loco ataca de nuevo8\n",
      "El pollo loco ataca de nuevo9  \n",
      "El pollo loco ataca de nuevo9\n",
      "\n"
     ]
    }
   ],
   "source": [
    "f= open(\"D:\\\\Tripleten\\\\other_excercises\\\\archivo2.txt\", mode=\"r\")\n",
    "print(f.read())  #Lee todo como una sola cadena\n",
    "f.close()"
   ]
  },
  {
   "cell_type": "markdown",
   "metadata": {},
   "source": [
    "### Metodo recomendado 2 - Str por lineas"
   ]
  },
  {
   "cell_type": "code",
   "execution_count": 18,
   "metadata": {},
   "outputs": [
    {
     "name": "stdout",
     "output_type": "stream",
     "text": [
      "['El pollo loco ataca de nuevo1\\n', 'El pollo loco ataca de nuevo2\\n', 'El pollo loco ataca de nuevo3\\n', 'El pollo loco ataca de nuevo4\\n', 'El pollo loco ataca de nuevo5\\n', 'El pollo loco ataca de nuevo6\\n', 'El pollo loco ataca de nuevo7   \\n', 'El pollo loco ataca de nuevo8\\n', 'El pollo loco ataca de nuevo9  \\n', 'El pollo loco ataca de nuevo9\\n']\n"
     ]
    }
   ],
   "source": [
    "f= open(\"D:\\\\Tripleten\\\\other_excercises\\\\archivo2.txt\", mode=\"r\")\n",
    "print(f.readlines())  #Lee todo como una sola cadena\n",
    "f.close()"
   ]
  },
  {
   "cell_type": "markdown",
   "metadata": {},
   "source": [
    "### Metodo recomendado 3 - Uso de with"
   ]
  },
  {
   "cell_type": "code",
   "execution_count": 20,
   "metadata": {},
   "outputs": [
    {
     "name": "stdout",
     "output_type": "stream",
     "text": [
      "El pollo loco ataca de nuevo1\n",
      "El pollo loco ataca de nuevo2\n",
      "El pollo loco ataca de nuevo3\n",
      "El pollo loco ataca de nuevo4\n",
      "El pollo loco ataca de nuevo5\n",
      "El pollo loco ataca de nuevo6\n",
      "El pollo loco ataca de nuevo7   \n",
      "El pollo loco ataca de nuevo8\n",
      "El pollo loco ataca de nuevo9  \n",
      "El pollo loco ataca de nuevo9\n",
      "\n"
     ]
    }
   ],
   "source": [
    "with open(\"D:\\\\Tripleten\\\\other_excercises\\\\archivo2.txt\", mode=\"r\") as f:\n",
    "    print(f.read())"
   ]
  },
  {
   "cell_type": "markdown",
   "metadata": {},
   "source": [
    "### Ejemplo para sobreescribir / crear nuevo documento"
   ]
  },
  {
   "cell_type": "code",
   "execution_count": 38,
   "metadata": {},
   "outputs": [],
   "source": [
    "with open(\"D:\\\\Tripleten\\\\other_excercises\\\\archivo2.txt\", mode=\"w\") as f:\n",
    "    f.write(\"Este es un ejemplo para sobreescribir el texto anterior\")"
   ]
  },
  {
   "cell_type": "code",
   "execution_count": 39,
   "metadata": {},
   "outputs": [
    {
     "name": "stdout",
     "output_type": "stream",
     "text": [
      "Este es un ejemplo para sobreescribir el texto anterior\n"
     ]
    }
   ],
   "source": [
    "with open(\"D:\\\\Tripleten\\\\other_excercises\\\\archivo2.txt\", mode=\"r\") as f:\n",
    "    print(f.read())"
   ]
  },
  {
   "cell_type": "markdown",
   "metadata": {},
   "source": [
    "### Ejemplo para agregar texto a un documento (append)"
   ]
  },
  {
   "cell_type": "code",
   "execution_count": 40,
   "metadata": {},
   "outputs": [],
   "source": [
    "with open(\"D:\\\\Tripleten\\\\other_excercises\\\\archivo2.txt\", mode=\"a\") as f:\n",
    "    f.write(\"\\nEste es un ejemplo para agregar una segunda línea\")"
   ]
  },
  {
   "cell_type": "code",
   "execution_count": 41,
   "metadata": {},
   "outputs": [
    {
     "name": "stdout",
     "output_type": "stream",
     "text": [
      "Este es un ejemplo para sobreescribir el texto anterior\n",
      "Este es un ejemplo para agregar una segunda línea\n"
     ]
    }
   ],
   "source": [
    "with open(\"D:\\\\Tripleten\\\\other_excercises\\\\archivo2.txt\", mode=\"r\") as f:\n",
    "    print(f.read())"
   ]
  },
  {
   "cell_type": "markdown",
   "metadata": {},
   "source": [
    "## Archivos ZIP\n",
    "Los archivos zip se utilizan ampliamente para comprimir archivos o empaquetar archivos relacionados entre sí. Trabajar con archivos zip en Python es similar a trabajar con archivos. El paquete zipfile nos ayudará mucho con esta tarea:"
   ]
  },
  {
   "cell_type": "code",
   "execution_count": 3,
   "metadata": {},
   "outputs": [],
   "source": [
    "from zipfile import ZipFile\n",
    "\n",
    "with open(\"info.txt\", \"w\") as f: #Usando with, automaticamente cerrara el archivo terminando el las lineas\n",
    "    f.write('algunos datos')\n",
    "    \n",
    "with ZipFile(\"D:\\\\Tripleten\\\\other_excercises\\\\archive.zip\", mode=\"w\") as archive: #Misma funcion para trabajar co un zip\n",
    "    archive.write(\"info.txt\") "
   ]
  },
  {
   "cell_type": "markdown",
   "metadata": {},
   "source": [
    "Con el comando printdir() obtendremos una lista de los archivos dentro del zip"
   ]
  },
  {
   "cell_type": "code",
   "execution_count": 9,
   "metadata": {},
   "outputs": [
    {
     "name": "stdout",
     "output_type": "stream",
     "text": [
      "File Name                                             Modified             Size\n",
      "archivo.docx                                   2023-12-12 13:10:40        12062\n",
      "archivo2.txt                                   2023-12-12 13:36:40          106\n"
     ]
    }
   ],
   "source": [
    "with ZipFile(\"D:\\\\Tripleten\\\\other_excercises\\\\archive.zip\", mode=\"a\") as archive:\n",
    "    archive.printdir() "
   ]
  },
  {
   "cell_type": "markdown",
   "metadata": {},
   "source": [
    "El siguiente código muestra como crear un archivo y luego agregarlo a un zipfile"
   ]
  },
  {
   "cell_type": "code",
   "execution_count": 5,
   "metadata": {},
   "outputs": [
    {
     "name": "stdout",
     "output_type": "stream",
     "text": [
      "File Name                                             Modified             Size\n",
      "archivo.docx                                   2023-12-12 13:10:40        12062\n",
      "archivo2.txt                                   2023-12-12 13:36:40          106\n",
      "logs.txt                                       2023-12-12 13:59:38            7\n",
      "logs.txt                                       2023-12-13 08:44:32            7\n"
     ]
    },
    {
     "name": "stderr",
     "output_type": "stream",
     "text": [
      "c:\\Users\\jm_he\\AppData\\Local\\Programs\\Python\\Python312\\Lib\\zipfile\\__init__.py:1589: UserWarning: Duplicate name: 'logs.txt'\n",
      "  return self._open_to_write(zinfo, force_zip64=force_zip64)\n"
     ]
    }
   ],
   "source": [
    "from zipfile import ZipFile\n",
    "\n",
    "#Es necesario primero crear el archivo antes de agregarlo al zip\n",
    "\n",
    "with open(\"logs.txt\", \"w\") as f:\n",
    "    f.write('new_log')\n",
    "\n",
    "#Agregamos el archivo creado al zipfile\n",
    "with ZipFile(\"D:\\\\Tripleten\\\\other_excercises\\\\archive.zip\", mode=\"a\") as archive:\n",
    "    archive.write(\"logs.txt\")\n",
    "    archive.printdir() "
   ]
  },
  {
   "cell_type": "markdown",
   "metadata": {},
   "source": [
    "El siguiente código resume la creación de un archivo dentro de un Zipfile"
   ]
  },
  {
   "cell_type": "code",
   "execution_count": 39,
   "metadata": {},
   "outputs": [],
   "source": [
    "with ZipFile(\"D:\\\\Tripleten\\\\other_excercises\\\\archive.zip\", mode=\"a\") as archive: #Misma funcion para trabajar co un zip\n",
    "    with archive.open(\"stats.txt\", mode=\"w\") as f:\n",
    "        f.write(b\"Logre crear y escribir un archivo.\")\n"
   ]
  },
  {
   "cell_type": "code",
   "execution_count": 6,
   "metadata": {},
   "outputs": [
    {
     "name": "stdout",
     "output_type": "stream",
     "text": [
      "File Name                                             Modified             Size\n",
      "archivo.docx                                   2023-12-12 13:10:40        12062\n",
      "archivo2.txt                                   2023-12-12 13:36:40          106\n",
      "logs.txt                                       2023-12-12 13:59:38            7\n",
      "logs.txt                                       2023-12-13 08:44:32            7\n"
     ]
    }
   ],
   "source": [
    "archive.printdir()"
   ]
  },
  {
   "cell_type": "markdown",
   "metadata": {},
   "source": [
    "Finalmente con este código podemos realizar una lectura."
   ]
  },
  {
   "cell_type": "code",
   "execution_count": 29,
   "metadata": {},
   "outputs": [
    {
     "name": "stdout",
     "output_type": "stream",
     "text": [
      "new_log\n",
      "ereas\n",
      "\n",
      "sda\n",
      "dsa\n",
      "das\n",
      "\n",
      "ads\n",
      "ad\n"
     ]
    }
   ],
   "source": [
    "with ZipFile(\"D:\\\\Tripleten\\\\other_excercises\\\\archive.zip\", mode=\"r\") as archive:\n",
    "    with archive.open(\"logs.txt\") as f:\n",
    "        print(f.read().decode())\n",
    "        # print(f.readlines()) #No necesita el decode"
   ]
  },
  {
   "cell_type": "markdown",
   "metadata": {},
   "source": [
    "## JSON"
   ]
  },
  {
   "cell_type": "markdown",
   "metadata": {},
   "source": [
    "JSON es un formato de almacenamiento y transferencia de datos universal que los humanos pueden leer, utilizado a menudo para manejar datos en aplicaciones web. Los archivos JSON son muy similares a los diccionarios de Python; se trata de un conjunto de pares clave-valor, que suelen tener muchas capas anidadas."
   ]
  },
  {
   "cell_type": "code",
   "execution_count": 44,
   "metadata": {},
   "outputs": [
    {
     "name": "stdout",
     "output_type": "stream",
     "text": [
      "{'id': 1, 'title': 'iPhone 9', 'description': 'An apple mobile which is nothing like apple', 'price': 549, 'discountPercentage': 12.96, 'rating': 4.69, 'stock': 94, 'brand': 'Apple', 'category': 'smartphones', 'thumbnail': 'https://i.dummyjson.com/data/products/1/thumbnail.jpg', 'images': ['https://i.dummyjson.com/data/products/1/1.jpg', 'https://i.dummyjson.com/data/products/1/2.jpg', 'https://i.dummyjson.com/data/products/1/3.jpg', 'https://i.dummyjson.com/data/products/1/4.jpg', 'https://i.dummyjson.com/data/products/1/thumbnail.jpg']}\n",
      "{\"id\":1,\"title\":\"iPhone 9\",\"description\":\"An apple mobile which is nothing like apple\",\"price\":549,\"discountPercentage\":12.96,\"rating\":4.69,\"stock\":94,\"brand\":\"Apple\",\"category\":\"smartphones\",\"thumbnail\":\"https://i.dummyjson.com/data/products/1/thumbnail.jpg\",\"images\":[\"https://i.dummyjson.com/data/products/1/1.jpg\",\"https://i.dummyjson.com/data/products/1/2.jpg\",\"https://i.dummyjson.com/data/products/1/3.jpg\",\"https://i.dummyjson.com/data/products/1/4.jpg\",\"https://i.dummyjson.com/data/products/1/thumbnail.jpg\"]}\n"
     ]
    }
   ],
   "source": [
    "import json\n",
    "import requests # librería para obtener datos de internet\n",
    "\n",
    "# descargar (obtener) un archivo json de internet\n",
    "data = requests.get('https://dummyjson.com/products/1')\n",
    "\n",
    "# extraer el contenido del archivo json descargado\n",
    "text = data.text\n",
    "\n",
    "# análisis sintáctico del contenido mediante la función loads\n",
    "print(json.loads(text)) \n",
    "print(text) "
   ]
  },
  {
   "cell_type": "markdown",
   "metadata": {},
   "source": [
    "Escribir un JSON"
   ]
  },
  {
   "cell_type": "code",
   "execution_count": 46,
   "metadata": {},
   "outputs": [],
   "source": [
    "import json\n",
    "\n",
    "# Se crea el diccionario\n",
    "data= dict(user_id=12, status=\"active\", user_name=\"rachel\")\n",
    "# data = {\"user_id\":12, \"status\": \"active\", \"user_name\": \"rachel\"}  othe way to represent it.\n",
    "\n",
    "# Se crea el json\n",
    "with open(\"output.json\", mode=\"w\") as f:\n",
    "    json.dump(data,f)\n"
   ]
  },
  {
   "cell_type": "code",
   "execution_count": 51,
   "metadata": {},
   "outputs": [
    {
     "name": "stdout",
     "output_type": "stream",
     "text": [
      "{\"user_id\": 12, \"status\": \"active\", \"user_name\": \"rachel\"}\n",
      "{'user_id': 12, 'status': 'active', 'user_name': 'rachel'}\n"
     ]
    }
   ],
   "source": [
    "with open(\"output.json\", mode=\"r\") as f:\n",
    "    print(f.read())\n",
    "\n",
    "print(data)"
   ]
  },
  {
   "cell_type": "markdown",
   "metadata": {},
   "source": [
    "Creando YAML"
   ]
  },
  {
   "cell_type": "code",
   "execution_count": 62,
   "metadata": {},
   "outputs": [
    {
     "name": "stdout",
     "output_type": "stream",
     "text": [
      "edad: 32\n",
      "estudios:\n",
      "- ingles\n",
      "- - espanol\n",
      "  - portugues\n",
      "hobbies:\n",
      "- videojuegos\n",
      "- programacion\n",
      "nombre: Juan\n",
      "novia: Gabriela\n",
      "\n"
     ]
    }
   ],
   "source": [
    "data= dict(nombre=\"Juan\", edad=32, hobbies=[\"videojuegos\", \"programacion\"], novia=\"Gabriela\", estudios=[\"ingles\", [\"espanol\", \"portugues\"]])\n",
    "\n",
    "print(yaml.dump(data))"
   ]
  },
  {
   "cell_type": "code",
   "execution_count": 68,
   "metadata": {},
   "outputs": [],
   "source": [
    "lines = ['uno', 'dos', 'tres']\n",
    "\n",
    "with open(\"lines.txt\", mode=\"w\") as f:\n",
    "    f.writelines(\"\\n\".join(lines))"
   ]
  },
  {
   "cell_type": "code",
   "execution_count": 69,
   "metadata": {},
   "outputs": [
    {
     "name": "stdout",
     "output_type": "stream",
     "text": [
      "uno\n",
      "dos\n",
      "tres\n"
     ]
    }
   ],
   "source": [
    "with open(\"lines.txt\", mode=\"r\") as f:\n",
    "    print(f.read())"
   ]
  }
 ],
 "metadata": {
  "kernelspec": {
   "display_name": "Python 3",
   "language": "python",
   "name": "python3"
  },
  "language_info": {
   "codemirror_mode": {
    "name": "ipython",
    "version": 3
   },
   "file_extension": ".py",
   "mimetype": "text/x-python",
   "name": "python",
   "nbconvert_exporter": "python",
   "pygments_lexer": "ipython3",
   "version": "3.12.0"
  }
 },
 "nbformat": 4,
 "nbformat_minor": 2
}
