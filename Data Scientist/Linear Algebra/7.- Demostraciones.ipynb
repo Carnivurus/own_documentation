{
 "cells": [
  {
   "cell_type": "markdown",
   "metadata": {},
   "source": [
    "Signos\n",
    "- Existe $\\exist$\n",
    "- Único !\n",
    "- En $\\in$\n",
    "- Para todo $\\forall$\n",
    "- Tal que $\\mid$\n"
   ]
  },
  {
   "cell_type": "markdown",
   "metadata": {},
   "source": [
    "Let $ A \\in M_{m,n}(F)   $\n",
    "\n",
    "$ a_{ij} = 0, \\forall \\imath \\in \\{1 \\dots n\\} $\n"
   ]
  },
  {
   "cell_type": "markdown",
   "metadata": {},
   "source": [
    "- `A`: Es el nombre dado a una matriz específica. Las matrices son arreglos rectangulares de números o elementos que están organizados en filas y columnas.\n",
    "\n",
    "- `M`: Representa el conjunto de todas las matrices posibles que cumplen ciertas condiciones específicas. En este caso, `M` denota el conjunto de matrices.\n",
    "\n",
    "- `m`: Indica el número de filas en la matriz `A`. Es decir, la dimensión vertical de la matriz.\n",
    "\n",
    "- `n`: Indica el número de columnas en la matriz `A`. Es decir, la dimensión horizontal de la matriz.\n",
    "\n",
    "- `F`: Es un campo, que es una estructura algebraica en la que se pueden realizar operaciones de suma, resta, multiplicación y división. Los campos comunes incluyen los números reales ($`\\mathbb{R}`$), los números complejos ($`\\mathbb{C}`$), los números racionales ($`\\mathbb{Q}`$), etc. En el contexto de matrices, las entradas suelen ser números reales o complejos, pero el campo `F` puede ser cualquier campo arbitrario.\n",
    "\n",
    "Entonces, en resumen, la expresión `A \\in M_{m,n}(F)` indica que la matriz `A` pertenece al conjunto de matrices de tamaño `m x n` cuyas entradas son elementos del campo `F`.\n"
   ]
  },
  {
   "cell_type": "markdown",
   "metadata": {},
   "source": [
    "Definir una conjugada compleja\n",
    "\n",
    "$(A^*)_{ij} = a_{ij} $\n",
    "\n",
    "Esta expresión representa la matriz adjunta (`A*`) de una matriz `A`, donde `A` es una matriz con elementos `a_{ij}`. Aquí está el significado de cada parte de la expresión:\n",
    "\n",
    "- `(A*)_{ij}`: Esto se refiere al elemento en la i-ésima fila y la j-ésima columna de la matriz adjunta de `A`. La notación `A*` indica la matriz adjunta de `A`.\n",
    "\n",
    "- `a_{ij}`: Representa el elemento en la i-ésima fila y la j-ésima columna de la matriz `A`.\n",
    "\n",
    "En resumen, la expresión `(A*)_{ij} = a_{ij}` establece que cada elemento de la matriz adjunta `A*` es igual al elemento correspondiente en la matriz `A`.\n",
    "\n"
   ]
  }
 ],
 "metadata": {
  "kernelspec": {
   "display_name": "Python 3",
   "language": "python",
   "name": "python3"
  },
  "language_info": {
   "codemirror_mode": {
    "name": "ipython",
    "version": 3
   },
   "file_extension": ".py",
   "mimetype": "text/x-python",
   "name": "python",
   "nbconvert_exporter": "python",
   "pygments_lexer": "ipython3",
   "version": "3.12.2"
  }
 },
 "nbformat": 4,
 "nbformat_minor": 2
}
