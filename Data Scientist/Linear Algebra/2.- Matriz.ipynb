{
 "cells": [
  {
   "cell_type": "markdown",
   "metadata": {},
   "source": [
    "## Matriz\n",
    "\n",
    "\n",
    "Una matriz es una tabla rectangular o tabla bidimensional que consta de m filas y n columnas (el tamaño se escribe como m x n). Las matrices generalmente se denotan con letras latinas mayúsculas, por ejemplo, A. Sus elementos están en minúsculas con doble índice a_ij, donde i es el número de fila y j es el número de columna.\n",
    "\n",
    "#### Creando una matriz a partir de dos vectores\n"
   ]
  },
  {
   "cell_type": "code",
   "execution_count": null,
   "metadata": {},
   "outputs": [],
   "source": [
    "import pandas as pd\n",
    "import numpy as np\n",
    "\n",
    "vector1= np.array([1,2,3])\n",
    "vector2= np.array([4,5,6])\n",
    "\n",
    "matrix = np.array([vector1 , vector2])\n",
    "matrix"
   ]
  },
  {
   "cell_type": "markdown",
   "metadata": {},
   "source": [
    "#### Crear una matriz a partir de un df"
   ]
  },
  {
   "cell_type": "code",
   "execution_count": null,
   "metadata": {},
   "outputs": [
    {
     "name": "stdout",
     "output_type": "stream",
     "text": [
      "     a    b     c\n",
      "0  120   42  1344\n",
      "1   60  154   154\n",
      "2   75   90  2090\n"
     ]
    },
    {
     "data": {
      "text/plain": [
       "array([[ 120,   42, 1344],\n",
       "       [  60,  154,  154],\n",
       "       [  75,   90, 2090]], dtype=int64)"
      ]
     },
     "metadata": {},
     "output_type": "display_data"
    }
   ],
   "source": [
    "import pandas as pd\n",
    "import numpy as np\n",
    "\n",
    "df = pd.DataFrame({'a': [120, 60, 75], 'b': [42, 154, 90],'c': [1344, 154, 2090] })\n",
    "print(df)\n",
    "matrix = df.values\n",
    "matrix"
   ]
  },
  {
   "cell_type": "markdown",
   "metadata": {},
   "source": [
    "Otra operación útil que podríamos necesitar realizar es acceder a un elemento de la matriz. Usando la matriz A en el código anterior, el elemento a_ij se llama mediante A[i, j], donde la fila es i y la columna es j, enumeradas desde cero, de la misma forma que los índices de matriz.\n",
    "\n",
    "Veamos esto en el siguiente ejemplo donde recuperamos el elemento de matriz 2090:"
   ]
  },
  {
   "cell_type": "code",
   "execution_count": null,
   "metadata": {},
   "outputs": [
    {
     "data": {
      "text/plain": [
       "2090"
      ]
     },
     "metadata": {},
     "output_type": "display_data"
    }
   ],
   "source": [
    "matrix[2,2]"
   ]
  },
  {
   "cell_type": "code",
   "execution_count": null,
   "metadata": {},
   "outputs": [
    {
     "data": {
      "text/plain": [
       "array([[ 120,   42, 1344],\n",
       "       [  75,   90, 2090]], dtype=int64)"
      ]
     },
     "metadata": {},
     "output_type": "display_data"
    }
   ],
   "source": [
    "matrix[[0,2],:]"
   ]
  },
  {
   "cell_type": "markdown",
   "metadata": {},
   "source": [
    "#### Atributos para matrices"
   ]
  },
  {
   "cell_type": "code",
   "execution_count": 39,
   "metadata": {},
   "outputs": [
    {
     "data": {
      "text/plain": [
       "array([[1, 4],\n",
       "       [2, 5],\n",
       "       [3, 6]])"
      ]
     },
     "execution_count": 39,
     "metadata": {},
     "output_type": "execute_result"
    }
   ],
   "source": [
    "matrix.shape\n",
    "matrix.argmax() #posicion de fila (vector) donde se encuentra el valor mas alto\n",
    "matrix.argmin() #posicion de fila (vector) se encuentra el valor mas bajo\n",
    "matrix.argsort() #ordena y devuelve los indices evaluando y ordenando los números por filas (es mas facil verlo en un df porque ve el valor mas bajo de una fila)\n",
    "matrix.astype(float) #transforma los tipos de datos\n",
    "matrix.cumsum() #suma cumulativa.\n",
    "matrix.cumprod() # va multiplicando por cada valor en los vectores.\n",
    "matrix.diagonal() # da los valores de las diagonales.\n",
    "matrix.max() #valor maximo de la matriz\n",
    "matrix.min() # valor minimo de la matriz\n",
    "matrix.mean() # valor total promedio.\n",
    "matrix.repeat(2) # Repite todos los valores.\n",
    "matrix.prod() #producto de la multiplicacione de todos los elementos en la matriz\n",
    "matrix.sum() #suma todo los valores\n",
    "matrix.std() #obtiene la variacion std\n",
    "matrix.transpose() #transpone los datos\n",
    "matrix.T #transponer"
   ]
  },
  {
   "cell_type": "markdown",
   "metadata": {},
   "source": [
    "### Operaciones con matrices."
   ]
  },
  {
   "cell_type": "markdown",
   "metadata": {},
   "source": [
    "#### Operaciones de matrices por un numero"
   ]
  },
  {
   "cell_type": "code",
   "execution_count": null,
   "metadata": {},
   "outputs": [
    {
     "name": "stdout",
     "output_type": "stream",
     "text": [
      " product \n",
      "[[2 4]\n",
      " [6 8]]\n",
      "\n",
      " sum \n",
      "[[3 4]\n",
      " [5 6]]\n",
      "\n",
      " rest \n",
      "[[-1  0]\n",
      " [ 1  2]]\n",
      "\n"
     ]
    }
   ],
   "source": [
    "import numpy as np\n",
    "\n",
    "matrix = np.array([\n",
    "    [1, 2], \n",
    "    [3, 4]])\n",
    "\n",
    "print(f' product \\n{matrix * 2}', end='\\n\\n')\n",
    "print(f' sum \\n{matrix + 2}', end='\\n\\n')\n",
    "print(f' rest \\n{matrix - 2}', end='\\n\\n')"
   ]
  },
  {
   "cell_type": "markdown",
   "metadata": {},
   "source": [
    "#### Operaciones de matrices con otras matrices."
   ]
  },
  {
   "cell_type": "code",
   "execution_count": null,
   "metadata": {},
   "outputs": [
    {
     "name": "stdout",
     "output_type": "stream",
     "text": [
      "product \n",
      "[[ 5 12]\n",
      " [21 32]]\n",
      "\n",
      "sum \n",
      "[[ 6  8]\n",
      " [10 12]]\n",
      "rest \n",
      "[[-4 -4]\n",
      " [-4 -4]]\n"
     ]
    }
   ],
   "source": [
    "import numpy as np\n",
    "\n",
    "matrix1 = np.array([\n",
    "    [1, 2], \n",
    "    [3, 4]])\n",
    "\n",
    "matrix2 = np.array([\n",
    "    [5, 6], \n",
    "    [7, 8]])\n",
    "\n",
    "print(f'product \\n{np.multiply(matrix1, matrix2)}', end='\\n\\n') \n",
    "print(f'sum \\n{matrix1 + matrix2}', end='\\n') \n",
    "print(f'rest \\n{matrix1 - matrix2}', end='\\n')"
   ]
  },
  {
   "cell_type": "code",
   "execution_count": null,
   "metadata": {},
   "outputs": [
    {
     "name": "stdout",
     "output_type": "stream",
     "text": [
      "En una semana\n",
      "   Minutos  Mensajes  Megabytes\n",
      "0      174         7        652\n",
      "1      100        22        564\n",
      "2       69        10        348\n",
      "3      192        17        409\n",
      "4       95         8        401\n",
      "\n",
      "Pronóstico para un mes\n",
      "   Minutos  Mensajes  Megabytes\n",
      "0      755        30       2831\n",
      "1      434        95       2449\n",
      "2      299        43       1511\n",
      "3      833        73       1776\n",
      "4      412        34       1741\n"
     ]
    }
   ],
   "source": [
    "import numpy as np\n",
    "import pandas as pd\n",
    "\n",
    "services = ['Minutos', 'Mensajes', 'Megabytes']\n",
    "\n",
    "monday = np.array([\n",
    "    [10, 2, 72],\n",
    "    [3, 5, 111],\n",
    "    [15, 3, 50],\n",
    "    [27, 0, 76],\n",
    "    [7, 1, 85]])\n",
    "\n",
    "tuesday = np.array([\n",
    "    [33, 0, 108],\n",
    "    [21, 5, 70],\n",
    "    [15, 2, 15],\n",
    "    [29, 6, 34],\n",
    "    [2, 1, 146]])\n",
    "\n",
    "wednesday = np.array([\n",
    "    [16, 0, 20],\n",
    "    [23, 5, 34],\n",
    "    [5, 0, 159],\n",
    "    [35, 1, 74],\n",
    "    [5, 0, 15]])\n",
    "\n",
    "thursday = np.array([\n",
    "    [25, 1, 53],\n",
    "    [15, 0, 26],\n",
    "    [10, 0, 73],\n",
    "    [18, 1, 24],\n",
    "    [2, 2, 24]])\n",
    "\n",
    "friday = np.array([\n",
    "    [32, 0, 33],\n",
    "    [4, 0, 135],\n",
    "    [2, 2, 21],\n",
    "    [18, 5, 56],\n",
    "    [27, 2, 21]])\n",
    "\n",
    "saturday = np.array([\n",
    "    [28, 0, 123],\n",
    "    [16, 5, 165],\n",
    "    [10, 1, 12],\n",
    "    [42, 4, 80],\n",
    "    [18, 2, 20]])\n",
    "\n",
    "sunday = np.array([\n",
    "    [30, 4, 243],\n",
    "    [18, 2, 23],\n",
    "    [12, 2, 18],\n",
    "    [23, 0, 65],\n",
    "    [34, 0, 90]])\n",
    "\n",
    "weekly = np.array(monday + tuesday + wednesday + thursday + friday + saturday + sunday)\n",
    "\n",
    "print('En una semana')\n",
    "print(pd.DataFrame(weekly, columns=services))\n",
    "print()\n",
    "\n",
    "## cuánto usa cada cliente los servicios en promedio por día\n",
    "## crear una matris con todos los días\n",
    "\n",
    "forecast = ((weekly / 7) * 30.4).astype(int)\n",
    "\n",
    "print('Pronóstico para un mes')\n",
    "print(pd.DataFrame(forecast, dtype=int, columns=services))"
   ]
  },
  {
   "cell_type": "markdown",
   "metadata": {},
   "source": [
    "#### Operacion de matrices por un vector\n",
    "\n",
    "Para entender exactamente cómo se multiplica una matriz por un vector, primero debemos recordar que una matriz no es más que un conjunto de vectores de la misma longitud.\n",
    "\n",
    "$$ \n",
    "\\begin{matrix}a_{11} & a_{12} & \\cdots & a_{1n} \\\\a_{21} & a_{22} & \\cdots & a_{2n} \\\\\\vdots & \\vdots & \\ddots & \\vdots \\\\a_{m1} & a_{m2} & \\cdots & a_{mn} \\\\\\end{matrix}\\begin{pmatrix}x_1 \\\\x_2 \\\\\\vdots \\\\x_n \\\\\\end{pmatrix}=\\begin{pmatrix}a_{11}x_1 + a_{12}x_2 + \\cdots + a_{1n}x_n \\\\a_{21}x_1 + a_{22}x_2 + \\cdots  a_{2n}x_n \\\\\\vdots \\\\a_{m1}x_1 + a_{m2}x_2 + \\cdots + a_{mn}x_n \\\\\\end{pmatrix}$$"
   ]
  },
  {
   "cell_type": "markdown",
   "metadata": {},
   "source": [
    "Ya conocemos el uso del producto escalar para multiplicar un vector por otro. El mismo principio guía este proceso también. Para multiplicar una matriz por un vector, tomamos el producto escalar de cada fila y el vector, como puedes ver a continuación. El resultado es un nuevo vector. Sin embargo, presta atención: ya que estamos usando el producto escalar, es esencial que la longitud de cada fila de la matriz sea igual a la longitud del vector por el que multiplicamos."
   ]
  },
  {
   "cell_type": "markdown",
   "metadata": {},
   "source": [
    "La mejor parte es que NumPy puede encargarse de todo esto por nosotros. Todo lo que tenemos que hacer es llamar a dot(). Podemos hacer esto como una función independiente o como un método de nuestra matriz."
   ]
  },
  {
   "cell_type": "code",
   "execution_count": 11,
   "metadata": {},
   "outputs": [
    {
     "name": "stdout",
     "output_type": "stream",
     "text": [
      "[18 45]\n",
      "[18 45]\n"
     ]
    }
   ],
   "source": [
    "import numpy as np\n",
    "\n",
    "matrix = np.array([\n",
    "    [1,2,3],\n",
    "    [4,5,6]])\n",
    "\n",
    "vector = np.array([3,3,3])\n",
    "\n",
    "# Funcion independiente, toma dos argumentos\n",
    "print(np.dot(matrix,vector))\n",
    "\n",
    "# Funcion de la matriz- solo necesita un argumento\n",
    "print(matrix.dot(vector))"
   ]
  },
  {
   "cell_type": "markdown",
   "metadata": {},
   "source": [
    "Calcula la cantidad de minutos, mensajes de texto y tráfico de Internet gastados por el segundo cliente en el transcurso del mes. Guarda el resultado en la variable client_services y muéstralo en la pantalla (ya en el precódigo)."
   ]
  },
  {
   "cell_type": "code",
   "execution_count": 24,
   "metadata": {},
   "outputs": [
    {
     "data": {
      "text/html": [
       "<div>\n",
       "<style scoped>\n",
       "    .dataframe tbody tr th:only-of-type {\n",
       "        vertical-align: middle;\n",
       "    }\n",
       "\n",
       "    .dataframe tbody tr th {\n",
       "        vertical-align: top;\n",
       "    }\n",
       "\n",
       "    .dataframe thead th {\n",
       "        text-align: right;\n",
       "    }\n",
       "</style>\n",
       "<table border=\"1\" class=\"dataframe\">\n",
       "  <thead>\n",
       "    <tr style=\"text-align: right;\">\n",
       "      <th></th>\n",
       "      <th>\"Al volante\"</th>\n",
       "      <th>\"En el metro\"</th>\n",
       "    </tr>\n",
       "  </thead>\n",
       "  <tbody>\n",
       "    <tr>\n",
       "      <th>Minutos</th>\n",
       "      <td>20</td>\n",
       "      <td>5</td>\n",
       "    </tr>\n",
       "    <tr>\n",
       "      <th>Mensajes</th>\n",
       "      <td>2</td>\n",
       "      <td>5</td>\n",
       "    </tr>\n",
       "    <tr>\n",
       "      <th>Megabytes</th>\n",
       "      <td>500</td>\n",
       "      <td>1000</td>\n",
       "    </tr>\n",
       "  </tbody>\n",
       "</table>\n",
       "</div>"
      ],
      "text/plain": [
       "           \"Al volante\"  \"En el metro\"\n",
       "Minutos              20              5\n",
       "Mensajes              2              5\n",
       "Megabytes           500           1000"
      ]
     },
     "execution_count": 24,
     "metadata": {},
     "output_type": "execute_result"
    }
   ],
   "source": [
    "import numpy as np\n",
    "import pandas as pd\n",
    "\n",
    "services = ['Minutos', 'Mensajes', 'Megabytes']\n",
    "packs_names = ['\"Al volante\"', '\"En el metro\"']\n",
    "packs = np.array([[20, 5], [2, 5], [500, 1000]])\n",
    "clients_packs = np.array([[1, 2], [2, 3], [4, 1], [2, 3], [5, 0]])\n",
    "\n",
    "df= pd.DataFrame(packs, columns=packs_names, index=services)\n",
    "df"
   ]
  },
  {
   "cell_type": "code",
   "execution_count": 27,
   "metadata": {},
   "outputs": [
    {
     "data": {
      "text/html": [
       "<div>\n",
       "<style scoped>\n",
       "    .dataframe tbody tr th:only-of-type {\n",
       "        vertical-align: middle;\n",
       "    }\n",
       "\n",
       "    .dataframe tbody tr th {\n",
       "        vertical-align: top;\n",
       "    }\n",
       "\n",
       "    .dataframe thead th {\n",
       "        text-align: right;\n",
       "    }\n",
       "</style>\n",
       "<table border=\"1\" class=\"dataframe\">\n",
       "  <thead>\n",
       "    <tr style=\"text-align: right;\">\n",
       "      <th></th>\n",
       "      <th>\"Al volante\"</th>\n",
       "      <th>\"En el metro\"</th>\n",
       "    </tr>\n",
       "  </thead>\n",
       "  <tbody>\n",
       "    <tr>\n",
       "      <th>0</th>\n",
       "      <td>1</td>\n",
       "      <td>2</td>\n",
       "    </tr>\n",
       "    <tr>\n",
       "      <th>1</th>\n",
       "      <td>2</td>\n",
       "      <td>3</td>\n",
       "    </tr>\n",
       "    <tr>\n",
       "      <th>2</th>\n",
       "      <td>4</td>\n",
       "      <td>1</td>\n",
       "    </tr>\n",
       "    <tr>\n",
       "      <th>3</th>\n",
       "      <td>2</td>\n",
       "      <td>3</td>\n",
       "    </tr>\n",
       "    <tr>\n",
       "      <th>4</th>\n",
       "      <td>5</td>\n",
       "      <td>0</td>\n",
       "    </tr>\n",
       "  </tbody>\n",
       "</table>\n",
       "</div>"
      ],
      "text/plain": [
       "   \"Al volante\"  \"En el metro\"\n",
       "0             1              2\n",
       "1             2              3\n",
       "2             4              1\n",
       "3             2              3\n",
       "4             5              0"
      ]
     },
     "execution_count": 27,
     "metadata": {},
     "output_type": "execute_result"
    }
   ],
   "source": [
    "clients_df = pd.DataFrame(clients_packs, columns=packs_names)\n",
    "clients_df"
   ]
  },
  {
   "cell_type": "code",
   "execution_count": 29,
   "metadata": {},
   "outputs": [
    {
     "name": "stdout",
     "output_type": "stream",
     "text": [
      "Paquete del cliente\n",
      "                \n",
      "\"Al volante\"   2\n",
      "\"En el metro\"  3\n",
      "\n"
     ]
    }
   ],
   "source": [
    "print(\"Paquete del cliente\")\n",
    "print(pd.DataFrame(clients_packs[1], index=packs_names, columns=['']))\n",
    "print()\n"
   ]
  },
  {
   "cell_type": "code",
   "execution_count": 35,
   "metadata": {},
   "outputs": [
    {
     "name": "stdout",
     "output_type": "stream",
     "text": [
      "Minutos Mensajes Megabytes\n",
      "[  55   19 4000]\n"
     ]
    }
   ],
   "source": [
    "client_vector = clients_packs[1]\n",
    "client_services= df.values.dot(client_vector)\n",
    "\n",
    "print('Minutos', 'Mensajes', 'Megabytes')\n",
    "print(client_services)"
   ]
  },
  {
   "cell_type": "code",
   "execution_count": 36,
   "metadata": {},
   "outputs": [
    {
     "name": "stdout",
     "output_type": "stream",
     "text": [
      "Paquete del cliente\n",
      "                \n",
      "\"Al volante\"   2\n",
      "\"En el metro\"  3\n",
      "\n",
      "Minutos Mensajes Megabytes\n",
      "[  55   19 4000]\n"
     ]
    }
   ],
   "source": [
    "import numpy as np\n",
    "import pandas as pd\n",
    "\n",
    "services = ['Minutos', 'Mensajes', 'Megabytes']\n",
    "packs_names = ['\"Al volante\"', '\"En el metro\"']\n",
    "packs = np.array([[20, 5], [2, 5], [500, 1000]])\n",
    "\n",
    "clients_packs = np.array([[1, 2], [2, 3], [4, 1], [2, 3], [5, 0]])\n",
    "\n",
    "print(\"Paquete del cliente\")\n",
    "print(pd.DataFrame(clients_packs[1], index=packs_names, columns=['']))\n",
    "print()\n",
    "\n",
    "client_vector = clients_packs[1]\n",
    "client_services = packs.dot(client_vector)\n",
    "\n",
    "print('Minutos', 'Mensajes', 'Megabytes')\n",
    "print(client_services)"
   ]
  },
  {
   "cell_type": "markdown",
   "metadata": {},
   "source": [
    "Transponer matrices"
   ]
  },
  {
   "cell_type": "code",
   "execution_count": 45,
   "metadata": {},
   "outputs": [
    {
     "data": {
      "text/plain": [
       "array([[ 2,  8],\n",
       "       [ 4,  3],\n",
       "       [32,  3]])"
      ]
     },
     "execution_count": 45,
     "metadata": {},
     "output_type": "execute_result"
    }
   ],
   "source": [
    "x= np.array([[2,4,32],[8,3,3]])\n",
    "x.T"
   ]
  },
  {
   "cell_type": "markdown",
   "metadata": {},
   "source": [
    "#### Multiplicacion de Matrices\n",
    " \n",
    "Para poder multiplicar matrices debemos considerar que `el numero de filas de a coincida con el número de columnas de b`. El número de columnas de la primera matriz debe coincidir con el número de filas de la segunda matriz."
   ]
  },
  {
   "cell_type": "code",
   "execution_count": 17,
   "metadata": {},
   "outputs": [
    {
     "name": "stdout",
     "output_type": "stream",
     "text": [
      "[[ 9 12]\n",
      " [ 9 12]]\n",
      "\n",
      "[[ 9 12]\n",
      " [ 9 12]]\n",
      "\n",
      "[[ 9 12]\n",
      " [ 9 12]]\n",
      "\n",
      "[[3 8]\n",
      " [3 8]]\n"
     ]
    }
   ],
   "source": [
    "import numpy as np\n",
    "\n",
    "matriz1 = np.array(\n",
    "    [[1,2],\n",
    "\t[1,2]])\n",
    "matriz2 = np.array(\n",
    "    [[3,4],\n",
    "     [3,4]])\n",
    "\n",
    "print( matriz1 @ matriz2 , end='\\n\\n')\n",
    "print( matriz1.dot(matriz2), end='\\n\\n')\n",
    "print( np.dot(matriz1, matriz2 ), end='\\n\\n')\n",
    "\n",
    "print(matriz1 * matriz2)\n",
    "\n",
    "\n",
    "# c11= 2, 6\n",
    "# c12= 2, 6\n",
    "# c21 = 4,8\n",
    "# c22 = 4,8\n",
    "\n",
    "# 9 12\n",
    "# 9 12\n",
    "\n"
   ]
  },
  {
   "cell_type": "code",
   "execution_count": 4,
   "metadata": {},
   "outputs": [
    {
     "data": {
      "text/plain": [
       "array([[-20,  63,  -7],\n",
       "       [ -2,  26, -19]])"
      ]
     },
     "execution_count": 4,
     "metadata": {},
     "output_type": "execute_result"
    }
   ],
   "source": [
    "import numpy as np\n",
    "\n",
    "matriz1 = np.array(\n",
    "    [[5, 3, -4, -2],\n",
    "\t[8, -1, 0, -3]])\n",
    "matriz2 = np.array(\n",
    "    [[1,4,0],\n",
    "     [-5,3,7],\n",
    "     [0,-9,5],\n",
    "     [5,1,4]])\n",
    "\n",
    "matriz1 @ matriz2\n",
    "matriz1.dot(matriz2)\n"
   ]
  },
  {
   "cell_type": "markdown",
   "metadata": {},
   "source": [
    "\n",
    "Roble y Pino ha recibido pedidos de muebles de varios lugares diferentes y necesitan saber las cantidades de los materiales que necesitan para cumplir con los pedidos. Como antes, la matriz manufacture muestra los materiales necesarios para cada uno de los diferentes tipos de muebles, donde las filas son los tipos de muebles (silla, banca y mesa) y las columnas son los materiales. Por ejemplo, para hacer una silla, necesitamos 0.2 metros de tabla, 1.2 metros de tubo de metal y 8 tornillos.\n",
    "\n",
    "La matriz furniture muestra el número de cada mueble en los diferentes lugares: una cafetería, un comedor y un restaurante, donde las filas son los lugares y las columnas son los tipos de muebles. Por ejemplo, la cafetería necesita 12 sillas, 0 bancas y 3 mesas.\n",
    "\n",
    "Encuentra la matriz venues_materials, que enumera los establecimientos por fila y los materiales para amueblarlos por columna. Muestra el resultado en pantalla (en precódigo).\n",
    "\n",
    "Calcula la cantidad de materiales necesarios para la producción de muebles si el pedido se recibió de 18 cafeterías, 12 comedores y 7 restaurantes. Guarda este vector en la variable total_materials y muéstralo en la pantalla (en precódigo)."
   ]
  },
  {
   "cell_type": "code",
   "execution_count": 33,
   "metadata": {},
   "outputs": [],
   "source": [
    "import numpy  as np\n",
    "import pandas as pd\n",
    "\n",
    "materials_names = ['Tabla', 'Tubos', 'Tornillos']\n",
    "venues_names = ['Cafetería', 'Comedor', 'Restaurante']\n",
    "\n",
    "manufacture = np.array([\n",
    "    [0.2, 1.2, 8],    # materiales para silla\n",
    "    [0.5, 0.8, 6],    # materiales para banco\n",
    "    [0.8, 1.6, 8]])   # materiales para mesa\n",
    "\n",
    "furniture = np.array([\n",
    "    [12, 0, 3],   # Pedido de cafetería (silla, banca, mesa)\n",
    "    [40, 2, 10],  # Pedido de comedor\n",
    "    [60, 6, 18]]) # Pedido de restaurante\n",
    "\n",
    "venues = [18, 12, 7]"
   ]
  },
  {
   "cell_type": "code",
   "execution_count": 34,
   "metadata": {},
   "outputs": [
    {
     "data": {
      "text/html": [
       "<div>\n",
       "<style scoped>\n",
       "    .dataframe tbody tr th:only-of-type {\n",
       "        vertical-align: middle;\n",
       "    }\n",
       "\n",
       "    .dataframe tbody tr th {\n",
       "        vertical-align: top;\n",
       "    }\n",
       "\n",
       "    .dataframe thead th {\n",
       "        text-align: right;\n",
       "    }\n",
       "</style>\n",
       "<table border=\"1\" class=\"dataframe\">\n",
       "  <thead>\n",
       "    <tr style=\"text-align: right;\">\n",
       "      <th></th>\n",
       "      <th>Tabla</th>\n",
       "      <th>Tubos</th>\n",
       "      <th>Tornillos</th>\n",
       "    </tr>\n",
       "  </thead>\n",
       "  <tbody>\n",
       "    <tr>\n",
       "      <th>silla</th>\n",
       "      <td>0.2</td>\n",
       "      <td>1.2</td>\n",
       "      <td>8.0</td>\n",
       "    </tr>\n",
       "    <tr>\n",
       "      <th>mesa</th>\n",
       "      <td>0.5</td>\n",
       "      <td>0.8</td>\n",
       "      <td>6.0</td>\n",
       "    </tr>\n",
       "    <tr>\n",
       "      <th>banco</th>\n",
       "      <td>0.8</td>\n",
       "      <td>1.6</td>\n",
       "      <td>8.0</td>\n",
       "    </tr>\n",
       "  </tbody>\n",
       "</table>\n",
       "</div>"
      ],
      "text/plain": [
       "       Tabla  Tubos  Tornillos\n",
       "silla    0.2    1.2        8.0\n",
       "mesa     0.5    0.8        6.0\n",
       "banco    0.8    1.6        8.0"
      ]
     },
     "execution_count": 34,
     "metadata": {},
     "output_type": "execute_result"
    }
   ],
   "source": [
    "pd.DataFrame(manufacture, columns=materials_names, index=['silla','mesa','banco'])"
   ]
  },
  {
   "cell_type": "code",
   "execution_count": 35,
   "metadata": {},
   "outputs": [
    {
     "data": {
      "text/html": [
       "<div>\n",
       "<style scoped>\n",
       "    .dataframe tbody tr th:only-of-type {\n",
       "        vertical-align: middle;\n",
       "    }\n",
       "\n",
       "    .dataframe tbody tr th {\n",
       "        vertical-align: top;\n",
       "    }\n",
       "\n",
       "    .dataframe thead th {\n",
       "        text-align: right;\n",
       "    }\n",
       "</style>\n",
       "<table border=\"1\" class=\"dataframe\">\n",
       "  <thead>\n",
       "    <tr style=\"text-align: right;\">\n",
       "      <th></th>\n",
       "      <th>silla</th>\n",
       "      <th>mesa</th>\n",
       "      <th>banco</th>\n",
       "    </tr>\n",
       "  </thead>\n",
       "  <tbody>\n",
       "    <tr>\n",
       "      <th>Cafetería</th>\n",
       "      <td>12</td>\n",
       "      <td>0</td>\n",
       "      <td>3</td>\n",
       "    </tr>\n",
       "    <tr>\n",
       "      <th>Comedor</th>\n",
       "      <td>40</td>\n",
       "      <td>2</td>\n",
       "      <td>10</td>\n",
       "    </tr>\n",
       "    <tr>\n",
       "      <th>Restaurante</th>\n",
       "      <td>60</td>\n",
       "      <td>6</td>\n",
       "      <td>18</td>\n",
       "    </tr>\n",
       "  </tbody>\n",
       "</table>\n",
       "</div>"
      ],
      "text/plain": [
       "             silla  mesa  banco\n",
       "Cafetería       12     0      3\n",
       "Comedor         40     2     10\n",
       "Restaurante     60     6     18"
      ]
     },
     "execution_count": 35,
     "metadata": {},
     "output_type": "execute_result"
    }
   ],
   "source": [
    "pd.DataFrame(furniture, columns=['silla','mesa','banco'], index=venues_names)"
   ]
  },
  {
   "cell_type": "code",
   "execution_count": 36,
   "metadata": {},
   "outputs": [],
   "source": [
    "#establefimientos en fila\n",
    "#materiales por columna\n",
    "total_materials = furniture @ manufacture"
   ]
  },
  {
   "cell_type": "code",
   "execution_count": 13,
   "metadata": {},
   "outputs": [
    {
     "data": {
      "text/html": [
       "<div>\n",
       "<style scoped>\n",
       "    .dataframe tbody tr th:only-of-type {\n",
       "        vertical-align: middle;\n",
       "    }\n",
       "\n",
       "    .dataframe tbody tr th {\n",
       "        vertical-align: top;\n",
       "    }\n",
       "\n",
       "    .dataframe thead th {\n",
       "        text-align: right;\n",
       "    }\n",
       "</style>\n",
       "<table border=\"1\" class=\"dataframe\">\n",
       "  <thead>\n",
       "    <tr style=\"text-align: right;\">\n",
       "      <th></th>\n",
       "      <th>Tabla</th>\n",
       "      <th>Tubos</th>\n",
       "      <th>Tornillos</th>\n",
       "    </tr>\n",
       "  </thead>\n",
       "  <tbody>\n",
       "    <tr>\n",
       "      <th>Cafetería</th>\n",
       "      <td>4.8</td>\n",
       "      <td>19.2</td>\n",
       "      <td>120.0</td>\n",
       "    </tr>\n",
       "    <tr>\n",
       "      <th>Comedor</th>\n",
       "      <td>17.0</td>\n",
       "      <td>65.6</td>\n",
       "      <td>412.0</td>\n",
       "    </tr>\n",
       "    <tr>\n",
       "      <th>Restaurante</th>\n",
       "      <td>29.4</td>\n",
       "      <td>105.6</td>\n",
       "      <td>660.0</td>\n",
       "    </tr>\n",
       "  </tbody>\n",
       "</table>\n",
       "</div>"
      ],
      "text/plain": [
       "             Tabla  Tubos  Tornillos\n",
       "Cafetería      4.8   19.2      120.0\n",
       "Comedor       17.0   65.6      412.0\n",
       "Restaurante   29.4  105.6      660.0"
      ]
     },
     "execution_count": 13,
     "metadata": {},
     "output_type": "execute_result"
    }
   ],
   "source": [
    "pd.DataFrame(total_materials, columns=materials_names, index=venues_names)"
   ]
  },
  {
   "cell_type": "code",
   "execution_count": 44,
   "metadata": {},
   "outputs": [
    {
     "data": {
      "text/plain": [
       "array([1156.8, 3977.2, 6416.4])"
      ]
     },
     "execution_count": 44,
     "metadata": {},
     "output_type": "execute_result"
    }
   ],
   "source": [
    "total_materials @(venues) #Imprimiento el total de materiales"
   ]
  },
  {
   "cell_type": "code",
   "execution_count": 41,
   "metadata": {},
   "outputs": [],
   "source": [
    "new_matrix = [] \n",
    "\n",
    "for i, row in enumerate(total_materials):\n",
    "\tnew_matrix.append(row*venues[i])"
   ]
  },
  {
   "cell_type": "code",
   "execution_count": 45,
   "metadata": {},
   "outputs": [
    {
     "data": {
      "text/html": [
       "<div>\n",
       "<style scoped>\n",
       "    .dataframe tbody tr th:only-of-type {\n",
       "        vertical-align: middle;\n",
       "    }\n",
       "\n",
       "    .dataframe tbody tr th {\n",
       "        vertical-align: top;\n",
       "    }\n",
       "\n",
       "    .dataframe thead th {\n",
       "        text-align: right;\n",
       "    }\n",
       "</style>\n",
       "<table border=\"1\" class=\"dataframe\">\n",
       "  <thead>\n",
       "    <tr style=\"text-align: right;\">\n",
       "      <th></th>\n",
       "      <th>Tabla</th>\n",
       "      <th>Tubos</th>\n",
       "      <th>Tornillos</th>\n",
       "    </tr>\n",
       "  </thead>\n",
       "  <tbody>\n",
       "    <tr>\n",
       "      <th>Cafetería</th>\n",
       "      <td>86.4</td>\n",
       "      <td>345.6</td>\n",
       "      <td>2160.0</td>\n",
       "    </tr>\n",
       "    <tr>\n",
       "      <th>Comedor</th>\n",
       "      <td>204.0</td>\n",
       "      <td>787.2</td>\n",
       "      <td>4944.0</td>\n",
       "    </tr>\n",
       "    <tr>\n",
       "      <th>Restaurante</th>\n",
       "      <td>205.8</td>\n",
       "      <td>739.2</td>\n",
       "      <td>4620.0</td>\n",
       "    </tr>\n",
       "  </tbody>\n",
       "</table>\n",
       "</div>"
      ],
      "text/plain": [
       "             Tabla  Tubos  Tornillos\n",
       "Cafetería     86.4  345.6     2160.0\n",
       "Comedor      204.0  787.2     4944.0\n",
       "Restaurante  205.8  739.2     4620.0"
      ]
     },
     "execution_count": 45,
     "metadata": {},
     "output_type": "execute_result"
    }
   ],
   "source": [
    "pd.DataFrame(new_matrix, columns=materials_names , index=venues_names) "
   ]
  },
  {
   "cell_type": "code",
   "execution_count": 26,
   "metadata": {},
   "outputs": [
    {
     "data": {
      "text/plain": [
       "array([ 6, 12, 15])"
      ]
     },
     "execution_count": 26,
     "metadata": {},
     "output_type": "execute_result"
    }
   ],
   "source": [
    "np.array([2,4,5]) *3"
   ]
  },
  {
   "cell_type": "code",
   "execution_count": null,
   "metadata": {},
   "outputs": [],
   "source": [
    "\n",
    "venues_materials = manufacture.dot(furniture.T)  #[3,3][3,3]\n",
    "\n",
    "print('Por el establecimiento')\n",
    "print(pd.DataFrame(venues_materials, index=venues_names, columns=materials_names))\n",
    "print()\n",
    "\n",
    "venues = [18, 12, 7]\n",
    "\n",
    "total_materials = venues_materials.T @ venues\n",
    "\n",
    "print('Total')\n",
    "print(pd.DataFrame([total_materials], index=[''], columns=materials_names))"
   ]
  },
  {
   "cell_type": "markdown",
   "metadata": {},
   "source": [
    "## Matriz unitaria (o de identidad)"
   ]
  },
  {
   "cell_type": "markdown",
   "metadata": {},
   "source": [
    "Ahora aprendamos sobre matrices identidad e inversas. Estos conceptos son importantes para derivar la función objetivo con la intención de minimizar el ECM.\n",
    "`Una matriz identidad (también conocida como matriz unitaria) es una matriz cuadrada con unos a lo largo de la diagonal principal y ceros en el resto.`\n",
    "\n",
    "Veamos una matriz identidad de 3×3."
   ]
  },
  {
   "cell_type": "code",
   "execution_count": 9,
   "metadata": {},
   "outputs": [
    {
     "data": {
      "text/plain": [
       "array([[3, 4, 6],\n",
       "       [1, 6, 3],\n",
       "       [8, 5, 5]])"
      ]
     },
     "execution_count": 9,
     "metadata": {},
     "output_type": "execute_result"
    }
   ],
   "source": [
    "\n",
    "import numpy as np\n",
    "matriz_unit= np.array([[1,0,0],[0,1,0],[0,0,1]])\n",
    "\n",
    "matriza = np.array([[3,4,6],[1,6,3],[8,5,5]])\n",
    "\n",
    "matriza @matriz_unit"
   ]
  },
  {
   "cell_type": "markdown",
   "metadata": {},
   "source": [
    "El resultado de la matriz sería identico al multiplicarlo por una matriz unitaria (de identidad), incluso si se usan menos observaciones (filas) en la matriz"
   ]
  },
  {
   "cell_type": "code",
   "execution_count": 11,
   "metadata": {},
   "outputs": [
    {
     "data": {
      "text/plain": [
       "array([[3, 4, 6]])"
      ]
     },
     "execution_count": 11,
     "metadata": {},
     "output_type": "execute_result"
    }
   ],
   "source": [
    "\n",
    "import numpy as np\n",
    "matriz_unit= np.array([[1,0,0],[0,1,0],[0,0,1]])\n",
    "\n",
    "matrizA = np.array([[3,4,6]])\n",
    "\n",
    "matrizA @matriz_unit\n"
   ]
  },
  {
   "cell_type": "markdown",
   "metadata": {},
   "source": [
    "Incluso si multiplicas dos matrices de identidad, obtendrás el mismo resultado."
   ]
  },
  {
   "cell_type": "code",
   "execution_count": 17,
   "metadata": {},
   "outputs": [
    {
     "data": {
      "text/plain": [
       "array([[1, 0, 0],\n",
       "       [0, 1, 0],\n",
       "       [0, 0, 1]])"
      ]
     },
     "execution_count": 17,
     "metadata": {},
     "output_type": "execute_result"
    }
   ],
   "source": [
    "\n",
    "matriz_unit @ matriz_unit"
   ]
  },
  {
   "cell_type": "code",
   "execution_count": 16,
   "metadata": {},
   "outputs": [
    {
     "data": {
      "text/plain": [
       "array([[1., 1., 1.],\n",
       "       [1., 1., 1.],\n",
       "       [1., 1., 1.]])"
      ]
     },
     "execution_count": 16,
     "metadata": {},
     "output_type": "execute_result"
    }
   ],
   "source": [
    "matrizB = np.ones([3,3])\n",
    "matrizB"
   ]
  },
  {
   "cell_type": "markdown",
   "metadata": {},
   "source": [
    "## Matriz Inversa\n",
    "\n",
    "La matriz inversa (denotada por −1) para una matriz cuadrada A es la matriz c`uyo producto con A es igual a la matriz identidad`. La multiplicación se puede realizar en cualquier orden. No todas las matrices tienen inversa, y las que la tienen se llaman matrices invertibles."
   ]
  },
  {
   "cell_type": "code",
   "execution_count": 19,
   "metadata": {},
   "outputs": [
    {
     "name": "stdout",
     "output_type": "stream",
     "text": [
      "Matriz original:\n",
      "[[ 2  1 -1]\n",
      " [ 0 -1  2]\n",
      " [ 1  1  1]]\n",
      "\n",
      "Matriz inversa:\n",
      "[[ 0.6  0.4 -0.2]\n",
      " [-0.4 -0.6  0.8]\n",
      " [-0.2  0.2  0.4]]\n"
     ]
    },
    {
     "data": {
      "text/plain": [
       "array([[1., 0., 0.],\n",
       "       [0., 1., 0.],\n",
       "       [0., 0., 1.]])"
      ]
     },
     "execution_count": 19,
     "metadata": {},
     "output_type": "execute_result"
    }
   ],
   "source": [
    "import numpy as np\n",
    "\n",
    "# Definimos una matriz de ejemplo\n",
    "matriz = np.array([[2, 1, -1],\n",
    "                   [0, -1, 2],\n",
    "                   [1, 1, 1]])\n",
    "\n",
    "# Calculamos la inversa de la matriz\n",
    "matriz_inversa = np.linalg.inv(matriz)\n",
    "\n",
    "# Imprimimos la matriz original y su inversa\n",
    "print(\"Matriz original:\")\n",
    "print(matriz)\n",
    "print(\"\\nMatriz inversa:\")\n",
    "print(matriz_inversa)\n",
    "\n",
    "np.linalg.inv(matriz_unit)"
   ]
  }
 ],
 "metadata": {
  "kernelspec": {
   "display_name": "Python 3",
   "language": "python",
   "name": "python3"
  },
  "language_info": {
   "codemirror_mode": {
    "name": "ipython",
    "version": 3
   },
   "file_extension": ".py",
   "mimetype": "text/x-python",
   "name": "python",
   "nbconvert_exporter": "python",
   "pygments_lexer": "ipython3",
   "version": "3.12.0"
  }
 },
 "nbformat": 4,
 "nbformat_minor": 2
}
