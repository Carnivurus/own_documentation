{
 "cells": [
  {
   "cell_type": "markdown",
   "metadata": {},
   "source": [
    "np.argsort (devuelve el indice de menor a mayor)"
   ]
  },
  {
   "cell_type": "code",
   "execution_count": 30,
   "metadata": {},
   "outputs": [
    {
     "data": {
      "text/plain": [
       "3"
      ]
     },
     "execution_count": 30,
     "metadata": {},
     "output_type": "execute_result"
    }
   ],
   "source": [
    "import numpy as np\n",
    "vals= np.array([15,24,12,4,5,7,34,212])\n",
    "sorted_index = np.argsort(vals)\n",
    "sorted_index[0]"
   ]
  },
  {
   "cell_type": "code",
   "execution_count": 38,
   "metadata": {},
   "outputs": [
    {
     "data": {
      "text/html": [
       "<div>\n",
       "<style scoped>\n",
       "    .dataframe tbody tr th:only-of-type {\n",
       "        vertical-align: middle;\n",
       "    }\n",
       "\n",
       "    .dataframe tbody tr th {\n",
       "        vertical-align: top;\n",
       "    }\n",
       "\n",
       "    .dataframe thead th {\n",
       "        text-align: right;\n",
       "    }\n",
       "</style>\n",
       "<table border=\"1\" class=\"dataframe\">\n",
       "  <thead>\n",
       "    <tr style=\"text-align: right;\">\n",
       "      <th></th>\n",
       "      <th>total area</th>\n",
       "      <th>kitchen</th>\n",
       "      <th>living area</th>\n",
       "      <th>floor</th>\n",
       "      <th>total floors</th>\n",
       "    </tr>\n",
       "  </thead>\n",
       "  <tbody>\n",
       "    <tr>\n",
       "      <th>0</th>\n",
       "      <td>36.5</td>\n",
       "      <td>5.9</td>\n",
       "      <td>17.9</td>\n",
       "      <td>2</td>\n",
       "      <td>7</td>\n",
       "    </tr>\n",
       "    <tr>\n",
       "      <th>1</th>\n",
       "      <td>71.7</td>\n",
       "      <td>12.2</td>\n",
       "      <td>34.3</td>\n",
       "      <td>5</td>\n",
       "      <td>21</td>\n",
       "    </tr>\n",
       "    <tr>\n",
       "      <th>2</th>\n",
       "      <td>88.0</td>\n",
       "      <td>18.1</td>\n",
       "      <td>58.2</td>\n",
       "      <td>17</td>\n",
       "      <td>17</td>\n",
       "    </tr>\n",
       "  </tbody>\n",
       "</table>\n",
       "</div>"
      ],
      "text/plain": [
       "   total area  kitchen  living area  floor  total floors\n",
       "0        36.5      5.9         17.9      2             7\n",
       "1        71.7     12.2         34.3      5            21\n",
       "2        88.0     18.1         58.2     17            17"
      ]
     },
     "execution_count": 38,
     "metadata": {},
     "output_type": "execute_result"
    }
   ],
   "source": [
    "import numpy as np\n",
    "import pandas as pd\n",
    "from scipy.spatial import distance\n",
    "\n",
    "columns = [\n",
    "    'bedrooms',\n",
    "    'total area',\n",
    "    'kitchen',\n",
    "    'living area',\n",
    "    'floor',\n",
    "    'total floors',\n",
    "]\n",
    "\n",
    "df_train = pd.DataFrame(\n",
    "    [\n",
    "        [1.0, 38.5, 6.9, 18.9, 3.0, 5.0],\n",
    "        [1.0, 38.0, 8.5, 19.2, 9.0, 17.0],\n",
    "        [1.0, 34.7, 10.3, 19.8, 1.0, 9.0],\n",
    "        [1.0, 45.9, 11.1, 17.5, 11.0, 23.0],\n",
    "        [1.0, 42.4, 10.0, 19.9, 6.0, 14.0],\n",
    "        [1.0, 46.0, 10.2, 20.5, 3.0, 12.0],\n",
    "        [2.0, 77.7, 13.2, 39.3, 3.0, 17.0],\n",
    "        [2.0, 69.8, 11.1, 31.4, 12.0, 23.0],\n",
    "        [2.0, 78.2, 19.4, 33.2, 4.0, 9.0],\n",
    "        [2.0, 55.5, 7.8, 29.6, 1.0, 25.0],\n",
    "        [2.0, 74.3, 16.0, 34.2, 14.0, 17.0],\n",
    "        [2.0, 78.3, 12.3, 42.6, 23.0, 23.0],\n",
    "        [2.0, 74.0, 18.1, 49.0, 8.0, 9.0],\n",
    "        [2.0, 91.4, 20.1, 60.4, 2.0, 10.0],\n",
    "        [3.0, 85.0, 17.8, 56.1, 14.0, 14.0],\n",
    "        [3.0, 79.8, 9.8, 44.8, 9.0, 10.0],\n",
    "        [3.0, 72.0, 10.2, 37.3, 7.0, 9.0],\n",
    "        [3.0, 95.3, 11.0, 51.5, 15.0, 23.0],\n",
    "        [3.0, 69.3, 8.5, 39.3, 4.0, 9.0],\n",
    "        [3.0, 89.8, 11.2, 58.2, 24.0, 25.0],\n",
    "    ],\n",
    "    columns=columns,\n",
    ")\n",
    "\n",
    "\n",
    "train_features = df_train.drop('bedrooms', axis=1)\n",
    "train_target = df_train['bedrooms']\n",
    "\n",
    "df_test = pd.DataFrame(\n",
    "    [\n",
    "        [1, 36.5, 5.9, 17.9, 2, 7],\n",
    "        [2, 71.7, 12.2, 34.3, 5, 21],\n",
    "        [3, 88.0, 18.1, 58.2, 17, 17],\n",
    "    ],\n",
    "    columns=columns,\n",
    ")\n",
    "\n",
    "test_features = df_test.drop('bedrooms', axis=1)\n",
    "\n",
    "\n",
    "def nearest_neighbor_predict(train_features, train_target, new_features):\n",
    "    distances = []\n",
    "    for i in range(train_features.shape[0]):\n",
    "        vector = train_features.loc[i].values\n",
    "        distances.append(distance.euclidean(new_features, vector))\n",
    "    best_index = np.array(distances).argmin()\n",
    "    return train_target.loc[best_index]\n",
    "\n",
    "\n",
    "class NearestNeighborClassifier():\n",
    "    def fit(self, train_features, train_target):\n",
    "        self.train_features = train_features\n",
    "        self.train_target = train_target\n",
    "\n",
    "    # def predict(self, new_features):\n",
    "    #     values = []\n",
    "    #     for i in range(new_features.shape[0]):\n",
    "    #        # <escribe el código aquí>\n",
    "\n",
    "# model = NearestNeighborClassifier()\n",
    "# model.fit(train_features, train_target)\n",
    "# new_predictions = model.predict(test_features)\n",
    "# print(new_predictions)\n",
    "        \n",
    "train_features # caracteristicas\n",
    "# train_target #numero de cuardos\n",
    "test_features # caracteristicas de testeo\n",
    "\n",
    "- se compara la distancia de train y test features.\n",
    "- se obtiene\n"
   ]
  }
 ],
 "metadata": {
  "kernelspec": {
   "display_name": "Python 3",
   "language": "python",
   "name": "python3"
  },
  "language_info": {
   "codemirror_mode": {
    "name": "ipython",
    "version": 3
   },
   "file_extension": ".py",
   "mimetype": "text/x-python",
   "name": "python",
   "nbconvert_exporter": "python",
   "pygments_lexer": "ipython3",
   "version": "3.12.0"
  }
 },
 "nbformat": 4,
 "nbformat_minor": 2
}
