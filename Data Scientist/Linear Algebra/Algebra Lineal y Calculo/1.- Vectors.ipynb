{
 "cells": [
  {
   "cell_type": "markdown",
   "metadata": {},
   "source": [
    "## Vector\n",
    "En el contexto de ciencia de datos y análisis de datos, un vector se refiere a una `estructura de datos` que representa una `serie ordenada de valores`. Esencialmente, un vector es una secuencia de elementos que pueden ser números, texto u otros tipos de datos. En términos matemáticos, un vector puede ser visto como una `matriz unidimensional`."
   ]
  },
  {
   "cell_type": "code",
   "execution_count": 21,
   "metadata": {},
   "outputs": [
    {
     "name": "stdout",
     "output_type": "stream",
     "text": [
      "Esto es una lista: [1, 2, 3, 4, 5, 9, 7, 0]\n",
      "Esto es u vector: [1 2 3 4 5 9 7 0]\n",
      "Esto es una matriz unidimensional ['a', 'b', 'c']\n"
     ]
    }
   ],
   "source": [
    "import pandas as pd\n",
    "import numpy as np #Numeric Python\n",
    "list_example = [1, 2, 3, 4, 5, 9 ,7, 0] # this is a list\n",
    "vector = np.array(list_example)\n",
    "unidimensional_matrix = ['a','b','c']\n",
    "\n",
    "print(f'Esto es una lista: {list_example}') # Separada con comas\n",
    "print(f'Esto es u vector: {vector}') # Normalmente representada sin comas\n",
    "print(f'Esto es una matriz unidimensional {unidimensional_matrix}')\n",
    "\n",
    "# En caso de querer convertir un vector a lista\n",
    "list_conversion = list(vector)"
   ]
  },
  {
   "cell_type": "markdown",
   "metadata": {},
   "source": [
    "Veamos un ejemplo concreto. La gente va a la tienda online de ropa LuxForVIP desde dos sitios agregadores. El primero anuncia artículos del mercado de masas, mientras que el segundo sitio agrega ropa de marca de lujo. \n",
    "\n",
    "Los visitantes de LuxForVIP valoran su satisfacción con los precios y la calidad de los productos en una escala de 0 a 100. La tabla contiene las valoraciones de todos los visitantes. Una puntuación alta para el precio indica que al cliente le gustó el precio (es decir, que la relación calidad-precio del artículo es buena). Del mismo modo, una puntuación alta para la calidad indica que el cliente consideró que el artículo era de alta calidad."
   ]
  },
  {
   "cell_type": "code",
   "execution_count": 29,
   "metadata": {},
   "outputs": [
    {
     "name": "stdout",
     "output_type": "stream",
     "text": [
      "Al conjunto de elementos numéricos se le llama vector: [68 18]\n"
     ]
    },
    {
     "data": {
      "text/html": [
       "<div>\n",
       "<style scoped>\n",
       "    .dataframe tbody tr th:only-of-type {\n",
       "        vertical-align: middle;\n",
       "    }\n",
       "\n",
       "    .dataframe tbody tr th {\n",
       "        vertical-align: top;\n",
       "    }\n",
       "\n",
       "    .dataframe thead th {\n",
       "        text-align: right;\n",
       "    }\n",
       "</style>\n",
       "<table border=\"1\" class=\"dataframe\">\n",
       "  <thead>\n",
       "    <tr style=\"text-align: right;\">\n",
       "      <th></th>\n",
       "      <th>Price</th>\n",
       "      <th>Quality</th>\n",
       "    </tr>\n",
       "  </thead>\n",
       "  <tbody>\n",
       "    <tr>\n",
       "      <th>0</th>\n",
       "      <td>68</td>\n",
       "      <td>18</td>\n",
       "    </tr>\n",
       "    <tr>\n",
       "      <th>1</th>\n",
       "      <td>81</td>\n",
       "      <td>19</td>\n",
       "    </tr>\n",
       "    <tr>\n",
       "      <th>2</th>\n",
       "      <td>81</td>\n",
       "      <td>22</td>\n",
       "    </tr>\n",
       "    <tr>\n",
       "      <th>3</th>\n",
       "      <td>15</td>\n",
       "      <td>75</td>\n",
       "    </tr>\n",
       "    <tr>\n",
       "      <th>4</th>\n",
       "      <td>75</td>\n",
       "      <td>15</td>\n",
       "    </tr>\n",
       "  </tbody>\n",
       "</table>\n",
       "</div>"
      ],
      "text/plain": [
       "   Price  Quality\n",
       "0     68       18\n",
       "1     81       19\n",
       "2     81       22\n",
       "3     15       75\n",
       "4     75       15"
      ]
     },
     "execution_count": 29,
     "metadata": {},
     "output_type": "execute_result"
    }
   ],
   "source": [
    "ratings_values = [\n",
    "    [68,18], [81,19], [81,22], [15,75], [75,15], [17,72], \n",
    "    [24,75], [21,91], [76, 6], [12,74], [18,83], [20,62], \n",
    "    [21,82], [21,79], [84,15], [73,16], [88,25], [78,23], \n",
    "    [32, 81], [77, 35]]\n",
    "ratings = pd.DataFrame(ratings_values, columns=['Price', 'Quality'])\n",
    "print(f'Al conjunto de elementos numéricos se le llama vector: {ratings.iloc[0].values}')\n",
    "ratings.head(5)\n"
   ]
  },
  {
   "cell_type": "markdown",
   "metadata": {},
   "source": [
    "## Graficar Vectores"
   ]
  },
  {
   "cell_type": "code",
   "execution_count": 60,
   "metadata": {},
   "outputs": [
    {
     "data": {
      "image/png": "[encoded data removed]",
      "text/plain": [
       "<Figure size 640x480 with 1 Axes>"
      ]
     },
     "metadata": {},
     "output_type": "display_data"
    }
   ],
   "source": [
    "import numpy as np\n",
    "import matplotlib.pyplot as plt\n",
    "\n",
    "# Definir los vértices del triángulo como vectores en 2D\n",
    "A = np.array([0, 0])\n",
    "B = np.array([3, 0])\n",
    "C = np.array([2, 2])\n",
    "\n",
    "# Visualizar el triángulo\n",
    "# plt.plot([0,0], [0,1], 'g-')  # Dibujar los lados del triángulo en rojo\n",
    "plt.arrow(0,0,2,2,head_width=0.2, head_length=0.3, fc='blue', ec='blue' )\n",
    "plt.arrow(0,0,3,1,head_width=0.2, head_length=0.3, fc='r', ec='r' )\n",
    "plt.arrow(0,0,1,2,head_width=0.2, head_length=0.3, fc='g', ec='g' )\n",
    "\n",
    "# # Establecer los límites del gráfico\n",
    "plt.xlim(0, 4)\n",
    "plt.ylim(0, 4)\n",
    "\n",
    "# Mostrar el gráfico\n",
    "plt.grid(True)\n",
    "plt.gca().set_aspect('equal', adjustable='box')\n",
    "plt.xlabel('X')\n",
    "plt.ylabel('Y')\n",
    "plt.title('Vectores')\n",
    "\n",
    "plt.show()"
   ]
  },
  {
   "cell_type": "markdown",
   "metadata": {},
   "source": [
    "Es posible usar operaciones aritméticas con los vectores, e incluso aplicar condicionales de acuerdo con la posición de la coordenada.\n"
   ]
  },
  {
   "cell_type": "code",
   "execution_count": 3,
   "metadata": {},
   "outputs": [
    {
     "name": "stdout",
     "output_type": "stream",
     "text": [
      "Valoraciones de los visitantes del primer agregador: [[15, 75], [17, 72], [24, 75], [21, 91], [12, 74], [18, 83], [20, 62], [21, 82], [21, 79], [32, 81]]\n",
      "Valoraciones de los visitantes del primer agregador: [[68, 18], [81, 19], [81, 22], [75, 15], [76, 6], [84, 15], [73, 16], [88, 25], [78, 23], [77, 35]]\n"
     ]
    },
    {
     "data": {
      "text/html": [
       "<div>\n",
       "<style scoped>\n",
       "    .dataframe tbody tr th:only-of-type {\n",
       "        vertical-align: middle;\n",
       "    }\n",
       "\n",
       "    .dataframe tbody tr th {\n",
       "        vertical-align: top;\n",
       "    }\n",
       "\n",
       "    .dataframe thead th {\n",
       "        text-align: right;\n",
       "    }\n",
       "</style>\n",
       "<table border=\"1\" class=\"dataframe\">\n",
       "  <thead>\n",
       "    <tr style=\"text-align: right;\">\n",
       "      <th></th>\n",
       "      <th>Price</th>\n",
       "      <th>Quality</th>\n",
       "    </tr>\n",
       "  </thead>\n",
       "  <tbody>\n",
       "    <tr>\n",
       "      <th>0</th>\n",
       "      <td>68</td>\n",
       "      <td>18</td>\n",
       "    </tr>\n",
       "    <tr>\n",
       "      <th>1</th>\n",
       "      <td>81</td>\n",
       "      <td>19</td>\n",
       "    </tr>\n",
       "    <tr>\n",
       "      <th>2</th>\n",
       "      <td>81</td>\n",
       "      <td>22</td>\n",
       "    </tr>\n",
       "    <tr>\n",
       "      <th>3</th>\n",
       "      <td>15</td>\n",
       "      <td>75</td>\n",
       "    </tr>\n",
       "    <tr>\n",
       "      <th>4</th>\n",
       "      <td>75</td>\n",
       "      <td>15</td>\n",
       "    </tr>\n",
       "  </tbody>\n",
       "</table>\n",
       "</div>"
      ],
      "text/plain": [
       "   Price  Quality\n",
       "0     68       18\n",
       "1     81       19\n",
       "2     81       22\n",
       "3     15       75\n",
       "4     75       15"
      ]
     },
     "execution_count": 3,
     "metadata": {},
     "output_type": "execute_result"
    }
   ],
   "source": [
    "import numpy as np\n",
    "import pandas as pd\n",
    "\n",
    "ratings_values = [\n",
    "    [68,18], [81,19], [81,22], [15,75], [75,15], [17,72], \n",
    "    [24,75], [21,91], [76, 6], [12,74], [18,83], [20,62], \n",
    "    [21,82], [21,79], [84,15], [73,16], [88,25], [78,23], \n",
    "    [32, 81], [77, 35]]\n",
    "\n",
    "ratings = pd.DataFrame(ratings_values, columns=['Price', 'Quality'])\n",
    "\n",
    "visitors_1 = []\n",
    "visitors_2 = []\n",
    "\n",
    "# print(ratings)\n",
    "for visitor in list(ratings.values):\n",
    "\tvisitor_list = visitor.tolist()\n",
    "\tif visitor_list[0] > visitor_list[1]: # Posición de la coordenada\n",
    "\t\tvisitors_2.append(visitor_list)\n",
    "\telse:\n",
    "\t\tvisitors_1.append(visitor_list)\n",
    "\n",
    "print('Valoraciones de los visitantes del primer agregador:', visitors_1)\n",
    "print('Valoraciones de los visitantes del primer agregador:', visitors_2)\n",
    "\n",
    "ratings.head()"
   ]
  },
  {
   "cell_type": "markdown",
   "metadata": {},
   "source": [
    "## Suma de Vectores"
   ]
  },
  {
   "cell_type": "markdown",
   "metadata": {},
   "source": [
    "Podemos sumar y restar vectores del mismo tamaño.\n",
    "Al sumar o restar vectores, se hace la operación para cada elemento de estos. Para sumar dos vectores, hay que sumar las coordenadas correspondientes de los vectores iniciales. A la hora de restar, cada coordenada del vector resultante es igual a la diferencia entre coordenadas de los vectores iniciales."
   ]
  },
  {
   "cell_type": "code",
   "execution_count": 9,
   "metadata": {},
   "outputs": [
    {
     "name": "stdout",
     "output_type": "stream",
     "text": [
      "[12  6]\n",
      "[8 0]\n"
     ]
    }
   ],
   "source": [
    "import numpy as np\n",
    "\n",
    "vector1 = np.array([2, 3])\n",
    "vector2 = np.array([10,3])\n",
    "sum_of_vectors = vector1 + vector2\n",
    "subtraction = vector2 - vector1\n",
    "print(sum_of_vectors)\n",
    "print(subtraction)\n"
   ]
  },
  {
   "cell_type": "markdown",
   "metadata": {},
   "source": [
    "Ahora resolveremos un problema con suma de vectores"
   ]
  },
  {
   "cell_type": "code",
   "execution_count": 54,
   "metadata": {},
   "outputs": [
    {
     "name": "stdout",
     "output_type": "stream",
     "text": [
      "Existencias de la primera tienda: [25 63 80 91 81 55 14 76 33 71] \n",
      "Existencias de la segunda tienda: [82 24 92 48 32 45  4 34 12  1]\n",
      "[107  87 172 139 113 100  18 110  45  72]\n",
      "                                       Quantity\n",
      "Capa de silicone para o iPhone 8            107\n",
      "Capa de couro para o iPhone 8                87\n",
      "Capa de silicone para o iPhone XS           172\n",
      "Capa de couro para o iPhone XS              139\n",
      "Capa de silicone para o iPhone XS Max       113\n",
      "Capa de couro para o iPhone XS Max          100\n",
      "Capa de silicone para o iPhone 11            18\n",
      "Capa de couro para o iPhone 11              110\n",
      "Capa de silicone para o iPhone 11 Pro        45\n",
      "Capa de couro para o iPhone 11 Pro           72\n"
     ]
    }
   ],
   "source": [
    "import numpy as np\n",
    "import pandas as pd\n",
    "\n",
    "quantity_1 = [25, 63, 80, 91, 81, 55, 14, 76, 33, 71]\n",
    "models = [\n",
    "    'Capa de silicone para o iPhone 8',\n",
    "    'Capa de couro para o iPhone 8',\n",
    "    'Capa de silicone para o iPhone XS',\n",
    "    'Capa de couro para o iPhone XS',\n",
    "    'Capa de silicone para o iPhone XS Max',\n",
    "    'Capa de couro para o iPhone XS Max',\n",
    "    'Capa de silicone para o iPhone 11',\n",
    "    'Capa de couro para o iPhone 11',\n",
    "    'Capa de silicone para o iPhone 11 Pro',\n",
    "    'Capa de couro para o iPhone 11 Pro',\n",
    "]\n",
    "stocks_1 = pd.DataFrame({'Quantity': quantity_1}, index=models)\n",
    "quantity_2 = [82, 24, 92, 48, 32, 45, 4, 34, 12, 1]\n",
    "stocks_2 = pd.DataFrame({'Quantity': quantity_2}, index=models)\n",
    "\n",
    "# Forzando a una lista a volverse un vector.\n",
    "vector_of_quantity_1 =  np.array(stocks_1['Quantity'])\n",
    "vector_of_quantity_2 =  np.array(stocks_2['Quantity'])\n",
    "\n",
    "#Segunda forma de resolverlo.\n",
    "vector_of_quantity_1 =  stocks_1['Quantity'].values\n",
    "vector_of_quantity_2 =  stocks_2['Quantity'].values\n",
    "print(\n",
    "    'Existencias de la primera tienda:',\n",
    "    vector_of_quantity_1,\n",
    "    '\\nExistencias de la segunda tienda:',\n",
    "    vector_of_quantity_2,\n",
    ")\n",
    "\n",
    "vectors_sum = vector_of_quantity_1 + vector_of_quantity_2\n",
    "df_united = pd.DataFrame({'Quantity':vectors_sum}, index=models)\n",
    "\n",
    "print(vectors_sum)\n",
    "print(df_united)"
   ]
  },
  {
   "cell_type": "markdown",
   "metadata": {},
   "source": [
    "Si usamos el primer metodo:\n",
    "Esta forma utiliza la función np.array() de NumPy para convertir la columna del DataFrame en un array de NumPy. Esto asegura que los datos se almacenen como un array de NumPy, lo que puede ser útil si planeas realizar operaciones vectorizadas u otras operaciones matemáticas con estos datos.\n",
    "\n",
    "Si usamos el segundo metodo:\n",
    "Esta forma utiliza el atributo .values de la serie de Pandas para extraer los valores como un array de NumPy. Esto proporciona una forma más directa y rápida de acceder a los valores subyacentes, sin necesidad de crear una copia. Sin embargo, ten en cuenta que si modificas estos valores, podrías estar modificando los datos subyacentes del DataFrame."
   ]
  },
  {
   "cell_type": "markdown",
   "metadata": {},
   "source": [
    "## Multiplicacion de Vectores\n",
    "\n"
   ]
  },
  {
   "cell_type": "code",
   "execution_count": 55,
   "metadata": {},
   "outputs": [
    {
     "name": "stdout",
     "output_type": "stream",
     "text": [
      "[4 6]\n"
     ]
    }
   ],
   "source": [
    "import numpy as np\n",
    "\n",
    "vector1 = np.array([2, 3])\n",
    "vector3 = 2 * vector1\n",
    "print(vector3)"
   ]
  },
  {
   "cell_type": "markdown",
   "metadata": {},
   "source": [
    "Ahora lo multiplicaremos por un negativo"
   ]
  },
  {
   "cell_type": "code",
   "execution_count": 10,
   "metadata": {},
   "outputs": [
    {
     "name": "stdout",
     "output_type": "stream",
     "text": [
      "[-10 -15]\n"
     ]
    }
   ],
   "source": [
    "import numpy as np\n",
    "\n",
    "vector1 = np.array([2, 3])\n",
    "vector3 = -5  * vector1\n",
    "print(vector3)"
   ]
  },
  {
   "cell_type": "markdown",
   "metadata": {},
   "source": [
    "Multiplicación con dot \n",
    "\n",
    "Puedes multiplicar vectores rápidamente en Python utilizando la biblioteca NumPy, que está optimizada para operaciones numéricas en matrices y vectores, es decir, np.dot es la suma de los productos de a*b"
   ]
  },
  {
   "cell_type": "code",
   "execution_count": 86,
   "metadata": {},
   "outputs": [
    {
     "name": "stdout",
     "output_type": "stream",
     "text": [
      "0.57\n",
      "0.57\n",
      "0.57\n"
     ]
    }
   ],
   "source": [
    "import numpy as np\n",
    "\n",
    "volume = np.array([0.3, 0.2, 0.25])\n",
    "content = np.array([0.6, 0.7, 1])\n",
    "\n",
    "print(sum(volume*content)) #Sin usar np.dot()\n",
    "print(np.dot(volume,content)) # Usando np.dot()\n",
    "print(volume @ content) #Shortcut de np.dot()"
   ]
  },
  {
   "cell_type": "markdown",
   "metadata": {},
   "source": [
    "Veamos otro ejemplo. Vector 𝑞 contiene las cantidades de cada modelo de auricular en el almacén. Vector 𝑐 contiene los precios de estos productos. El valor total de todos los artículos es la suma de los productos de la cantidad de cada modelo y de su precio, o para decirlo en términos más sencillos, el producto escalar (q,c)."
   ]
  },
  {
   "cell_type": "code",
   "execution_count": 92,
   "metadata": {},
   "outputs": [
    {
     "name": "stdout",
     "output_type": "stream",
     "text": [
      "Valor total de los artículos de las dos tiendas: 19502.76 USD\n"
     ]
    }
   ],
   "source": [
    "import numpy as np\n",
    "import pandas as pd\n",
    "\n",
    "store1_price = [209.9, 119.9, 53.9, 31.9, 19.9, 109.9, 59.99, 22.9, 81.11, 32.9]\n",
    "store1_quantity = [19, 11, 8, 15, 23, 7, 14, 9, 10, 4]\n",
    "\n",
    "store2_price = [209.9, 124.9, 42.9, 27.9, 23.9, 109.9, 49.9, 24.9, 89.9, 32.9]\n",
    "store2_quantity = [10, 16, 20, 9, 18, 12, 10, 11, 18, 22]\n",
    "\n",
    "models = ['Apple AirPods Pro',\n",
    "          'Apple AirPods MV7N2RU/A',\n",
    "          'JBL Tune 120TWS', \n",
    "          'JBL TUNE 500BT',\n",
    "          'JBL JR300BT', \n",
    "          'Huawei Freebuds 3',\n",
    "          'Philips TWS SHB2505',\n",
    "          'Sony WH-CH500',\n",
    "          'Sony WF-SP700N',\n",
    "          'Sony WI-XB400',\n",
    "         ]\n",
    "items1 = pd.DataFrame({'Price':store1_price, \n",
    "                        'Quantity':store1_quantity}, index=models)\n",
    "items2 = pd.DataFrame({'Price':store2_price, \n",
    "                        'Quantity':store2_quantity}, index=models)\n",
    "\n",
    "items1_price = items1['Price'].values \n",
    "items1_quantity = items1['Quantity'].values \n",
    "\n",
    "items2_price = items2['Price'].values \n",
    "items2_quantity = items2['Quantity'].values\n",
    "\n",
    "# valor de los artículos de la tienda 1\n",
    "items1_value = items1_price @ items1_quantity\n",
    "\n",
    "# valor de los artículos de la tienda 2\n",
    "items2_value = items2_price @ items2_quantity\n",
    "\n",
    "total_value = items1_value + items2_value\n",
    "\n",
    "print(f'Valor total de los artículos de las dos tiendas: {total_value:.2f} USD')"
   ]
  },
  {
   "cell_type": "markdown",
   "metadata": {},
   "source": [
    "## División de vectores\n"
   ]
  },
  {
   "cell_type": "code",
   "execution_count": 27,
   "metadata": {},
   "outputs": [
    {
     "name": "stdout",
     "output_type": "stream",
     "text": [
      "[49.1 48.4]\n"
     ]
    }
   ],
   "source": [
    "import numpy as np\n",
    "import pandas as pd\n",
    "\n",
    "ratings_values = [\n",
    "    [68,18], [81,19], [81,22], [15,75], [75,15], [17,72], \n",
    "    [24,75], [21,91], [76, 6], [12,74], [18,83], [20,62], \n",
    "    [21,82], [21,79], [84,15], [73,16], [88,25], [78,23], \n",
    "    [32, 81], [77, 35]]\n",
    "\n",
    "# Con un array podemos extraer los primeros elementos de cada vector\n",
    "price = np.array(ratings_values)[:,0]\n",
    "# Extraemos el segundo elemento de cada vector\n",
    "quality = np.array(ratings_values)[:,1]\n",
    "\n",
    "sum_prices = sum(price)\n",
    "average_price_rat = sum(price) / len(price)\n",
    "average_quality_rat = sum(quality) / len(quality)\n",
    "\n",
    "average_rat = np.array([average_price_rat, average_quality_rat])\n",
    "print(average_rat)\n"
   ]
  },
  {
   "cell_type": "code",
   "execution_count": 48,
   "metadata": {},
   "outputs": [
    {
     "name": "stdout",
     "output_type": "stream",
     "text": [
      "Valoración media del primer agregador:  [20.1 77.4]\n",
      "Valoración media del segundo agregador:  [78.1 19.4]\n"
     ]
    }
   ],
   "source": [
    "import numpy as np\n",
    "import pandas as pd\n",
    "\n",
    "ratings_values = [\n",
    "    [68,18], [81,19], [81,22], [15,75], [75,15], [17,72], \n",
    "    [24,75], [21,91], [76, 6], [12,74], [18,83], [20,62], \n",
    "    [21,82], [21,79], [84,15], [73,16], [88,25], [78,23], \n",
    "    [32, 81], [77, 35]]\n",
    "\n",
    "clients_1 = []\n",
    "clients_2 = []\n",
    "\n",
    "for client in np.array(ratings.values):\n",
    "    if client[0] < 40 and client[1] > 60:\n",
    "        clients_1.append(client)\n",
    "    else:\n",
    "        clients_2.append(client)\n",
    "\n",
    "average_client_1 = sum(clients_1) / len(clients_1)\n",
    "print('Valoración media del primer agregador: ', average_client_1)\n",
    "\n",
    "average_client_2 = sum(clients_2) / len(clients_2)\n",
    "print('Valoración media del segundo agregador: ', average_client_2)"
   ]
  },
  {
   "cell_type": "markdown",
   "metadata": {},
   "source": [
    "## Funciones vectorizadas.\n",
    "\n"
   ]
  },
  {
   "cell_type": "markdown",
   "metadata": {},
   "source": [
    "Podemos sumar las columnas de un dataframe con funciones vectorizadas"
   ]
  },
  {
   "cell_type": "code",
   "execution_count": 76,
   "metadata": {},
   "outputs": [
    {
     "name": "stdout",
     "output_type": "stream",
     "text": [
      "[11600, 931890]\n"
     ]
    }
   ],
   "source": [
    "# Importamos un df\n",
    "df = pd.read_csv('D:/Tripleten/datasets/data.csv')\n",
    "\n",
    "# Transformamos df a vector\n",
    "vector= np.array(df)\n",
    "\n",
    "# Definimos coordenadas h y j\n",
    "h = sum(vector[:,0])\n",
    "j = sum(vector[:,2])\n",
    "\n",
    "children_dob_sum = [h , j]\n",
    "print(children_dob_sum)"
   ]
  },
  {
   "cell_type": "code",
   "execution_count": 81,
   "metadata": {},
   "outputs": [
    {
     "name": "stdout",
     "output_type": "stream",
     "text": [
      "mean 1.0\n"
     ]
    }
   ],
   "source": [
    "target = [2,4]\n",
    "pred = [3,5]\n",
    "\n",
    "x= ((np.array(target) - np.array(pred))**2)\n",
    "print(f'mean { x.mean()}')"
   ]
  },
  {
   "cell_type": "markdown",
   "metadata": {},
   "source": [
    "## Distancia entre vectores"
   ]
  },
  {
   "cell_type": "markdown",
   "metadata": {},
   "source": [
    "La distancia entre dos vectores es una medida que indica cuán separados están los vectores en un espacio multidimensional. Hay varias formas de calcular la distancia entre vectores, pero una de las más comunes es la distancia euclidiana.\n"
   ]
  },
  {
   "cell_type": "markdown",
   "metadata": {},
   "source": [
    "## Distancia euclidiana\n",
    "\n",
    "La distancia euclidiana es una medida de la distancia entre dos puntos en un espacio euclidiano. Es la distancia más comúnmente utilizada en la geometría euclidiana, y se deriva del teorema de Pitágoras. En un espacio bidimensional, la distancia euclidiana entre dos puntos (x1,y1) y (x2,y2), se calcula utilizando la fórmula:\n",
    "\n",
    "\n",
    "$$ d = \\sqrt {(x2-x1)^2 + (y2-y1)^2}\n",
    "$$"
   ]
  },
  {
   "cell_type": "markdown",
   "metadata": {},
   "source": [
    "Esta fórmula se generaliza fácilmente a espacios de mayor dimensión. La distancia euclidiana es una medida directa de la longitud del segmento de línea recta que une dos puntos en el espacio euclidiano. Es una de las formas más comunes de calcular la distancia entre puntos en matemáticas, física, estadística, y en diversos campos de la ciencia y la ingeniería."
   ]
  },
  {
   "cell_type": "code",
   "execution_count": null,
   "metadata": {},
   "outputs": [],
   "source": [
    "import numpy as np\n",
    "\n",
    "a = np.array([5,6]) #Vector 1\n",
    "b = np.array([1,3]) # Vector 2\n",
    "\n",
    "# Calculando la longitud de un vector\n",
    "\n",
    "# Usando el teorema de Pitágoras\n",
    "np.sqrt((a[0]**2)+(a[1]**2)) # primer método\n",
    "((a[0] ** 2) + (a[1] ** 2)) ** 0.5 # Segundo método\n",
    "\n",
    "# Usando el producto punto\n",
    "np.dot(a,a)**0.5 # Primer metodo\n",
    "np.sqrt(np.dot(a,a)) # Segundo método\n",
    "\n",
    "# Calculando la distancia de dos vectores (Aplicando la distancia euclidiana)\n",
    "np.dot(b-a,b-a)**0.5 # Método dot\n",
    "np.sqrt((np.sum((b-a)**2))) #Metodo numpy\n",
    "# np.dot(b,a)"
   ]
  },
  {
   "cell_type": "markdown",
   "metadata": {},
   "source": [
    "Como funciona exactamente `np.dot(b-a,b-a)**0.5` ?\n",
    "\n",
    "Basicamente funcionaría de la siguiente manera"
   ]
  },
  {
   "cell_type": "code",
   "execution_count": null,
   "metadata": {},
   "outputs": [],
   "source": [
    "import numpy as np\n",
    "\n",
    "a = np.array([5,6]) #Vector 1\n",
    "b = np.array([1,3]) # Vector 2\n",
    "\n",
    "c= np.array([1,3]) - np.array([5,6])\n",
    "c = np.array([-4,-3]) \n",
    "# La formula para sacar c realmente sería :\n",
    "\n",
    "np.sqrt(sum(c**2))\n"
   ]
  },
  {
   "cell_type": "markdown",
   "metadata": {},
   "source": [
    "SciPy tiene una librería dedicada al cálculo de distancias, que se llama distance.  Podemos importarla desde scipy.spatial y llamar a distance.euclidean() para calcular la distancia euclidiana:"
   ]
  },
  {
   "cell_type": "code",
   "execution_count": null,
   "metadata": {},
   "outputs": [],
   "source": [
    "import numpy as np\n",
    "from scipy.spatial import distance\n",
    "\n",
    "a = np.array([5, 6])\n",
    "b = np.array([1, 3])\n",
    "d = distance.euclidean(a, b)\n",
    "print('La distancia entre a y b es de', d)"
   ]
  },
  {
   "cell_type": "code",
   "execution_count": null,
   "metadata": {},
   "outputs": [],
   "source": [
    "town = [\n",
    "    'Willowford',\n",
    "    'Otter Creek',\n",
    "    'Springfield',\n",
    "    'Arlingport',\n",
    "    'Spadewood',\n",
    "    'Goldvale',\n",
    "    'Bison Flats',\n",
    "    'Bison Hills',\n",
    "]\n",
    "\n",
    "\n",
    "for i in town:\n",
    "    print('hola')"
   ]
  },
  {
   "cell_type": "markdown",
   "metadata": {},
   "source": [
    "Crea una tabla con las distancias entre las localidades y guárdala en la variable distances. Presenta los datos en forma de lista de listas. Cada fila debe representar la distancia entre cada población y todas las demás.\n",
    "\n",
    "Añade los nombres de todas las localidades a la tabla y muestra los resultados (en precódigo)."
   ]
  },
  {
   "cell_type": "code",
   "execution_count": null,
   "metadata": {},
   "outputs": [],
   "source": [
    "import numpy as np\n",
    "import pandas as pd\n",
    "from scipy.spatial import distance\n",
    "\n",
    "x_axis = np.array([0., 0.18078584, 9.32526599, 17.09628721,\n",
    "                      4.69820241, 11.57529305, 11.31769349, 14.63378951])\n",
    "\n",
    "y_axis  = np.array([0.0, 7.03050245, 9.06193657, 0.1718145,\n",
    "                      5.1383203, 0.11069032, 3.27703365, 5.36870287])\n",
    "\n",
    "deliveries = np.array([5, 7, 4, 3, 5, 2, 1, 1])\n",
    "\n",
    "town = [\n",
    "    'Willowford',\n",
    "    'Otter Creek',\n",
    "    'Springfield',\n",
    "    'Arlingport',\n",
    "    'Spadewood',\n",
    "    'Goldvale',\n",
    "    'Bison Flats',\n",
    "    'Bison Hills',\n",
    "]\n",
    "\n",
    "data = pd.DataFrame(\n",
    "    {\n",
    "        'x_coordinates_km': x_axis,\n",
    "        'y_coordinates_km': y_axis,\n",
    "        'Deliveries': deliveries,\n",
    "    },\n",
    "    index=town,\n",
    ")\n",
    "\n",
    "vectors = data[['x_coordinates_km', 'y_coordinates_km']].values\n",
    "vectors2 = np.array([x_axis,y_axis]).T  #Segunda formula de juntar dos listas para hacer un vector\n",
    "vectors3 = np.stack((x_axis,y_axis), axis=1) #Tercera formula de juntar dos listas para hacer un vector\n",
    "\n",
    "distances = []\n",
    "\n",
    "\n",
    "for town_from in range(len(town)):\n",
    "    row=[]\n",
    "    for town_to in  range(len(town)):\n",
    "        value = distance.euclidean(vectors[town_from], vectors[town_to])\n",
    "        row.append(value)\n",
    "    distances.append(row)\n",
    "    \n",
    "\t\n",
    "distances_df = pd.DataFrame(distances, columns=town, index=town)"
   ]
  },
  {
   "cell_type": "code",
   "execution_count": null,
   "metadata": {},
   "outputs": [],
   "source": [
    "distances_df"
   ]
  },
  {
   "cell_type": "code",
   "execution_count": null,
   "metadata": {},
   "outputs": [],
   "source": [
    "import numpy as np\n",
    "import pandas as pd\n",
    "from scipy.spatial import distance\n",
    "\n",
    "x_axis = np.array([0., 0.18078584, 9.32526599, 17.09628721,\n",
    "                      4.69820241, 11.57529305, 11.31769349, 14.63378951])\n",
    "\n",
    "y_axis  = np.array([0.0, 7.03050245, 9.06193657, 0.1718145,\n",
    "                      5.1383203, 0.11069032, 3.27703365, 5.36870287])\n",
    "\n",
    "deliveries = np.array([5, 7, 4, 3, 5, 2, 1, 1])\n",
    "\n",
    "town = [\n",
    "    'Willowford',\n",
    "    'Otter Creek',\n",
    "    'Springfield',\n",
    "    'Arlingport',\n",
    "    'Spadewood',\n",
    "    'Goldvale',\n",
    "    'Bison Flats',\n",
    "    'Bison Hills',\n",
    "]\n",
    "\n",
    "data = pd.DataFrame(\n",
    "    {\n",
    "        'x_coordinates_km': x_axis,\n",
    "        'y_coordinates_km': y_axis,\n",
    "        'Deliveries': deliveries,\n",
    "    },\n",
    "    index=town,\n",
    ")\n",
    "\n",
    "vectors = data[['x_coordinates_km', 'y_coordinates_km']].values\n",
    "\n",
    "distances = []\n",
    "for town_from in range(len(town)):\n",
    "    row = []\n",
    "    for town_to in range(len(town)):\n",
    "        value = distance.euclidean(vectors[town_from], vectors[town_to])\n",
    "        row.append(value)\n",
    "    distances.append(row)\n",
    "\n",
    "deliveries_in_week = 2 * np.dot(distances, deliveries)\n",
    "\n",
    "deliveries_in_week_df = pd.DataFrame(\n",
    "    {'Distance': deliveries_in_week}, index=town\n",
    ")\n",
    "\n",
    "print(deliveries_in_week_df)\n",
    "\n",
    "print()\n",
    "print('Localidad del almacén:', deliveries_in_week_df['Distance'].idxmin())"
   ]
  },
  {
   "cell_type": "code",
   "execution_count": null,
   "metadata": {},
   "outputs": [],
   "source": [
    "import numpy as np\n",
    "import pandas as pd\n",
    "from scipy.spatial import distance\n",
    "\n",
    "x_axis = np.array([0., 0.18078584, 9.32526599, 17.09628721,\n",
    "                      4.69820241, 11.57529305, 11.31769349, 14.63378951])\n",
    "\n",
    "y_axis  = np.array([0.0, 7.03050245, 9.06193657, 0.1718145,\n",
    "                      5.1383203, 0.11069032, 3.27703365, 5.36870287])\n",
    "\n",
    "deliveries = np.array([5, 7, 4, 3, 5, 2, 1, 1])\n",
    "\n",
    "town = [\n",
    "    'Willowford',\n",
    "    'Otter Creek',\n",
    "    'Springfield',\n",
    "    'Arlingport',\n",
    "    'Spadewood',\n",
    "    'Goldvale',\n",
    "    'Bison Flats',\n",
    "    'Bison Hills',\n",
    "]\n",
    "\n",
    "data = pd.DataFrame(\n",
    "    {\n",
    "        'x_coordinates_km': x_axis,\n",
    "        'y_coordinates_km': y_axis,\n",
    "        'Deliveries': deliveries,\n",
    "    },\n",
    "    index=town,\n",
    ")\n",
    "\n",
    "vectors = data[['x_coordinates_km', 'y_coordinates_km']].values\n",
    "\n",
    "distances = []\n",
    "for town_from in range(len(town)):\n",
    "    row = []\n",
    "    for town_to in range(len(town)):\n",
    "        value = distance.euclidean(vectors[town_from], vectors[town_to])\n",
    "        row.append(value)\n",
    "    distances.append(row)\n",
    "\n",
    "deliveries_in_week = []\n",
    "for i in range(len(town)):\n",
    "    value = 2 * np.dot(np.array(distances[i]), deliveries)\n",
    "    deliveries_in_week.append(value)\n",
    "\n",
    "deliveries_in_week_df = pd.DataFrame(\n",
    "    {'Distance': deliveries_in_week}, index=town\n",
    ")\n",
    "\n",
    "print(deliveries_in_week_df)\n",
    "\n",
    "print()\n",
    "print('Localidad del almacén:', deliveries_in_week_df['Distance'].idxmin())"
   ]
  },
  {
   "cell_type": "markdown",
   "metadata": {},
   "source": [
    "## Distancia Manhattan\n",
    "\n",
    "a distancia Manhattan, también conocida como distancia de la ciudad o distancia de taxicab, es una medida de la distancia entre dos puntos en un espacio euclidiano, como un plano bidimensional o un espacio tridimensional.\n",
    "\n",
    "A diferencia de la distancia euclidiana, que se mide por la longitud del segmento de línea recta que une dos puntos, la distancia Manhattan se mide como la suma de las diferencias absolutas de sus coordenadas. Es decir, la distancia Manhattan entre dos puntos (x1,y1) y (x2,y2)\n",
    "en un plano bidimensional se calcula como:\n",
    "$$d=∣x2​−x1 ∣+∣y2 −y1 ∣$$\n"
   ]
  },
  {
   "cell_type": "code",
   "execution_count": null,
   "metadata": {},
   "outputs": [],
   "source": [
    "import numpy as np\n",
    "\n",
    "\n",
    "def manhattan_distance(first, second):\n",
    "   return np.abs(first-second).sum()\n",
    "\n",
    "    \n",
    "first = np.array([3, 11])\n",
    "second = np.array([1, 6])\n",
    "\n",
    "print(manhattan_distance(first, second))"
   ]
  }
 ],
 "metadata": {
  "kernelspec": {
   "display_name": "Python 3",
   "language": "python",
   "name": "python3"
  },
  "language_info": {
   "codemirror_mode": {
    "name": "ipython",
    "version": 3
   },
   "file_extension": ".py",
   "mimetype": "text/x-python",
   "name": "python",
   "nbconvert_exporter": "python",
   "pygments_lexer": "ipython3",
   "version": "3.12.3"
  }
 },
 "nbformat": 4,
 "nbformat_minor": 2
}
