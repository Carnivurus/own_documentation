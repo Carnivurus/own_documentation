{
 "cells": [
  {
   "cell_type": "markdown",
   "metadata": {},
   "source": [
    "## Matriz\n",
    "\n",
    "\n",
    "Una matriz es una tabla rectangular o tabla bidimensional que consta de m filas y n columnas (el tamaño se escribe como m x n). Las matrices generalmente se denotan con letras latinas mayúsculas, por ejemplo, A. Sus elementos están en minúsculas con doble índice a_ij, donde i es el número de fila y j es el número de columna.\n",
    "\n",
    "#### Creando una matriz a partir de dos vectores\n"
   ]
  },
  {
   "cell_type": "code",
   "execution_count": null,
   "metadata": {},
   "outputs": [],
   "source": [
    "import pandas as pd\n",
    "import numpy as np\n",
    "\n",
    "vector1= np.array([1,2,3])\n",
    "vector2= np.array([4,5,6])\n",
    "\n",
    "matrix = np.array([vector1 , vector2])\n",
    "matrix"
   ]
  },
  {
   "cell_type": "markdown",
   "metadata": {},
   "source": [
    "#### Crear una matriz a partir de un df"
   ]
  },
  {
   "cell_type": "code",
   "execution_count": null,
   "metadata": {},
   "outputs": [
    {
     "name": "stdout",
     "output_type": "stream",
     "text": [
      "     a    b     c\n",
      "0  120   42  1344\n",
      "1   60  154   154\n",
      "2   75   90  2090\n"
     ]
    },
    {
     "data": {
      "text/plain": [
       "array([[ 120,   42, 1344],\n",
       "       [  60,  154,  154],\n",
       "       [  75,   90, 2090]], dtype=int64)"
      ]
     },
     "metadata": {},
     "output_type": "display_data"
    }
   ],
   "source": [
    "import pandas as pd\n",
    "import numpy as np\n",
    "\n",
    "df = pd.DataFrame({'a': [120, 60, 75], 'b': [42, 154, 90],'c': [1344, 154, 2090] })\n",
    "print(df)\n",
    "matrix = df.values\n",
    "matrix"
   ]
  },
  {
   "cell_type": "markdown",
   "metadata": {},
   "source": [
    "Otra operación útil que podríamos necesitar realizar es acceder a un elemento de la matriz. Usando la matriz A en el código anterior, el elemento a_ij se llama mediante A[i, j], donde la fila es i y la columna es j, enumeradas desde cero, de la misma forma que los índices de matriz.\n",
    "\n",
    "Veamos esto en el siguiente ejemplo donde recuperamos el elemento de matriz 2090:"
   ]
  },
  {
   "cell_type": "code",
   "execution_count": null,
   "metadata": {},
   "outputs": [
    {
     "data": {
      "text/plain": [
       "2090"
      ]
     },
     "metadata": {},
     "output_type": "display_data"
    }
   ],
   "source": [
    "matrix[2,2]"
   ]
  },
  {
   "cell_type": "code",
   "execution_count": null,
   "metadata": {},
   "outputs": [
    {
     "data": {
      "text/plain": [
       "array([[ 120,   42, 1344],\n",
       "       [  75,   90, 2090]], dtype=int64)"
      ]
     },
     "metadata": {},
     "output_type": "display_data"
    }
   ],
   "source": [
    "matrix[[0,2],:]"
   ]
  },
  {
   "cell_type": "markdown",
   "metadata": {},
   "source": [
    "#### Atributos para matrices"
   ]
  },
  {
   "cell_type": "code",
   "execution_count": null,
   "metadata": {},
   "outputs": [],
   "source": [
    "matrix.shape\n",
    "matrix.argmax() #posicion de fila (vector) donde se encuentra el valor mas alto\n",
    "matrix.argmin() #posicion de fila (vector) se encuentra el valor mas bajo\n",
    "matrix.argsort() #ordena y devuelve los indices evaluando y ordenando los números por filas (es mas facil verlo en un df porque ve el valor mas bajo de una fila)\n",
    "matrix.astype(float) #transforma los tipos de datos\n",
    "matrix.cumsum() #suma cumulativa.\n",
    "matrix.cumprod() # va multiplicando por cada valor en los vectores.\n",
    "matrix.diagonal() # da los valores de las diagonales.\n",
    "matrix.max() #valor maximo de la matriz\n",
    "matrix.min() # valor minimo de la matriz\n",
    "matrix.mean() # valor total promedio.\n",
    "matrix.repeat(2) # Repite todos los valores.\n",
    "matrix.prod() #producto de la multiplicacione de todos los elementos en la matriz\n",
    "matrix.sum() #suma todo los valores\n",
    "matrix.std() #obtiene la variacion std\n",
    "matrix.transpose() #transpone los datos"
   ]
  },
  {
   "cell_type": "markdown",
   "metadata": {},
   "source": [
    "### Operaciones con matrices."
   ]
  },
  {
   "cell_type": "markdown",
   "metadata": {},
   "source": [
    "#### Operaciones de matrices por un numero"
   ]
  },
  {
   "cell_type": "code",
   "execution_count": null,
   "metadata": {},
   "outputs": [
    {
     "name": "stdout",
     "output_type": "stream",
     "text": [
      " product \n",
      "[[2 4]\n",
      " [6 8]]\n",
      "\n",
      " sum \n",
      "[[3 4]\n",
      " [5 6]]\n",
      "\n",
      " rest \n",
      "[[-1  0]\n",
      " [ 1  2]]\n",
      "\n"
     ]
    }
   ],
   "source": [
    "import numpy as np\n",
    "\n",
    "matrix = np.array([\n",
    "    [1, 2], \n",
    "    [3, 4]])\n",
    "\n",
    "print(f' product \\n{matrix * 2}', end='\\n\\n')\n",
    "print(f' sum \\n{matrix + 2}', end='\\n\\n')\n",
    "print(f' rest \\n{matrix - 2}', end='\\n\\n')"
   ]
  },
  {
   "cell_type": "markdown",
   "metadata": {},
   "source": [
    "#### Operaciones de matrices con otras matrices."
   ]
  },
  {
   "cell_type": "code",
   "execution_count": null,
   "metadata": {},
   "outputs": [
    {
     "name": "stdout",
     "output_type": "stream",
     "text": [
      "product \n",
      "[[ 5 12]\n",
      " [21 32]]\n",
      "\n",
      "sum \n",
      "[[ 6  8]\n",
      " [10 12]]\n",
      "rest \n",
      "[[-4 -4]\n",
      " [-4 -4]]\n"
     ]
    }
   ],
   "source": [
    "import numpy as np\n",
    "\n",
    "matrix1 = np.array([\n",
    "    [1, 2], \n",
    "    [3, 4]])\n",
    "\n",
    "matrix2 = np.array([\n",
    "    [5, 6], \n",
    "    [7, 8]])\n",
    "\n",
    "print(f'product \\n{np.multiply(matrix1, matrix2)}', end='\\n\\n') \n",
    "print(f'sum \\n{matrix1 + matrix2}', end='\\n') \n",
    "print(f'rest \\n{matrix1 - matrix2}', end='\\n')"
   ]
  },
  {
   "cell_type": "code",
   "execution_count": null,
   "metadata": {},
   "outputs": [
    {
     "name": "stdout",
     "output_type": "stream",
     "text": [
      "En una semana\n",
      "   Minutos  Mensajes  Megabytes\n",
      "0      174         7        652\n",
      "1      100        22        564\n",
      "2       69        10        348\n",
      "3      192        17        409\n",
      "4       95         8        401\n",
      "\n",
      "Pronóstico para un mes\n",
      "   Minutos  Mensajes  Megabytes\n",
      "0      755        30       2831\n",
      "1      434        95       2449\n",
      "2      299        43       1511\n",
      "3      833        73       1776\n",
      "4      412        34       1741\n"
     ]
    }
   ],
   "source": [
    "import numpy as np\n",
    "import pandas as pd\n",
    "\n",
    "services = ['Minutos', 'Mensajes', 'Megabytes']\n",
    "\n",
    "monday = np.array([\n",
    "    [10, 2, 72],\n",
    "    [3, 5, 111],\n",
    "    [15, 3, 50],\n",
    "    [27, 0, 76],\n",
    "    [7, 1, 85]])\n",
    "\n",
    "tuesday = np.array([\n",
    "    [33, 0, 108],\n",
    "    [21, 5, 70],\n",
    "    [15, 2, 15],\n",
    "    [29, 6, 34],\n",
    "    [2, 1, 146]])\n",
    "\n",
    "wednesday = np.array([\n",
    "    [16, 0, 20],\n",
    "    [23, 5, 34],\n",
    "    [5, 0, 159],\n",
    "    [35, 1, 74],\n",
    "    [5, 0, 15]])\n",
    "\n",
    "thursday = np.array([\n",
    "    [25, 1, 53],\n",
    "    [15, 0, 26],\n",
    "    [10, 0, 73],\n",
    "    [18, 1, 24],\n",
    "    [2, 2, 24]])\n",
    "\n",
    "friday = np.array([\n",
    "    [32, 0, 33],\n",
    "    [4, 0, 135],\n",
    "    [2, 2, 21],\n",
    "    [18, 5, 56],\n",
    "    [27, 2, 21]])\n",
    "\n",
    "saturday = np.array([\n",
    "    [28, 0, 123],\n",
    "    [16, 5, 165],\n",
    "    [10, 1, 12],\n",
    "    [42, 4, 80],\n",
    "    [18, 2, 20]])\n",
    "\n",
    "sunday = np.array([\n",
    "    [30, 4, 243],\n",
    "    [18, 2, 23],\n",
    "    [12, 2, 18],\n",
    "    [23, 0, 65],\n",
    "    [34, 0, 90]])\n",
    "\n",
    "weekly = np.array(monday + tuesday + wednesday + thursday + friday + saturday + sunday)\n",
    "\n",
    "print('En una semana')\n",
    "print(pd.DataFrame(weekly, columns=services))\n",
    "print()\n",
    "\n",
    "## cuánto usa cada cliente los servicios en promedio por día\n",
    "## crear una matris con todos los días\n",
    "\n",
    "forecast = ((weekly / 7) * 30.4).astype(int)\n",
    "\n",
    "print('Pronóstico para un mes')\n",
    "print(pd.DataFrame(forecast, dtype=int, columns=services))"
   ]
  },
  {
   "cell_type": "markdown",
   "metadata": {},
   "source": [
    "#### Operacion de matrices por un vector\n",
    "\n",
    "Para entender exactamente cómo se multiplica una matriz por un vector, primero debemos recordar que una matriz no es más que un conjunto de vectores de la misma longitud.\n",
    "\n",
    "$$ \n",
    "\\begin{matrix}a_{11} & a_{12} & \\cdots & a_{1n} \\\\a_{21} & a_{22} & \\cdots & a_{2n} \\\\\\vdots & \\vdots & \\ddots & \\vdots \\\\a_{m1} & a_{m2} & \\cdots & a_{mn} \\\\\\end{matrix}\\begin{pmatrix}x_1 \\\\x_2 \\\\\\vdots \\\\x_n \\\\\\end{pmatrix}=\\begin{pmatrix}a_{11}x_1 + a_{12}x_2 + \\cdots + a_{1n}x_n \\\\a_{21}x_1 + a_{22}x_2 + \\cdots  a_{2n}x_n \\\\\\vdots \\\\a_{m1}x_1 + a_{m2}x_2 + \\cdots + a_{mn}x_n \\\\\\end{pmatrix}$$"
   ]
  },
  {
   "cell_type": "markdown",
   "metadata": {},
   "source": [
    "Ya conocemos el uso del producto escalar para multiplicar un vector por otro. El mismo principio guía este proceso también. Para multiplicar una matriz por un vector, tomamos el producto escalar de cada fila y el vector, como puedes ver a continuación. El resultado es un nuevo vector. Sin embargo, presta atención: ya que estamos usando el producto escalar, es esencial que la longitud de cada fila de la matriz sea igual a la longitud del vector por el que multiplicamos."
   ]
  },
  {
   "cell_type": "markdown",
   "metadata": {},
   "source": [
    "La mejor parte es que NumPy puede encargarse de todo esto por nosotros. Todo lo que tenemos que hacer es llamar a dot(). Podemos hacer esto como una función independiente o como un método de nuestra matriz."
   ]
  },
  {
   "cell_type": "code",
   "execution_count": 11,
   "metadata": {},
   "outputs": [
    {
     "name": "stdout",
     "output_type": "stream",
     "text": [
      "[18 45]\n",
      "[18 45]\n"
     ]
    }
   ],
   "source": [
    "import numpy as np\n",
    "\n",
    "matrix = np.array([\n",
    "    [1,2,3],\n",
    "    [4,5,6]])\n",
    "\n",
    "vector = np.array([3,3,3])\n",
    "\n",
    "# Funcion independiente, toma dos argumentos\n",
    "print(np.dot(matrix,vector))\n",
    "\n",
    "# Funcion de la matriz- solo necesita un argumento\n",
    "print(matrix.dot(vector))"
   ]
  },
  {
   "cell_type": "code",
   "execution_count": null,
   "metadata": {},
   "outputs": [],
   "source": []
  }
 ],
 "metadata": {
  "kernelspec": {
   "display_name": "Python 3",
   "language": "python",
   "name": "python3"
  },
  "language_info": {
   "codemirror_mode": {
    "name": "ipython",
    "version": 3
   },
   "file_extension": ".py",
   "mimetype": "text/x-python",
   "name": "python",
   "nbconvert_exporter": "python",
   "pygments_lexer": "ipython3",
   "version": "3.12.0"
  }
 },
 "nbformat": 4,
 "nbformat_minor": 2
}
