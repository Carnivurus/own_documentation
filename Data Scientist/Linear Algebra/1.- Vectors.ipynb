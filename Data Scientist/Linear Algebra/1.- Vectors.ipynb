{
 "cells": [
  {
   "cell_type": "markdown",
   "metadata": {},
   "source": [
    "## Vector\n",
    "In Python, data sets are often represented as lists. In mathematics, an ordered set of numerical data is a vector , or an arithmetic vector.\n",
    "\n",
    "Operations that can be performed with numbers, that is, addition, subtraction and multiplication, can also be performed with vectors. In Python, vector operations are hundreds of times faster than list operations.\n",
    "\n",
    "#### List"
   ]
  },
  {
   "cell_type": "code",
   "execution_count": null,
   "metadata": {},
   "outputs": [],
   "source": [
    "import pandas as pd\n",
    "import numpy as np #Numeric Python\n",
    "just_a_list = [1, 2, 3, 4, 5, 9 ,7, 0] # this is a list\n",
    "print(just_a_list)"
   ]
  },
  {
   "cell_type": "markdown",
   "metadata": {},
   "source": [
    "#### List to Vector"
   ]
  },
  {
   "cell_type": "code",
   "execution_count": null,
   "metadata": {},
   "outputs": [],
   "source": [
    "## Converting to vector.\n",
    "\n",
    "vector1 = np.array(just_a_list) # Numpy Matrix\n",
    "print(vector1)  "
   ]
  },
  {
   "cell_type": "markdown",
   "metadata": {},
   "source": [
    "#### Vector to list"
   ]
  },
  {
   "cell_type": "code",
   "execution_count": null,
   "metadata": {},
   "outputs": [],
   "source": [
    "list(vector1)"
   ]
  },
  {
   "cell_type": "markdown",
   "metadata": {},
   "source": [
    "Commas are shown again."
   ]
  },
  {
   "cell_type": "code",
   "execution_count": null,
   "metadata": {},
   "outputs": [],
   "source": [
    "import pandas as pd\n",
    "\n",
    "data = pd.DataFrame([1,3,5])\n",
    "data = pd.DataFrame(['a','b','c'])\n",
    "print(data[0].values)  "
   ]
  },
  {
   "cell_type": "markdown",
   "metadata": {},
   "source": [
    "['a' 'b' 'c'] no es un vector, ya que no representa una secuencia de números, tampoco es una lista porque no tiene comas, realmente se podría decir que es una matriz unidimensional"
   ]
  },
  {
   "cell_type": "markdown",
   "metadata": {},
   "source": [
    "Veamos un ejemplo concreto. La gente va a la tienda online de ropa LuxForVIP desde dos sitios agregadores. El primero anuncia artículos del mercado de masas, mientras que el segundo sitio agrega ropa de marca de lujo. Los visitantes de LuxForVIP valoran su satisfacción con los precios y la calidad de los productos en una escala de 0 a 100. La tabla contiene las valoraciones de todos los visitantes. Una puntuación alta para el precio indica que al cliente le gustó el precio (es decir, que la relación calidad-precio del artículo es buena). Del mismo modo, una puntuación alta para la calidad indica que el cliente consideró que el artículo era de alta calidad."
   ]
  },
  {
   "cell_type": "code",
   "execution_count": null,
   "metadata": {},
   "outputs": [],
   "source": [
    "ratings_values = [\n",
    "    [68,18], [81,19], [81,22], [15,75], [75,15], [17,72], \n",
    "    [24,75], [21,91], [76, 6], [12,74], [18,83], [20,62], \n",
    "    [21,82], [21,79], [84,15], [73,16], [88,25], [78,23], \n",
    "    [32, 81], [77, 35]]\n",
    "ratings = pd.DataFrame(ratings_values, columns=['Price', 'Quality'])\n",
    "# print(ratings.values[:,1])\n",
    "# print(len(ratings))\n",
    "print(ratings.loc[0].values)\n",
    "print(f'esto es un vector {ratings.iloc[0].values}')\n",
    "\n"
   ]
  },
  {
   "cell_type": "markdown",
   "metadata": {},
   "source": [
    "## Graficar Vectores"
   ]
  },
  {
   "cell_type": "code",
   "execution_count": null,
   "metadata": {},
   "outputs": [],
   "source": [
    "import numpy as np\n",
    "import matplotlib.pyplot as plt\n",
    "\n",
    "vector1 = [2,3]\n",
    "vector2 = [6,2]\n",
    "\n",
    "plt.figure(figsize=[5,5])\n",
    "\n",
    "plt.axis([0,10,0,10])\n",
    "\n",
    "## Agregando puntos\n",
    "plt.plot(vector1[0],vector1[1], 'r*')\n",
    "plt.plot(vector2[0],vector2[1], 'g*')\n",
    "\n",
    "# Agregar flechas\n",
    "plt.arrow(0,0,vector1[0],vector1[1], head_width=0.3, length_includes_head=True, color='b')\n",
    "plt.arrow(0,0,vector2[0],vector2[1], head_width=0.5, length_includes_head=True, color= 'y')\n",
    "\n",
    "plt.grid(True)\n",
    "\n",
    "plt.show()"
   ]
  },
  {
   "cell_type": "code",
   "execution_count": null,
   "metadata": {},
   "outputs": [],
   "source": [
    "import numpy as np\n",
    "import pandas as pd\n",
    "\n",
    "ratings_values = [\n",
    "    [68,18], [81,19], [81,22], [15,75], [75,15], [17,72], \n",
    "    [24,75], [21,91], [76, 6], [12,74], [18,83], [20,62], \n",
    "    [21,82], [21,79], [84,15], [73,16], [88,25], [78,23], \n",
    "    [32, 81], [77, 35]]\n",
    "ratings = pd.DataFrame(ratings_values, columns=['Price', 'Quality'])\n",
    "\n",
    "visitors_1 = []\n",
    "visitors_2 = []\n",
    "\n",
    "# print(ratings)\n",
    "for visitor in list(ratings.values):\n",
    "\tif visitor[0] > visitor[1]:\n",
    "\t\tvisitors_2.append(visitor)\n",
    "\telse:\n",
    "\t\tvisitors_1.append(visitor)\n",
    "\n",
    "print('Valoraciones de los visitantes del primer agregador:', visitors_1)\n",
    "print('Valoraciones de los visitantes del primer agregador:', visitors_2)"
   ]
  },
  {
   "cell_type": "markdown",
   "metadata": {},
   "source": [
    "Podemos sumar y restar vectores del mismo tamaño.\n",
    "Al sumar o restar vectores, se hace la operación para cada elemento de estos. Para sumar dos vectores, hay que sumar las coordenadas correspondientes de los vectores iniciales. A la hora de restar, cada coordenada del vector resultante es igual a la diferencia entre coordenadas de los vectores iniciales."
   ]
  },
  {
   "cell_type": "code",
   "execution_count": null,
   "metadata": {},
   "outputs": [],
   "source": [
    "import numpy as np\n",
    "\n",
    "vector1 = np.array([2, 3])\n",
    "vector2 = np.array([6, 2])\n",
    "sum_of_vectors = vector1 + vector2\n",
    "subtraction = vector2 - vector1\n",
    "print(sum_of_vectors)\n",
    "print(subtraction)\n"
   ]
  },
  {
   "cell_type": "markdown",
   "metadata": {},
   "source": [
    "## Suma de Vectores"
   ]
  },
  {
   "cell_type": "code",
   "execution_count": null,
   "metadata": {},
   "outputs": [],
   "source": [
    "import numpy as np\n",
    "import pandas as pd\n",
    "\n",
    "quantity_1 = [25, 63, 80, 91, 81, 55, 14, 76, 33, 71]\n",
    "models = [\n",
    "    'Capa de silicone para o iPhone 8',\n",
    "    'Capa de couro para o iPhone 8',\n",
    "    'Capa de silicone para o iPhone XS',\n",
    "    'Capa de couro para o iPhone XS',\n",
    "    'Capa de silicone para o iPhone XS Max',\n",
    "    'Capa de couro para o iPhone XS Max',\n",
    "    'Capa de silicone para o iPhone 11',\n",
    "    'Capa de couro para o iPhone 11',\n",
    "    'Capa de silicone para o iPhone 11 Pro',\n",
    "    'Capa de couro para o iPhone 11 Pro',\n",
    "]\n",
    "stocks_1 = pd.DataFrame({'Quantity': quantity_1}, index=models)\n",
    "quantity_2 = [82, 24, 92, 48, 32, 45, 4, 34, 12, 1]\n",
    "stocks_2 = pd.DataFrame({'Quantity': quantity_2}, index=models)\n",
    "\n",
    "# Forzando a una lista a volverse un vector.\n",
    "vector_of_quantity_1 =  np.array(stocks_1['Quantity'])\n",
    "vector_of_quantity_2 =  np.array(stocks_2['Quantity'])\n",
    "\n",
    "#Segunda forma de resolverlo.\n",
    "vector_of_quantity_1 =  stocks_1['Quantity'].values\n",
    "vector_of_quantity_2 =  stocks_2['Quantity'].values\n",
    "print(\n",
    "    'Existencias de la primera tienda:',\n",
    "    vector_of_quantity_1,\n",
    "    '\\nExistencias de la segunda tienda:',\n",
    "    vector_of_quantity_2,\n",
    ")\n",
    "\n",
    "vectors_sum = vector_of_quantity_1 + vector_of_quantity_2\n",
    "df_united = pd.DataFrame({'Quantity':vectors_sum}, index=models)\n",
    "\n",
    "print(vectors_sum)\n",
    "print(df_united)"
   ]
  },
  {
   "cell_type": "markdown",
   "metadata": {},
   "source": [
    "Si usamos el primer metodo:\n",
    "Esta forma utiliza la función np.array() de NumPy para convertir la columna del DataFrame en un array de NumPy. Esto asegura que los datos se almacenen como un array de NumPy, lo que puede ser útil si planeas realizar operaciones vectorizadas u otras operaciones matemáticas con estos datos.\n",
    "\n",
    "Si usamos el segundo metodo:\n",
    "Esta forma utiliza el atributo .values de la serie de Pandas para extraer los valores como un array de NumPy. Esto proporciona una forma más directa y rápida de acceder a los valores subyacentes, sin necesidad de crear una copia. Sin embargo, ten en cuenta que si modificas estos valores, podrías estar modificando los datos subyacentes del DataFrame."
   ]
  },
  {
   "cell_type": "markdown",
   "metadata": {},
   "source": [
    "## Multiplicacion de vectores Vectores\n",
    "\n"
   ]
  },
  {
   "cell_type": "code",
   "execution_count": null,
   "metadata": {},
   "outputs": [],
   "source": [
    "import numpy as np\n",
    "\n",
    "vector1 = np.array([2, 3])\n",
    "vector3 = 2 * vector1\n",
    "print(vector3)"
   ]
  },
  {
   "cell_type": "markdown",
   "metadata": {},
   "source": [
    "Ahora lo multiplicaremos por un negativo"
   ]
  },
  {
   "cell_type": "code",
   "execution_count": null,
   "metadata": {},
   "outputs": [],
   "source": [
    "import numpy as np\n",
    "\n",
    "vector1 = np.array([2, 3])\n",
    "vector3 = -5  * vector1\n",
    "print(vector3)"
   ]
  },
  {
   "cell_type": "code",
   "execution_count": null,
   "metadata": {},
   "outputs": [],
   "source": [
    "import numpy as np\n",
    "import pandas as pd\n",
    "\n",
    "ratings_values = [\n",
    "    [68,18], [81,19], [81,22], [15,75], [75,15], [17,72], \n",
    "    [24,75], [21,91], [76, 6], [12,74], [18,83], [20,62], \n",
    "    [21,82], [21,79], [84,15], [73,16], [88,25], [78,23], \n",
    "    [32, 81], [77, 35]]\n",
    "ratings = pd.DataFrame(ratings_values, columns=['Price', 'Quality'])\n",
    "\n",
    "price = ratings['Price'].values\n",
    "sum_prices = sum(price)\n",
    "average_price_rat = sum(price) / len(price)\n",
    "\n",
    "quality = ratings['Quality'].values\n",
    "average_quality_rat = sum(quality) / len(quality)\n",
    "\n",
    "average_rat = np.array([average_price_rat, average_quality_rat])\n",
    "print(average_rat)"
   ]
  },
  {
   "cell_type": "code",
   "execution_count": null,
   "metadata": {},
   "outputs": [],
   "source": [
    "import numpy as np\n",
    "import pandas as pd\n",
    "\n",
    "ratings_values = [\n",
    "    [68,18], [81,19], [81,22], [15,75], [75,15], [17,72], \n",
    "    [24,75], [21,91], [76, 6], [12,74], [18,83], [20,62], \n",
    "    [21,82], [21,79], [84,15], [73,16], [88,25], [78,23], \n",
    "    [32, 81], [77, 35]]\n",
    "ratings = pd.DataFrame(ratings_values, columns=['Price', 'Quality'])\n",
    "\n",
    "clients_1 = []\n",
    "clients_2 = []\n",
    "for client in list(ratings.values):\n",
    "    if client[0] < 40 and client[1] > 60:\n",
    "        clients_1.append(client)\n",
    "    else:\n",
    "        clients_2.append(client)\n",
    "\n",
    "average_client_1 = sum(clients_1) / len(clients_1)\n",
    "print('Valoración media del primer agregador: ', average_client_1)\n",
    "\n",
    "average_client_2 = np.mean(np.array(clients_2))\n",
    "print('Valoración media del segundo agregador: ', average_client_2)\n",
    "\n",
    "# Formas de cambiar los valores a vectores.\n",
    "# ratings.values#sacandolo de pandas\n",
    "# np.array(clients_1) # creando el vector"
   ]
  },
  {
   "cell_type": "markdown",
   "metadata": {},
   "source": [
    "## Funciones vectorizadas.\n",
    "\n"
   ]
  },
  {
   "cell_type": "code",
   "execution_count": null,
   "metadata": {},
   "outputs": [],
   "source": [
    "df = pd.read_csv('D:/Tripleten/datasets/data.csv')\n",
    "df.head()\n",
    "\n",
    "\n",
    "df\n",
    "# df"
   ]
  },
  {
   "cell_type": "code",
   "execution_count": null,
   "metadata": {},
   "outputs": [],
   "source": [
    "x= np.array(df)\n",
    "h= sum(x[:,0])\n",
    "j= df['children'].sum()\n",
    "\n",
    "print(h,j)"
   ]
  },
  {
   "cell_type": "code",
   "execution_count": null,
   "metadata": {},
   "outputs": [],
   "source": [
    "\n",
    "target = [2,4]\n",
    "pred = [3,5]\n",
    "\n",
    "x= ((np.array(target) - np.array(pred))**2).mean()\n",
    "print(f'mea { x}')"
   ]
  },
  {
   "cell_type": "code",
   "execution_count": null,
   "metadata": {},
   "outputs": [],
   "source": []
  },
  {
   "cell_type": "markdown",
   "metadata": {},
   "source": [
    "## Distancia entre vectores"
   ]
  },
  {
   "cell_type": "code",
   "execution_count": null,
   "metadata": {},
   "outputs": [],
   "source": [
    "import numpy as np\n",
    "\n",
    "volume = np.array([0.3, 0.2, 0.25])\n",
    "content = np.array([0.6, 0.7, 1])"
   ]
  },
  {
   "cell_type": "markdown",
   "metadata": {},
   "source": [
    "Para calcular el importe total, hay que realizar el siguiente cálculo:\n",
    "\n",
    "Multiplicamos todos los componentes y luego sumamos los valores obtenidos. También podemos describirlo diciendo que hemos calculado el producto punto o producto escalar. Como resultado de esta operación, hemos obtenido un nuevo número. Ese número es un escalar. A diferencia de los vectores, que tienen más de una característica (por ejemplo, magnitud y dirección), los escalares son unidimensionales.\n",
    "\n"
   ]
  },
  {
   "cell_type": "code",
   "execution_count": null,
   "metadata": {},
   "outputs": [],
   "source": [
    "# print(sum(volume*content)) #Sin usar np.dot()\n",
    "# np.dot(volume,content) # Usando np.dot()\n",
    "volume @ content #Shortcut de np.dot()"
   ]
  },
  {
   "cell_type": "markdown",
   "metadata": {},
   "source": [
    "Esto es lo que hace np.dot() normalmente. Es decir, np.dot es la suma del producto de a*b"
   ]
  },
  {
   "cell_type": "code",
   "execution_count": null,
   "metadata": {},
   "outputs": [],
   "source": [
    "import numpy as np\n",
    "a = np.array([4,5])\n",
    "b = np.array([5,6])\n",
    "\n",
    "sum(a*b)\n",
    "\n",
    "np.dot(a,b)"
   ]
  },
  {
   "cell_type": "markdown",
   "metadata": {},
   "source": [
    "Veamos otro ejemplo. Vector 𝑞 contiene las cantidades de cada modelo de auricular en el almacén. Vector 𝑐 contiene los precios de estos productos. El valor total de todos los artículos es la suma de los productos de la cantidad de cada modelo y de su precio, o para decirlo en términos más sencillos, el producto escalar (q,c)."
   ]
  },
  {
   "cell_type": "code",
   "execution_count": null,
   "metadata": {},
   "outputs": [],
   "source": [
    "import numpy as np\n",
    "import pandas as pd\n",
    "\n",
    "store1_price = [209.9, 119.9, 53.9, 31.9, 19.9, 109.9, 59.99, 22.9, 81.11, 32.9]\n",
    "store1_quantity = [19, 11, 8, 15, 23, 7, 14, 9, 10, 4]\n",
    "\n",
    "store2_price = [209.9, 124.9, 42.9, 27.9, 23.9, 109.9, 49.9, 24.9, 89.9, 32.9]\n",
    "store2_quantity = [10, 16, 20, 9, 18, 12, 10, 11, 18, 22]\n",
    "\n",
    "models = ['Apple AirPods Pro',\n",
    "          'Apple AirPods MV7N2RU/A',\n",
    "          'JBL Tune 120TWS', \n",
    "          'JBL TUNE 500BT',\n",
    "          'JBL JR300BT', \n",
    "          'Huawei Freebuds 3',\n",
    "          'Philips TWS SHB2505',\n",
    "          'Sony WH-CH500',\n",
    "          'Sony WF-SP700N',\n",
    "          'Sony WI-XB400',\n",
    "         ]\n",
    "items1 = pd.DataFrame({'Price':store1_price, \n",
    "                        'Quantity':store1_quantity}, index=models)\n",
    "items2 = pd.DataFrame({'Price':store2_price, \n",
    "                        'Quantity':store2_quantity}, index=models)\n",
    "\n",
    "items1_price = items1['Price'].values \n",
    "items1_quantity = items1['Quantity'].values \n",
    "\n",
    "items2_price = items2['Price'].values \n",
    "items2_quantity = items2['Quantity'].values\n",
    "\n",
    "# valor de los artículos de la tienda 1\n",
    "items1_value = items1_price @ items1_quantity\n",
    "\n",
    "# valor de los artículos de la tienda 2\n",
    "items2_value = items2_price @ items2_quantity\n",
    "\n",
    "total_value = items1_value + items2_value\n",
    "\n",
    "print('Valor total de los artículos de las dos tiendas:', total_value, 'USD')"
   ]
  },
  {
   "cell_type": "markdown",
   "metadata": {},
   "source": [
    "## Distancia euclidiana\n",
    "\n",
    "La distancia euclidiana es una medida de la distancia entre dos puntos en un espacio euclidiano. Es la distancia más comúnmente utilizada en la geometría euclidiana, y se deriva del teorema de Pitágoras. En un espacio bidimensional, la distancia euclidiana entre dos puntos (x1,y1) y (x2,y2), se calcula utilizando la fórmula:\n",
    "\n",
    "\n",
    "$$ d = \\sqrt {(x2-x1)^2 + (y2-y1)^2}\n",
    "$$"
   ]
  },
  {
   "cell_type": "markdown",
   "metadata": {},
   "source": [
    "Esta fórmula se generaliza fácilmente a espacios de mayor dimensión. La distancia euclidiana es una medida directa de la longitud del segmento de línea recta que une dos puntos en el espacio euclidiano. Es una de las formas más comunes de calcular la distancia entre puntos en matemáticas, física, estadística, y en diversos campos de la ciencia y la ingeniería."
   ]
  },
  {
   "cell_type": "code",
   "execution_count": null,
   "metadata": {},
   "outputs": [],
   "source": [
    "import numpy as np\n",
    "\n",
    "a = np.array([5,6]) #Vector 1\n",
    "b = np.array([1,3]) # Vector 2\n",
    "\n",
    "# Calculando la longitud de un vector\n",
    "\n",
    "# Usando el teorema de Pitágoras\n",
    "np.sqrt((a[0]**2)+(a[1]**2)) # primer método\n",
    "((a[0] ** 2) + (a[1] ** 2)) ** 0.5 # Segundo método\n",
    "\n",
    "# Usando el producto punto\n",
    "np.dot(a,a)**0.5 # Primer metodo\n",
    "np.sqrt(np.dot(a,a)) # Segundo método\n",
    "\n",
    "# Calculando la distancia de dos vectores (Aplicando la distancia euclidiana)\n",
    "np.dot(b-a,b-a)**0.5 # Método dot\n",
    "np.sqrt((np.sum((b-a)**2))) #Metodo numpy\n",
    "# np.dot(b,a)"
   ]
  },
  {
   "cell_type": "markdown",
   "metadata": {},
   "source": [
    "Como funciona exactamente `np.dot(b-a,b-a)**0.5` ?\n",
    "\n",
    "Basicamente funcionaría de la siguiente manera"
   ]
  },
  {
   "cell_type": "code",
   "execution_count": null,
   "metadata": {},
   "outputs": [],
   "source": [
    "import numpy as np\n",
    "\n",
    "a = np.array([5,6]) #Vector 1\n",
    "b = np.array([1,3]) # Vector 2\n",
    "\n",
    "c= np.array([1,3]) - np.array([5,6])\n",
    "c = np.array([-4,-3]) \n",
    "# La formula para sacar c realmente sería :\n",
    "\n",
    "np.sqrt(sum(c**2))\n"
   ]
  },
  {
   "cell_type": "markdown",
   "metadata": {},
   "source": [
    "SciPy tiene una librería dedicada al cálculo de distancias, que se llama distance.  Podemos importarla desde scipy.spatial y llamar a distance.euclidean() para calcular la distancia euclidiana:"
   ]
  },
  {
   "cell_type": "code",
   "execution_count": null,
   "metadata": {},
   "outputs": [],
   "source": [
    "import numpy as np\n",
    "from scipy.spatial import distance\n",
    "\n",
    "a = np.array([5, 6])\n",
    "b = np.array([1, 3])\n",
    "d = distance.euclidean(a, b)\n",
    "print('La distancia entre a y b es de', d)"
   ]
  },
  {
   "cell_type": "code",
   "execution_count": null,
   "metadata": {},
   "outputs": [],
   "source": [
    "town = [\n",
    "    'Willowford',\n",
    "    'Otter Creek',\n",
    "    'Springfield',\n",
    "    'Arlingport',\n",
    "    'Spadewood',\n",
    "    'Goldvale',\n",
    "    'Bison Flats',\n",
    "    'Bison Hills',\n",
    "]\n",
    "\n",
    "\n",
    "for i in town:\n",
    "    print('hola')"
   ]
  },
  {
   "cell_type": "markdown",
   "metadata": {},
   "source": [
    "Crea una tabla con las distancias entre las localidades y guárdala en la variable distances. Presenta los datos en forma de lista de listas. Cada fila debe representar la distancia entre cada población y todas las demás.\n",
    "\n",
    "Añade los nombres de todas las localidades a la tabla y muestra los resultados (en precódigo)."
   ]
  },
  {
   "cell_type": "code",
   "execution_count": null,
   "metadata": {},
   "outputs": [],
   "source": [
    "import numpy as np\n",
    "import pandas as pd\n",
    "from scipy.spatial import distance\n",
    "\n",
    "x_axis = np.array([0., 0.18078584, 9.32526599, 17.09628721,\n",
    "                      4.69820241, 11.57529305, 11.31769349, 14.63378951])\n",
    "\n",
    "y_axis  = np.array([0.0, 7.03050245, 9.06193657, 0.1718145,\n",
    "                      5.1383203, 0.11069032, 3.27703365, 5.36870287])\n",
    "\n",
    "deliveries = np.array([5, 7, 4, 3, 5, 2, 1, 1])\n",
    "\n",
    "town = [\n",
    "    'Willowford',\n",
    "    'Otter Creek',\n",
    "    'Springfield',\n",
    "    'Arlingport',\n",
    "    'Spadewood',\n",
    "    'Goldvale',\n",
    "    'Bison Flats',\n",
    "    'Bison Hills',\n",
    "]\n",
    "\n",
    "data = pd.DataFrame(\n",
    "    {\n",
    "        'x_coordinates_km': x_axis,\n",
    "        'y_coordinates_km': y_axis,\n",
    "        'Deliveries': deliveries,\n",
    "    },\n",
    "    index=town,\n",
    ")\n",
    "\n",
    "vectors = data[['x_coordinates_km', 'y_coordinates_km']].values\n",
    "vectors2 = np.array([x_axis,y_axis]).T  #Segunda formula de juntar dos listas para hacer un vector\n",
    "vectors3 = np.stack((x_axis,y_axis), axis=1) #Tercera formula de juntar dos listas para hacer un vector\n",
    "\n",
    "distances = []\n",
    "\n",
    "\n",
    "for town_from in range(len(town)):\n",
    "    row=[]\n",
    "    for town_to in  range(len(town)):\n",
    "        value = distance.euclidean(vectors[town_from], vectors[town_to])\n",
    "        row.append(value)\n",
    "    distances.append(row)\n",
    "    \n",
    "\t\n",
    "distances_df = pd.DataFrame(distances, columns=town, index=town)"
   ]
  },
  {
   "cell_type": "code",
   "execution_count": null,
   "metadata": {},
   "outputs": [],
   "source": [
    "distances_df"
   ]
  },
  {
   "cell_type": "code",
   "execution_count": null,
   "metadata": {},
   "outputs": [],
   "source": [
    "import numpy as np\n",
    "import pandas as pd\n",
    "from scipy.spatial import distance\n",
    "\n",
    "x_axis = np.array([0., 0.18078584, 9.32526599, 17.09628721,\n",
    "                      4.69820241, 11.57529305, 11.31769349, 14.63378951])\n",
    "\n",
    "y_axis  = np.array([0.0, 7.03050245, 9.06193657, 0.1718145,\n",
    "                      5.1383203, 0.11069032, 3.27703365, 5.36870287])\n",
    "\n",
    "deliveries = np.array([5, 7, 4, 3, 5, 2, 1, 1])\n",
    "\n",
    "town = [\n",
    "    'Willowford',\n",
    "    'Otter Creek',\n",
    "    'Springfield',\n",
    "    'Arlingport',\n",
    "    'Spadewood',\n",
    "    'Goldvale',\n",
    "    'Bison Flats',\n",
    "    'Bison Hills',\n",
    "]\n",
    "\n",
    "data = pd.DataFrame(\n",
    "    {\n",
    "        'x_coordinates_km': x_axis,\n",
    "        'y_coordinates_km': y_axis,\n",
    "        'Deliveries': deliveries,\n",
    "    },\n",
    "    index=town,\n",
    ")\n",
    "\n",
    "vectors = data[['x_coordinates_km', 'y_coordinates_km']].values\n",
    "\n",
    "distances = []\n",
    "for town_from in range(len(town)):\n",
    "    row = []\n",
    "    for town_to in range(len(town)):\n",
    "        value = distance.euclidean(vectors[town_from], vectors[town_to])\n",
    "        row.append(value)\n",
    "    distances.append(row)\n",
    "\n",
    "deliveries_in_week = 2 * np.dot(distances, deliveries)\n",
    "\n",
    "deliveries_in_week_df = pd.DataFrame(\n",
    "    {'Distance': deliveries_in_week}, index=town\n",
    ")\n",
    "\n",
    "print(deliveries_in_week_df)\n",
    "\n",
    "print()\n",
    "print('Localidad del almacén:', deliveries_in_week_df['Distance'].idxmin())"
   ]
  },
  {
   "cell_type": "code",
   "execution_count": null,
   "metadata": {},
   "outputs": [],
   "source": [
    "import numpy as np\n",
    "import pandas as pd\n",
    "from scipy.spatial import distance\n",
    "\n",
    "x_axis = np.array([0., 0.18078584, 9.32526599, 17.09628721,\n",
    "                      4.69820241, 11.57529305, 11.31769349, 14.63378951])\n",
    "\n",
    "y_axis  = np.array([0.0, 7.03050245, 9.06193657, 0.1718145,\n",
    "                      5.1383203, 0.11069032, 3.27703365, 5.36870287])\n",
    "\n",
    "deliveries = np.array([5, 7, 4, 3, 5, 2, 1, 1])\n",
    "\n",
    "town = [\n",
    "    'Willowford',\n",
    "    'Otter Creek',\n",
    "    'Springfield',\n",
    "    'Arlingport',\n",
    "    'Spadewood',\n",
    "    'Goldvale',\n",
    "    'Bison Flats',\n",
    "    'Bison Hills',\n",
    "]\n",
    "\n",
    "data = pd.DataFrame(\n",
    "    {\n",
    "        'x_coordinates_km': x_axis,\n",
    "        'y_coordinates_km': y_axis,\n",
    "        'Deliveries': deliveries,\n",
    "    },\n",
    "    index=town,\n",
    ")\n",
    "\n",
    "vectors = data[['x_coordinates_km', 'y_coordinates_km']].values\n",
    "\n",
    "distances = []\n",
    "for town_from in range(len(town)):\n",
    "    row = []\n",
    "    for town_to in range(len(town)):\n",
    "        value = distance.euclidean(vectors[town_from], vectors[town_to])\n",
    "        row.append(value)\n",
    "    distances.append(row)\n",
    "\n",
    "deliveries_in_week = []\n",
    "for i in range(len(town)):\n",
    "    value = 2 * np.dot(np.array(distances[i]), deliveries)\n",
    "    deliveries_in_week.append(value)\n",
    "\n",
    "deliveries_in_week_df = pd.DataFrame(\n",
    "    {'Distance': deliveries_in_week}, index=town\n",
    ")\n",
    "\n",
    "print(deliveries_in_week_df)\n",
    "\n",
    "print()\n",
    "print('Localidad del almacén:', deliveries_in_week_df['Distance'].idxmin())"
   ]
  },
  {
   "cell_type": "markdown",
   "metadata": {},
   "source": [
    "## Distancia Manhattan\n",
    "\n",
    "a distancia Manhattan, también conocida como distancia de la ciudad o distancia de taxicab, es una medida de la distancia entre dos puntos en un espacio euclidiano, como un plano bidimensional o un espacio tridimensional.\n",
    "\n",
    "A diferencia de la distancia euclidiana, que se mide por la longitud del segmento de línea recta que une dos puntos, la distancia Manhattan se mide como la suma de las diferencias absolutas de sus coordenadas. Es decir, la distancia Manhattan entre dos puntos (x1,y1) y (x2,y2)\n",
    "en un plano bidimensional se calcula como:\n",
    "$$d=∣x2​−x1 ∣+∣y2 −y1 ∣$$\n"
   ]
  },
  {
   "cell_type": "code",
   "execution_count": null,
   "metadata": {},
   "outputs": [],
   "source": [
    "import numpy as np\n",
    "\n",
    "\n",
    "def manhattan_distance(first, second):\n",
    "   return np.abs(first-second).sum()\n",
    "\n",
    "    \n",
    "first = np.array([3, 11])\n",
    "second = np.array([1, 6])\n",
    "\n",
    "print(manhattan_distance(first, second))"
   ]
  }
 ],
 "metadata": {
  "kernelspec": {
   "display_name": "Python 3",
   "language": "python",
   "name": "python3"
  },
  "language_info": {
   "codemirror_mode": {
    "name": "ipython",
    "version": 3
   },
   "file_extension": ".py",
   "mimetype": "text/x-python",
   "name": "python",
   "nbconvert_exporter": "python",
   "pygments_lexer": "ipython3",
   "version": "3.12.0"
  }
 },
 "nbformat": 4,
 "nbformat_minor": 2
}
