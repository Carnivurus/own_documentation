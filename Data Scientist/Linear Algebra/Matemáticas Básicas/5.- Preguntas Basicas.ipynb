{
 "cells": [
  {
   "cell_type": "markdown",
   "metadata": {},
   "source": [
    "\n",
    "|Pregunta | Respuesta | Tema|\n",
    "|----|----|----|\n",
    "|¿Que es una función?|Es una regla|Cálculo|\n",
    "|¿Qué es una integral?||Cálculo|\n",
    "|¿Qué es una derivada||Cálculo|\n",
    "\n",
    "\n",
    "Que es una gradiente\n",
    "Que es "
   ]
  }
 ],
 "metadata": {
  "kernelspec": {
   "display_name": "Python 3",
   "language": "python",
   "name": "python3"
  },
  "language_info": {
   "codemirror_mode": {
    "name": "ipython",
    "version": 3
   },
   "file_extension": ".py",
   "mimetype": "text/x-python",
   "name": "python",
   "nbconvert_exporter": "python",
   "pygments_lexer": "ipython3",
   "version": "3.12.3"
  }
 },
 "nbformat": 4,
 "nbformat_minor": 2
}
