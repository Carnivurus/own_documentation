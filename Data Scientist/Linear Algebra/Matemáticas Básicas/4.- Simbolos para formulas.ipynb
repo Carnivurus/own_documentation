{
 "cells": [
  {
   "cell_type": "markdown",
   "metadata": {},
   "source": [
    "## Set theory symbols\n",
    "\n",
    "|Symbol |Example | Explanation | Details|\n",
    "|---|---|---|---------|\n",
    "|$\\in$|$x \\in$ A| x element `is in` A|-|\n",
    "|$\\notin$|$x \\notin$ A $|x element `is not` in A|-|\n",
    "|$\\ni$|$A \\ni$ x |A `contains` x element|-|\n",
    "|$\\notni$|$A \\notni$ x |A `not contains` x element|-|\n",
    "|$\\subseteq$|$ A \\subseteq B$| A `is a subset or equal to` B| Indicates that `all elements of A are also in B`, and A `can be equal` to B or a strict subset of B. |\n",
    "|$\\subset$|$A \\subset B$ | A `is  a subset` of B $| `All elements of A are also in B`, but A is `not equal` to B|\n",
    "|$\\supseteq$|$ A \\supseteq B$|A `is a superset or equal` to B|Indicates that `all elements of B are also in A`, and A `can be equal` to B or a strict superset of B.|\n",
    "|$\\supset$|$A \\supset B$|A `is a superset` of B| `All elements of B are in A`, but A is `not equal` to B. A is a strict superset of B.|\n",
    "|$\\cup $|$A \\cup B$| `Union` of elements A and B| The set `of all elements` that belong to union of the A and B. |\n",
    "|$\\cap$|$ A \\cap B$| `Intersection` of sets A, B | The set contains all the elements that are present in the `intersection of A and B`. |\n",
    "|$\\emptyset$|$ A \\cap B = \\emptyset$|`Empty` set| The intersection of A and B does `not contain any elements` |\n",
    "|$\\mid$|$x \\mid x\\in A $|`Such that`| The set of all elements x `such that` x belongs to A |"
   ]
  },
  {
   "cell_type": "markdown",
   "metadata": {},
   "source": [
    "## Quantification symbols\n",
    "\n",
    "|Symbol |Example | Explanation | Details|\n",
    "|---|---|---|---------|\n",
    "|$\\exist$|$ \\exists x \\in A$|`There exists` at least one element in A| Indicates that there is at least one element in the set A that satisfies a certain property.|\n",
    "|$\\nexists$|$ \\nexists x \\in A$|There `does not exist` any element in A|Indicates that there is no element in the set A that satisfies a certain property.|\n",
    "|$\\forall$|$ \\forall x \\in A$|`All elements` in A|Indicates that every element in the set A satisfies a certain property.|\n",
    "|$\\neg\\forall$|$ \\neg\\forall x \\in A$|`At least one` does not satisfy |Indicates that at least one element in the set A does not satisfy a certain property..|\n",
    "\n",
    "- $\\forall x \\in \\mathbb{R}, x^2 >= 0$ $\\leftarrow$ `for all `the elements x in real numbers, x^2 is greater or equal to 0\n",
    "\n"
   ]
  },
  {
   "cell_type": "markdown",
   "metadata": {},
   "source": [
    "## Relation symbols\n",
    "\n",
    "|Symbol |Example | Explanation | Details|\n",
    "|---|---|---|---------|\n",
    "|$=$| $A = B$|A it's equal to B|-|\n",
    "|$\\neq$| $A \\neq B$|A it's equal to B|-|\n",
    "|$\\geq$| $A \\geq B$|A it's greater or equal to B|-|\n",
    "|$\\leq$| $A \\leq B$|A it's lower or equal to B|-|\n",
    "|$\\equiv$| $A \\equiv B  ( \\text{mod m} )$| The remainder of $\\frac{A}{m}$ is equal to $\\frac{B}{m}$ |-|\n",
    "|$\\vert\\vert $|$\\vert -4 \\vert $ = 4|The absolute value of -4 is 4||\n",
    "|$\\approx $|$a \\approx b$ |a is approximately equal to b||\n",
    "|$\\sim$|$a \\sim b$ |a is similar to b||\n",
    "|$\\implies$|$A \\implies B$| If A is True B is True |Indicates a unidirectional implication, `where the truth of A implies the truth of B`. If A is False, B could be True or False |\n",
    "|$\\impliedby$|$A \\impliedby B$|If B is True A is True |Indicates a unidirectional implication in the opposite direction, `where the truth of B implies the truth of A`. If B is False, A could be True or False|\n",
    "|$\\iff$|$A \\iff B$|A is True if and only if B is True| Indicates a bidirectional implication, where A and B are true or false together.` If A is true, then B is true`, and vice versa. If A is false, then B is false, and vice versa.|"
   ]
  },
  {
   "cell_type": "markdown",
   "metadata": {},
   "source": [
    "# Operator symbols\n",
    "\n",
    "|Symbol |Example | Explanation | Details|\n",
    "|---|---|---|---------|\n",
    "|$\\land$|$A \\land B $|Conjunction (AND)| Represents logical \"and\", true only if both propositions are true.|\n",
    "|$\\lor$|$A \\lor B $|Disjunction (OR)|Represents logical \"or\", true if at least one proposition is true.|\n",
    "|$\\lnot$|$ \\lnot A $|Negation (NOT)| Represents logical \"not\" or \"negation\", negates the value of the proposition.|\n",
    "|$\\nabla$|$\\nabla f$|The gradient of a scalar function|-|"
   ]
  },
  {
   "cell_type": "markdown",
   "metadata": {},
   "source": [
    "# Function symbols\n",
    "\n",
    "|Symbol |Example | Explanation | Details|\n",
    "|---|---|---|---------|\n",
    "|$\\leftarrow$|$ A \\leftarrow 5 $ | A is 5|Assignment|\n",
    "|$\\rightarrow$|$ 5  A $ | A is 5|Assignment|\n",
    "|$\\partial$|$\\frac{\\partial f}{\\partial x}$| The derivative of f with respect to x|Used in calculus |\n",
    "|/|$\\frac{A}{B}$ |$a \\div b$ | Division operation| \n",
    "|$\\sqrt{}$|$\\sqrt{A}$ |The square root of A|Mathematical operation|\n",
    "|$\\prod$|$\\prod_{i=1}^{n} a_i$|The product of $a_i$ for $i$ from 1 to n|Mathematical operation|\n",
    "|$\\cdot$|$\\mathbf(v) \\cdot \\mathbf{w}$|The dot product of v and w|Vector operation|\n",
    "|$\\sum$|$\\sum_{i=1}^{n} a_i$|The sum of $a_i$ for $i$ from 1 to n|Mathematical operation|"
   ]
  },
  {
   "cell_type": "markdown",
   "metadata": {},
   "source": [
    "# Simbolos Geométricos\n",
    "\n",
    "|Symbol |Example | Explanation | Details|\n",
    "|---|---|---|---------|\n",
    "|$\\perp$|$X \\perp y$|X is perpendicular to y||\n",
    "|$\\parallel$|$X \\parallel X_2 $|X is parallel to $X_2$||\n",
    "|$ \\overleftrightarrow{} $| $\\overleftrightarrow{AB} $|A line that passes trough de points A and B and extends infinitely to both directions||\n",
    "|$ \\overrightarrow{} $| $\\overrightarrow{AB} $|AB is the origin point||\n",
    "|$ \\overline{AB}{} $| $\\overline{AB} $|AB are the extreme points of the segment||\n",
    "|$ \\angle $| $ \\angle{AB} $|The angle of AB||\n",
    "|$\\theta$|sin $\\theta$|sin of the angle||\n"
   ]
  },
  {
   "cell_type": "markdown",
   "metadata": {},
   "source": [
    "\n",
    "|Symbol |Example | Explanation | Details|\n",
    "|---|---|---|---------|\n",
    "|$\\int$|$ \\int_{a}^{b} f(x) \\, dx $ |||\n"
   ]
  },
  {
   "cell_type": "markdown",
   "metadata": {},
   "source": [
    "- Ejemplo 1: Let $ A \\in M_{m,n}(F) $\n",
    "\n",
    "La expresión $A \\in M_{m,n}(F)$ indica que la matriz `A` pertenece al conjunto de matrices de tamaño `m x n` cuyas entradas son elementos del campo `F`.\n",
    "\n",
    "- `A`: Es el nombre dado a una matriz específica. Las matrices son arreglos rectangulares de números o elementos que están organizados en filas y columnas.\n",
    "\n",
    "- `M`: Representa el conjunto de todas las matrices posibles que cumplen ciertas condiciones específicas. En este caso, `M` denota el conjunto de matrices.\n",
    "\n",
    "- `m`: Indica el número de filas en la matriz `A`. Es decir, la dimensión vertical de la matriz.\n",
    "\n",
    "- `n`: Indica el número de columnas en la matriz `A`. Es decir, la dimensión horizontal de la matriz.\n",
    "\n",
    "- `F`: Es un campo, que es una estructura algebraica en la que se pueden realizar operaciones de suma, resta, multiplicación y división. Los campos comunes incluyen los números reales ($`\\mathbb{R}`$), los números complejos ($`\\mathbb{C}`$), los números racionales ($`\\mathbb{Q}`$), etc. En el contexto de matrices, las entradas suelen ser números reales o complejos, pero el campo `F` puede ser cualquier campo arbitrario."
   ]
  },
  {
   "cell_type": "markdown",
   "metadata": {},
   "source": [
    "Definir una conjugada compleja\n",
    "\n",
    "- Ejemplo 2: Let $ a_{ij} = 0, \\forall \\imath \\in \\{1 \\dots n\\} $\n",
    "\n",
    "Cada elemento $a_{ij}$ de la matriz es igual a cero, para cada índice $\\imath$ en el rango de 1 a n\". En otras palabras, todos los elementos de la matriz son cero.\n",
    "\n",
    "\n",
    "- Ejemplo 3: $(A^*)_{ij} = a_{ji} $\n",
    "\n",
    "La expresión $(A^*)_{ij}$ indica que el elemento i j de la matriz adjunta A* es igual al elemento ji de la matriz original A.\n",
    "\n",
    "\n",
    "\n",
    "\n"
   ]
  }
 ],
 "metadata": {
  "kernelspec": {
   "display_name": "Python 3",
   "language": "python",
   "name": "python3"
  },
  "language_info": {
   "codemirror_mode": {
    "name": "ipython",
    "version": 3
   },
   "file_extension": ".py",
   "mimetype": "text/x-python",
   "name": "python",
   "nbconvert_exporter": "python",
   "pygments_lexer": "ipython3",
   "version": "3.12.3"
  }
 },
 "nbformat": 4,
 "nbformat_minor": 2
}
