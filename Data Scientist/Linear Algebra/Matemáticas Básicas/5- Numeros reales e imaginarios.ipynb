{
 "cells": [
  {
   "cell_type": "markdown",
   "metadata": {},
   "source": [
    "# Numeros reales $\\mathbb{R}$ (Naturales, Enteros, Racionales, Irracionales)"
   ]
  },
  {
   "cell_type": "markdown",
   "metadata": {},
   "source": [
    "Los números reales son un conjunto matemático que incluye todos los números que se pueden encontrar en la recta numérica, desde los números racionales hasta los irracionales. Este conjunto es denotado por el símbolo $\\mathbb{R}$ (a menudo escrito con una \"R\" doble) y es una de las estructuras numéricas fundamentales en matemáticas. Los podemos clasificar como:"
   ]
  },
  {
   "cell_type": "markdown",
   "metadata": {},
   "source": [
    "#### Números naturales $\\mathbb{N}$\n",
    "\n",
    "Los naturales son aquellos que utilizamos formalmente para contar (enteros sin incluir 0 y negativos)\n",
    "\n",
    "$\\mathbb{N}=\\{1,2,3,4,5, \\ldots\\}$"
   ]
  },
  {
   "cell_type": "markdown",
   "metadata": {},
   "source": [
    "#### Números enteros $\\mathbb{Z}$\n",
    "\n",
    "Los números enteros expanden a los números naturales, incluyendo el valor 0 y los negativos\n",
    "\n",
    "$\\mathbb{Z}=\\{\\ldots, 3, -2, -1, 0, 1, 2, 3, \\ldots\\}$"
   ]
  },
  {
   "cell_type": "markdown",
   "metadata": {},
   "source": [
    "#### Números racionales $\\mathbb{Q}$\n",
    "\n",
    "Los números racionales son la fraccion de elementos enteros, `si el valor decimal tiende a infinito pero mantiene el mismo patron, se considerará racional`.\n",
    "\n",
    "$\\mathbb{Q}=\\{\\frac{1}{2}, \\frac{-5}{8} , \\frac{17}{100}, 0.25 ,  15.25, \\sqrt{9}, 5.466\\overline{6}  \\ldots\\}$"
   ]
  },
  {
   "cell_type": "markdown",
   "metadata": {},
   "source": [
    "#### Números irracionales $\\mathbb{I}$\n",
    "\n",
    "Un número irracional es un número real que no puede expresarse como una fracción de dos enteros, es decir, no puede representarse como un cociente de dos números enteros. Los números irracionales incluyen números como la raíz cuadrada de 2\n",
    "\n",
    "Por ejemplo, la raíz cuadrada de 2 se expresa como:\n",
    "\n",
    "$ \\sqrt{2} = 1.4142135623730950488016887\\ldots$\n",
    "\n",
    "Es decir, contiene valores infinitos y `su patron de números es diferente`.\n",
    "\n",
    "$\\mathbb{I}=\\{\\sqrt{3},\\sqrt{2},\\pi, \\frac{\\sqrt{3}}{\\pi}  \\ldots\\}$\n"
   ]
  },
  {
   "cell_type": "markdown",
   "metadata": {},
   "source": [
    "## Propiedades de los numeros reales"
   ]
  },
  {
   "cell_type": "markdown",
   "metadata": {},
   "source": [
    "| Propiedades                                  | Ejemplos                      |\n",
    "|----------------------------------------------|-------------------------------|\n",
    "| Cerrados bajo la adición                    | 3 + 4 = 7                     |\n",
    "| Cerrados bajo la multiplicación             | 2 * 5 = 10                    |\n",
    "| Conmutatividad de la adición                | a + b = b + a                 |\n",
    "| Conmutatividad de la multiplicación         | a * b = b * a                 |\n",
    "| Asociatividad de la adición                 | (a + b) + c = a + (b + c)     |\n",
    "| Asociatividad de la multiplicación          | (a * b) * c = a * (b * c)     |\n",
    "| Distributividad de la multiplicación sobre la adición | a * (b + c) = a * b + a * c |\n",
    "\n",
    "\n"
   ]
  },
  {
   "cell_type": "markdown",
   "metadata": {},
   "source": [
    "# Numeros imaginarios"
   ]
  },
  {
   "cell_type": "markdown",
   "metadata": {},
   "source": [
    "Los números imaginarios son una extensión del sistema de números reales que incluye la unidad imaginaria `i`. La unidad imaginaria se define como la raíz cuadrada de -1, es decir, `i^2 = -1`.\n",
    "\n",
    "Un número imaginario se forma multiplicando un número real por la unidad imaginaria `i`. Por ejemplo, `3i`, `2i`, `-5i` son números imaginarios.\n",
    "\n",
    "# Numeros Complejos\n",
    "\n",
    "Un número complejo es una combinación de un número real y un número imaginario. Se denota en la forma `a + bi`, donde `a` es la parte real y `bi` es la parte imaginaria. Por ejemplo, `3 + 2i`, `-1 - 4i`, `5i` son ejemplos de números complejos.\n",
    "\n",
    "Los números imaginarios y los números complejos tienen aplicaciones en diversas áreas de las matemáticas y la física, como en el análisis de circuitos eléctricos, la mecánica cuántica, y en la solución de ecuaciones algebraicas que no tienen soluciones en los números reales. La representación geométrica de los números complejos se realiza en el plano complejo, donde el eje real representa la parte real y el eje imaginario representa la parte imaginaria del número complejo.\n"
   ]
  },
  {
   "cell_type": "markdown",
   "metadata": {},
   "source": [
    "- Ejemplo de un número imaginario: `3i`. Este es un número imaginario puro, donde `3` es la parte imaginaria y no hay una parte real. Representa un punto en el eje imaginario en el plano complejo.\n",
    "\n",
    "- Ejemplo de un número complejo: `2 + 4i`. Este es un número complejo donde `2` es la parte real y `4i` es la parte imaginaria. Representa un punto en el plano complejo que está desplazado `2` unidades hacia la derecha desde el origen en el eje real y `4` unidades hacia arriba en el eje imaginario.\n"
   ]
  },
  {
   "cell_type": "code",
   "execution_count": 4,
   "metadata": {},
   "outputs": [
    {
     "name": "stderr",
     "output_type": "stream",
     "text": [
      "C:\\Users\\jm_he\\AppData\\Local\\Temp\\ipykernel_4944\\3083833963.py:3: RuntimeWarning: invalid value encountered in sqrt\n",
      "  np.sqrt(-1)\n"
     ]
    },
    {
     "data": {
      "text/plain": [
       "nan"
      ]
     },
     "execution_count": 4,
     "metadata": {},
     "output_type": "execute_result"
    }
   ],
   "source": [
    "import numpy as np\n",
    "\n",
    "np.sqrt(-1)"
   ]
  }
 ],
 "metadata": {
  "kernelspec": {
   "display_name": "Python 3",
   "language": "python",
   "name": "python3"
  },
  "language_info": {
   "codemirror_mode": {
    "name": "ipython",
    "version": 3
   },
   "file_extension": ".py",
   "mimetype": "text/x-python",
   "name": "python",
   "nbconvert_exporter": "python",
   "pygments_lexer": "ipython3",
   "version": "3.12.2"
  }
 },
 "nbformat": 4,
 "nbformat_minor": 2
}
