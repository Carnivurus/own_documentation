{
 "cells": [
  {
   "cell_type": "markdown",
   "metadata": {},
   "source": [
    "## Vector\n",
    "In Python, data sets are often represented as lists. In mathematics, an ordered set of numerical data is a vector , or an arithmetic vector.\n",
    "\n",
    "Operations that can be performed with numbers, that is, addition, subtraction and multiplication, can also be performed with vectors. In Python, vector operations are hundreds of times faster than list operations.\n",
    "\n",
    "#### List"
   ]
  },
  {
   "cell_type": "code",
   "execution_count": 1,
   "metadata": {},
   "outputs": [
    {
     "name": "stdout",
     "output_type": "stream",
     "text": [
      "[1, 2, 3, 4, 5, 9, 7, 0]\n"
     ]
    }
   ],
   "source": [
    "import pandas as pd\n",
    "import numpy as np #Numeric Python\n",
    "just_a_list = [1, 2, 3, 4, 5, 9 ,7, 0] # this is a list\n",
    "print(just_a_list)"
   ]
  },
  {
   "cell_type": "markdown",
   "metadata": {},
   "source": [
    "#### Vector"
   ]
  },
  {
   "cell_type": "code",
   "execution_count": 3,
   "metadata": {},
   "outputs": [
    {
     "name": "stdout",
     "output_type": "stream",
     "text": [
      "[1 2 3 4 5 9 7 0]\n"
     ]
    }
   ],
   "source": [
    "## Converting to vector.\n",
    "\n",
    "vector1 = np.array(just_a_list) # Numpy Matrix\n",
    "print(vector1)  "
   ]
  },
  {
   "cell_type": "markdown",
   "metadata": {},
   "source": [
    "As you can see the are no commas, you can create directly a vector\n",
    "\n",
    "#### List to vector"
   ]
  },
  {
   "cell_type": "code",
   "execution_count": 15,
   "metadata": {},
   "outputs": [
    {
     "name": "stdout",
     "output_type": "stream",
     "text": [
      "[ 2  0 65 63]\n"
     ]
    }
   ],
   "source": [
    "vector2 = np.array([2,0,65,63])\n",
    "print(vector2)"
   ]
  },
  {
   "cell_type": "markdown",
   "metadata": {},
   "source": [
    "#### Vector to list"
   ]
  },
  {
   "cell_type": "code",
   "execution_count": 7,
   "metadata": {},
   "outputs": [
    {
     "data": {
      "text/plain": [
       "[2, 0, 65, 63]"
      ]
     },
     "execution_count": 7,
     "metadata": {},
     "output_type": "execute_result"
    }
   ],
   "source": [
    "list(vector2)"
   ]
  },
  {
   "cell_type": "code",
   "execution_count": 18,
   "metadata": {},
   "outputs": [
    {
     "name": "stdout",
     "output_type": "stream",
     "text": [
      "['a' 'b' 'c']\n"
     ]
    }
   ],
   "source": [
    "import pandas as pd\n",
    "\n",
    "data = pd.DataFrame([1,3,5])\n",
    "data = pd.DataFrame(['a','b','c'])\n",
    "print(data[0].values)"
   ]
  },
  {
   "cell_type": "markdown",
   "metadata": {},
   "source": [
    "Veamos un ejemplo concreto. La gente va a la tienda online de ropa LuxForVIP desde dos sitios agregadores. El primero anuncia artículos del mercado de masas, mientras que el segundo sitio agrega ropa de marca de lujo. Los visitantes de LuxForVIP valoran su satisfacción con los precios y la calidad de los productos en una escala de 0 a 100. La tabla contiene las valoraciones de todos los visitantes. Una puntuación alta para el precio indica que al cliente le gustó el precio (es decir, que la relación calidad-precio del artículo es buena). Del mismo modo, una puntuación alta para la calidad indica que el cliente consideró que el artículo era de alta calidad."
   ]
  },
  {
   "cell_type": "code",
   "execution_count": 66,
   "metadata": {},
   "outputs": [
    {
     "name": "stdout",
     "output_type": "stream",
     "text": [
      "[68 18]\n",
      "[68 18]\n"
     ]
    }
   ],
   "source": [
    "ratings_values = [\n",
    "    [68,18], [81,19], [81,22], [15,75], [75,15], [17,72], \n",
    "    [24,75], [21,91], [76, 6], [12,74], [18,83], [20,62], \n",
    "    [21,82], [21,79], [84,15], [73,16], [88,25], [78,23], \n",
    "    [32, 81], [77, 35]]\n",
    "ratings = pd.DataFrame(ratings_values, columns=['Price', 'Quality'])\n",
    "# print(ratings.values[:,1])\n",
    "# print(len(ratings))\n",
    "print(ratings.loc[0].values)\n",
    "print(ratings.iloc[0].values)\n"
   ]
  },
  {
   "cell_type": "markdown",
   "metadata": {},
   "source": [
    "## Graficar Vectores"
   ]
  },
  {
   "cell_type": "code",
   "execution_count": 94,
   "metadata": {},
   "outputs": [
    {
     "data": {
      "image/png": "[encoded data removed]",
      "text/plain": [
       "<Figure size 500x500 with 1 Axes>"
      ]
     },
     "metadata": {},
     "output_type": "display_data"
    }
   ],
   "source": [
    "import numpy as np\n",
    "import matplotlib.pyplot as plt\n",
    "\n",
    "vector1 = [2,3]\n",
    "vector2 = [6,2]\n",
    "\n",
    "plt.figure(figsize=[5,5])\n",
    "\n",
    "plt.axis([0,10,0,10])\n",
    "\n",
    "## Agregando puntos\n",
    "plt.plot(vector1[0],vector1[1], 'r*')\n",
    "plt.plot(vector2[0],vector2[1], 'g*')\n",
    "\n",
    "# Agregar flechas\n",
    "plt.arrow(0,0,vector1[0],vector1[1], head_width=0.3, length_includes_head=True, color='b')\n",
    "plt.arrow(0,0,vector2[0],vector2[1], head_width=0.5, length_includes_head=True, color= 'y')\n",
    "\n",
    "plt.grid(True)\n",
    "\n",
    "plt.show()"
   ]
  },
  {
   "cell_type": "code",
   "execution_count": 14,
   "metadata": {},
   "outputs": [
    {
     "name": "stdout",
     "output_type": "stream",
     "text": [
      "Valoraciones de los visitantes del primer agregador: [array([15, 75], dtype=int64), array([17, 72], dtype=int64), array([24, 75], dtype=int64), array([21, 91], dtype=int64), array([12, 74], dtype=int64), array([18, 83], dtype=int64), array([20, 62], dtype=int64), array([21, 82], dtype=int64), array([21, 79], dtype=int64), array([32, 81], dtype=int64)]\n",
      "Valoraciones de los visitantes del primer agregador: [array([68, 18], dtype=int64), array([81, 19], dtype=int64), array([81, 22], dtype=int64), array([75, 15], dtype=int64), array([76,  6], dtype=int64), array([84, 15], dtype=int64), array([73, 16], dtype=int64), array([88, 25], dtype=int64), array([78, 23], dtype=int64), array([77, 35], dtype=int64)]\n"
     ]
    }
   ],
   "source": [
    "import numpy as np\n",
    "import pandas as pd\n",
    "\n",
    "ratings_values = [\n",
    "    [68,18], [81,19], [81,22], [15,75], [75,15], [17,72], \n",
    "    [24,75], [21,91], [76, 6], [12,74], [18,83], [20,62], \n",
    "    [21,82], [21,79], [84,15], [73,16], [88,25], [78,23], \n",
    "    [32, 81], [77, 35]]\n",
    "ratings = pd.DataFrame(ratings_values, columns=['Price', 'Quality'])\n",
    "\n",
    "visitors_1 = []\n",
    "visitors_2 = []\n",
    "\n",
    "# print(ratings)\n",
    "for visitor in list(ratings.values):\n",
    "\tif visitor[0] > visitor[1]:\n",
    "\t\tvisitors_2.append(visitor)\n",
    "\telse:\n",
    "\t\tvisitors_1.append(visitor)\n",
    "\n",
    "print('Valoraciones de los visitantes del primer agregador:', visitors_1)\n",
    "print('Valoraciones de los visitantes del primer agregador:', visitors_2)"
   ]
  },
  {
   "cell_type": "markdown",
   "metadata": {},
   "source": [
    "Podemos sumar y restar vectores del mismo tamaño.\n",
    "Al sumar o restar vectores, se hace la operación para cada elemento de estos. Para sumar dos vectores, hay que sumar las coordenadas correspondientes de los vectores iniciales. A la hora de restar, cada coordenada del vector resultante es igual a la diferencia entre coordenadas de los vectores iniciales."
   ]
  },
  {
   "cell_type": "code",
   "execution_count": 17,
   "metadata": {},
   "outputs": [
    {
     "name": "stdout",
     "output_type": "stream",
     "text": [
      "[8 5]\n",
      "[ 4 -1]\n"
     ]
    }
   ],
   "source": [
    "import numpy as np\n",
    "\n",
    "vector1 = np.array([2, 3])\n",
    "vector2 = np.array([6, 2])\n",
    "sum_of_vectors = vector1 + vector2\n",
    "subtraction = vector2 - vector1\n",
    "print(sum_of_vectors)\n",
    "print(subtraction)\n"
   ]
  },
  {
   "cell_type": "markdown",
   "metadata": {},
   "source": [
    "## Suma de Vectores"
   ]
  },
  {
   "cell_type": "code",
   "execution_count": 16,
   "metadata": {},
   "outputs": [
    {
     "name": "stdout",
     "output_type": "stream",
     "text": [
      "Existencias de la primera tienda: [25 63 80 91 81 55 14 76 33 71] \n",
      "Existencias de la segunda tienda: [82 24 92 48 32 45  4 34 12  1]\n",
      "[107  87 172 139 113 100  18 110  45  72]\n",
      "                                       Quantity\n",
      "Capa de silicone para o iPhone 8            107\n",
      "Capa de couro para o iPhone 8                87\n",
      "Capa de silicone para o iPhone XS           172\n",
      "Capa de couro para o iPhone XS              139\n",
      "Capa de silicone para o iPhone XS Max       113\n",
      "Capa de couro para o iPhone XS Max          100\n",
      "Capa de silicone para o iPhone 11            18\n",
      "Capa de couro para o iPhone 11              110\n",
      "Capa de silicone para o iPhone 11 Pro        45\n",
      "Capa de couro para o iPhone 11 Pro           72\n"
     ]
    }
   ],
   "source": [
    "import numpy as np\n",
    "import pandas as pd\n",
    "\n",
    "quantity_1 = [25, 63, 80, 91, 81, 55, 14, 76, 33, 71]\n",
    "models = [\n",
    "    'Capa de silicone para o iPhone 8',\n",
    "    'Capa de couro para o iPhone 8',\n",
    "    'Capa de silicone para o iPhone XS',\n",
    "    'Capa de couro para o iPhone XS',\n",
    "    'Capa de silicone para o iPhone XS Max',\n",
    "    'Capa de couro para o iPhone XS Max',\n",
    "    'Capa de silicone para o iPhone 11',\n",
    "    'Capa de couro para o iPhone 11',\n",
    "    'Capa de silicone para o iPhone 11 Pro',\n",
    "    'Capa de couro para o iPhone 11 Pro',\n",
    "]\n",
    "stocks_1 = pd.DataFrame({'Quantity': quantity_1}, index=models)\n",
    "quantity_2 = [82, 24, 92, 48, 32, 45, 4, 34, 12, 1]\n",
    "stocks_2 = pd.DataFrame({'Quantity': quantity_2}, index=models)\n",
    "\n",
    "# Forzando a una lista a volverse un vector.\n",
    "vector_of_quantity_1 =  np.array(stocks_1['Quantity'])\n",
    "vector_of_quantity_2 =  np.array(stocks_2['Quantity'])\n",
    "\n",
    "#Segunda forma de resolverlo.\n",
    "vector_of_quantity_1 =  stocks_1['Quantity'].values\n",
    "vector_of_quantity_2 =  stocks_2['Quantity'].values\n",
    "print(\n",
    "    'Existencias de la primera tienda:',\n",
    "    vector_of_quantity_1,\n",
    "    '\\nExistencias de la segunda tienda:',\n",
    "    vector_of_quantity_2,\n",
    ")\n",
    "\n",
    "vectors_sum = vector_of_quantity_1 + vector_of_quantity_2\n",
    "df_united = pd.DataFrame({'Quantity':vectors_sum}, index=models)\n",
    "\n",
    "print(vectors_sum)\n",
    "print(df_united)"
   ]
  },
  {
   "cell_type": "markdown",
   "metadata": {},
   "source": [
    "Si usamos el primer metodo:\n",
    "Esta forma utiliza la función np.array() de NumPy para convertir la columna del DataFrame en un array de NumPy. Esto asegura que los datos se almacenen como un array de NumPy, lo que puede ser útil si planeas realizar operaciones vectorizadas u otras operaciones matemáticas con estos datos.\n",
    "\n",
    "Si usamos el segundo metodo:\n",
    "Esta forma utiliza el atributo .values de la serie de Pandas para extraer los valores como un array de NumPy. Esto proporciona una forma más directa y rápida de acceder a los valores subyacentes, sin necesidad de crear una copia. Sin embargo, ten en cuenta que si modificas estos valores, podrías estar modificando los datos subyacentes del DataFrame."
   ]
  },
  {
   "cell_type": "markdown",
   "metadata": {},
   "source": [
    "## Multiplicacion de vectores Vectores\n",
    "\n"
   ]
  },
  {
   "cell_type": "code",
   "execution_count": 17,
   "metadata": {},
   "outputs": [
    {
     "name": "stdout",
     "output_type": "stream",
     "text": [
      "[4 6]\n"
     ]
    }
   ],
   "source": [
    "import numpy as np\n",
    "\n",
    "vector1 = np.array([2, 3])\n",
    "vector3 = 2 * vector1\n",
    "print(vector3)"
   ]
  },
  {
   "cell_type": "markdown",
   "metadata": {},
   "source": [
    "Ahora lo multiplicaremos por un negativo"
   ]
  },
  {
   "cell_type": "code",
   "execution_count": 18,
   "metadata": {},
   "outputs": [
    {
     "name": "stdout",
     "output_type": "stream",
     "text": [
      "[-10 -15]\n"
     ]
    }
   ],
   "source": [
    "import numpy as np\n",
    "\n",
    "vector1 = np.array([2, 3])\n",
    "vector3 = -5  * vector1\n",
    "print(vector3)"
   ]
  },
  {
   "cell_type": "code",
   "execution_count": 3,
   "metadata": {},
   "outputs": [
    {
     "name": "stdout",
     "output_type": "stream",
     "text": [
      "[49.1 48.4]\n"
     ]
    }
   ],
   "source": [
    "import numpy as np\n",
    "import pandas as pd\n",
    "\n",
    "ratings_values = [\n",
    "    [68,18], [81,19], [81,22], [15,75], [75,15], [17,72], \n",
    "    [24,75], [21,91], [76, 6], [12,74], [18,83], [20,62], \n",
    "    [21,82], [21,79], [84,15], [73,16], [88,25], [78,23], \n",
    "    [32, 81], [77, 35]]\n",
    "ratings = pd.DataFrame(ratings_values, columns=['Price', 'Quality'])\n",
    "\n",
    "price = ratings['Price'].values\n",
    "sum_prices = sum(price)\n",
    "average_price_rat = sum(price) / len(price)\n",
    "\n",
    "quality = ratings['Quality'].values\n",
    "average_quality_rat = sum(quality) / len(quality)\n",
    "\n",
    "average_rat = np.array([average_price_rat, average_quality_rat])\n",
    "print(average_rat)"
   ]
  },
  {
   "cell_type": "code",
   "execution_count": 60,
   "metadata": {},
   "outputs": [
    {
     "name": "stdout",
     "output_type": "stream",
     "text": [
      "Valoración media del primer agregador:  [20.1 77.4]\n",
      "Valoración media del segundo agregador:  48.75\n"
     ]
    },
    {
     "data": {
      "text/plain": [
       "array([[15, 75],\n",
       "       [17, 72],\n",
       "       [24, 75],\n",
       "       [21, 91],\n",
       "       [12, 74],\n",
       "       [18, 83],\n",
       "       [20, 62],\n",
       "       [21, 82],\n",
       "       [21, 79],\n",
       "       [32, 81]], dtype=int64)"
      ]
     },
     "execution_count": 60,
     "metadata": {},
     "output_type": "execute_result"
    }
   ],
   "source": [
    "import numpy as np\n",
    "import pandas as pd\n",
    "\n",
    "ratings_values = [\n",
    "    [68,18], [81,19], [81,22], [15,75], [75,15], [17,72], \n",
    "    [24,75], [21,91], [76, 6], [12,74], [18,83], [20,62], \n",
    "    [21,82], [21,79], [84,15], [73,16], [88,25], [78,23], \n",
    "    [32, 81], [77, 35]]\n",
    "ratings = pd.DataFrame(ratings_values, columns=['Price', 'Quality'])\n",
    "\n",
    "clients_1 = []\n",
    "clients_2 = []\n",
    "for client in list(ratings.values):\n",
    "    if client[0] < 40 and client[1] > 60:\n",
    "        clients_1.append(client)\n",
    "    else:\n",
    "        clients_2.append(client)\n",
    "\n",
    "average_client_1 = sum(clients_1) / len(clients_1)\n",
    "print('Valoración media del primer agregador: ', average_client_1)\n",
    "\n",
    "average_client_2 = np.mean(np.array(clients_2))\n",
    "print('Valoración media del segundo agregador: ', average_client_2)\n",
    "\n",
    "# Formas de cambiar los valores a vectores.\n",
    "# ratings.values#sacandolo de pandas\n",
    "# np.array(clients_1) # creando el vector"
   ]
  },
  {
   "cell_type": "markdown",
   "metadata": {},
   "source": [
    "## Funciones vectorizadas.\n",
    "\n"
   ]
  },
  {
   "cell_type": "code",
   "execution_count": 72,
   "metadata": {},
   "outputs": [
    {
     "data": {
      "text/html": [
       "<div>\n",
       "<style scoped>\n",
       "    .dataframe tbody tr th:only-of-type {\n",
       "        vertical-align: middle;\n",
       "    }\n",
       "\n",
       "    .dataframe tbody tr th {\n",
       "        vertical-align: top;\n",
       "    }\n",
       "\n",
       "    .dataframe thead th {\n",
       "        text-align: right;\n",
       "    }\n",
       "</style>\n",
       "<table border=\"1\" class=\"dataframe\">\n",
       "  <thead>\n",
       "    <tr style=\"text-align: right;\">\n",
       "      <th></th>\n",
       "      <th>children</th>\n",
       "      <th>days_employed</th>\n",
       "      <th>dob_years</th>\n",
       "      <th>education</th>\n",
       "      <th>education_id</th>\n",
       "      <th>family_status</th>\n",
       "      <th>family_status_id</th>\n",
       "      <th>gender</th>\n",
       "      <th>income_type</th>\n",
       "      <th>debt</th>\n",
       "      <th>total_income</th>\n",
       "      <th>purpose</th>\n",
       "    </tr>\n",
       "  </thead>\n",
       "  <tbody>\n",
       "    <tr>\n",
       "      <th>0</th>\n",
       "      <td>1</td>\n",
       "      <td>-8437.673028</td>\n",
       "      <td>42</td>\n",
       "      <td>высшее</td>\n",
       "      <td>0</td>\n",
       "      <td>женат / замужем</td>\n",
       "      <td>0</td>\n",
       "      <td>F</td>\n",
       "      <td>сотрудник</td>\n",
       "      <td>0</td>\n",
       "      <td>253875.639453</td>\n",
       "      <td>покупка жилья</td>\n",
       "    </tr>\n",
       "    <tr>\n",
       "      <th>1</th>\n",
       "      <td>1</td>\n",
       "      <td>-4024.803754</td>\n",
       "      <td>36</td>\n",
       "      <td>среднее</td>\n",
       "      <td>1</td>\n",
       "      <td>женат / замужем</td>\n",
       "      <td>0</td>\n",
       "      <td>F</td>\n",
       "      <td>сотрудник</td>\n",
       "      <td>0</td>\n",
       "      <td>112080.014102</td>\n",
       "      <td>приобретение автомобиля</td>\n",
       "    </tr>\n",
       "    <tr>\n",
       "      <th>2</th>\n",
       "      <td>0</td>\n",
       "      <td>-5623.422610</td>\n",
       "      <td>33</td>\n",
       "      <td>Среднее</td>\n",
       "      <td>1</td>\n",
       "      <td>женат / замужем</td>\n",
       "      <td>0</td>\n",
       "      <td>M</td>\n",
       "      <td>сотрудник</td>\n",
       "      <td>0</td>\n",
       "      <td>145885.952297</td>\n",
       "      <td>покупка жилья</td>\n",
       "    </tr>\n",
       "    <tr>\n",
       "      <th>3</th>\n",
       "      <td>3</td>\n",
       "      <td>-4124.747207</td>\n",
       "      <td>32</td>\n",
       "      <td>среднее</td>\n",
       "      <td>1</td>\n",
       "      <td>женат / замужем</td>\n",
       "      <td>0</td>\n",
       "      <td>M</td>\n",
       "      <td>сотрудник</td>\n",
       "      <td>0</td>\n",
       "      <td>267628.550329</td>\n",
       "      <td>дополнительное образование</td>\n",
       "    </tr>\n",
       "    <tr>\n",
       "      <th>4</th>\n",
       "      <td>0</td>\n",
       "      <td>340266.072047</td>\n",
       "      <td>53</td>\n",
       "      <td>среднее</td>\n",
       "      <td>1</td>\n",
       "      <td>гражданский брак</td>\n",
       "      <td>1</td>\n",
       "      <td>F</td>\n",
       "      <td>пенсионер</td>\n",
       "      <td>0</td>\n",
       "      <td>158616.077870</td>\n",
       "      <td>сыграть свадьбу</td>\n",
       "    </tr>\n",
       "    <tr>\n",
       "      <th>...</th>\n",
       "      <td>...</td>\n",
       "      <td>...</td>\n",
       "      <td>...</td>\n",
       "      <td>...</td>\n",
       "      <td>...</td>\n",
       "      <td>...</td>\n",
       "      <td>...</td>\n",
       "      <td>...</td>\n",
       "      <td>...</td>\n",
       "      <td>...</td>\n",
       "      <td>...</td>\n",
       "      <td>...</td>\n",
       "    </tr>\n",
       "    <tr>\n",
       "      <th>21520</th>\n",
       "      <td>1</td>\n",
       "      <td>-4529.316663</td>\n",
       "      <td>43</td>\n",
       "      <td>среднее</td>\n",
       "      <td>1</td>\n",
       "      <td>гражданский брак</td>\n",
       "      <td>1</td>\n",
       "      <td>F</td>\n",
       "      <td>компаньон</td>\n",
       "      <td>0</td>\n",
       "      <td>224791.862382</td>\n",
       "      <td>операции с жильем</td>\n",
       "    </tr>\n",
       "    <tr>\n",
       "      <th>21521</th>\n",
       "      <td>0</td>\n",
       "      <td>343937.404131</td>\n",
       "      <td>67</td>\n",
       "      <td>среднее</td>\n",
       "      <td>1</td>\n",
       "      <td>женат / замужем</td>\n",
       "      <td>0</td>\n",
       "      <td>F</td>\n",
       "      <td>пенсионер</td>\n",
       "      <td>0</td>\n",
       "      <td>155999.806512</td>\n",
       "      <td>сделка с автомобилем</td>\n",
       "    </tr>\n",
       "    <tr>\n",
       "      <th>21522</th>\n",
       "      <td>1</td>\n",
       "      <td>-2113.346888</td>\n",
       "      <td>38</td>\n",
       "      <td>среднее</td>\n",
       "      <td>1</td>\n",
       "      <td>гражданский брак</td>\n",
       "      <td>1</td>\n",
       "      <td>M</td>\n",
       "      <td>сотрудник</td>\n",
       "      <td>1</td>\n",
       "      <td>89672.561153</td>\n",
       "      <td>недвижимость</td>\n",
       "    </tr>\n",
       "    <tr>\n",
       "      <th>21523</th>\n",
       "      <td>3</td>\n",
       "      <td>-3112.481705</td>\n",
       "      <td>38</td>\n",
       "      <td>среднее</td>\n",
       "      <td>1</td>\n",
       "      <td>женат / замужем</td>\n",
       "      <td>0</td>\n",
       "      <td>M</td>\n",
       "      <td>сотрудник</td>\n",
       "      <td>1</td>\n",
       "      <td>244093.050500</td>\n",
       "      <td>на покупку своего автомобиля</td>\n",
       "    </tr>\n",
       "    <tr>\n",
       "      <th>21524</th>\n",
       "      <td>2</td>\n",
       "      <td>-1984.507589</td>\n",
       "      <td>40</td>\n",
       "      <td>среднее</td>\n",
       "      <td>1</td>\n",
       "      <td>женат / замужем</td>\n",
       "      <td>0</td>\n",
       "      <td>F</td>\n",
       "      <td>сотрудник</td>\n",
       "      <td>0</td>\n",
       "      <td>82047.418899</td>\n",
       "      <td>на покупку автомобиля</td>\n",
       "    </tr>\n",
       "  </tbody>\n",
       "</table>\n",
       "<p>21525 rows × 12 columns</p>\n",
       "</div>"
      ],
      "text/plain": [
       "       children  days_employed  dob_years education  education_id  \\\n",
       "0             1   -8437.673028         42    высшее             0   \n",
       "1             1   -4024.803754         36   среднее             1   \n",
       "2             0   -5623.422610         33   Среднее             1   \n",
       "3             3   -4124.747207         32   среднее             1   \n",
       "4             0  340266.072047         53   среднее             1   \n",
       "...         ...            ...        ...       ...           ...   \n",
       "21520         1   -4529.316663         43   среднее             1   \n",
       "21521         0  343937.404131         67   среднее             1   \n",
       "21522         1   -2113.346888         38   среднее             1   \n",
       "21523         3   -3112.481705         38   среднее             1   \n",
       "21524         2   -1984.507589         40   среднее             1   \n",
       "\n",
       "          family_status  family_status_id gender income_type  debt  \\\n",
       "0       женат / замужем                 0      F   сотрудник     0   \n",
       "1       женат / замужем                 0      F   сотрудник     0   \n",
       "2       женат / замужем                 0      M   сотрудник     0   \n",
       "3       женат / замужем                 0      M   сотрудник     0   \n",
       "4      гражданский брак                 1      F   пенсионер     0   \n",
       "...                 ...               ...    ...         ...   ...   \n",
       "21520  гражданский брак                 1      F   компаньон     0   \n",
       "21521   женат / замужем                 0      F   пенсионер     0   \n",
       "21522  гражданский брак                 1      M   сотрудник     1   \n",
       "21523   женат / замужем                 0      M   сотрудник     1   \n",
       "21524   женат / замужем                 0      F   сотрудник     0   \n",
       "\n",
       "        total_income                       purpose  \n",
       "0      253875.639453                 покупка жилья  \n",
       "1      112080.014102       приобретение автомобиля  \n",
       "2      145885.952297                 покупка жилья  \n",
       "3      267628.550329    дополнительное образование  \n",
       "4      158616.077870               сыграть свадьбу  \n",
       "...              ...                           ...  \n",
       "21520  224791.862382             операции с жильем  \n",
       "21521  155999.806512          сделка с автомобилем  \n",
       "21522   89672.561153                  недвижимость  \n",
       "21523  244093.050500  на покупку своего автомобиля  \n",
       "21524   82047.418899         на покупку автомобиля  \n",
       "\n",
       "[21525 rows x 12 columns]"
      ]
     },
     "execution_count": 72,
     "metadata": {},
     "output_type": "execute_result"
    }
   ],
   "source": [
    "df = pd.read_csv('D:/Tripleten/datasets/data.csv')\n",
    "df.head()\n",
    "\n",
    "\n",
    "df\n",
    "# df"
   ]
  },
  {
   "cell_type": "code",
   "execution_count": 81,
   "metadata": {},
   "outputs": [
    {
     "name": "stdout",
     "output_type": "stream",
     "text": [
      "11600 11600\n"
     ]
    }
   ],
   "source": [
    "x= np.array(df)\n",
    "h= sum(x[:,0])\n",
    "j= df['children'].sum()\n",
    "\n",
    "print(h,j)"
   ]
  },
  {
   "cell_type": "code",
   "execution_count": 90,
   "metadata": {},
   "outputs": [
    {
     "data": {
      "text/plain": [
       "1.0"
      ]
     },
     "execution_count": 90,
     "metadata": {},
     "output_type": "execute_result"
    }
   ],
   "source": [
    "\n",
    "target = [2,4]\n",
    "pred = [3,5]\n",
    "\n",
    "((np.array(target) - np.array(pred))**2).mean()\n",
    "\n"
   ]
  }
 ],
 "metadata": {
  "kernelspec": {
   "display_name": "Python 3",
   "language": "python",
   "name": "python3"
  },
  "language_info": {
   "codemirror_mode": {
    "name": "ipython",
    "version": 3
   },
   "file_extension": ".py",
   "mimetype": "text/x-python",
   "name": "python",
   "nbconvert_exporter": "python",
   "pygments_lexer": "ipython3",
   "version": "3.12.0"
  }
 },
 "nbformat": 4,
 "nbformat_minor": 2
}
