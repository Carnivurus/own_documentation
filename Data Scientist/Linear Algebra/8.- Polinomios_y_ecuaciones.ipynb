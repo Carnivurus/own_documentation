{
 "cells": [
  {
   "cell_type": "markdown",
   "metadata": {},
   "source": [
    "# Polinomios"
   ]
  },
  {
   "cell_type": "markdown",
   "metadata": {},
   "source": [
    "Un polinomio es una expresión matemática que consiste en una suma de términos algebraicos. Cada término algebraico en un polinomio consiste en el producto de un coeficiente (que puede ser un número real o complejo) y una o más variables elevadas a potencias enteras no negativas."
   ]
  },
  {
   "cell_type": "markdown",
   "metadata": {},
   "source": [
    "### Tipos de polinomio"
   ]
  },
  {
   "cell_type": "markdown",
   "metadata": {},
   "source": [
    "#### Monomio: El monomio es un polinomio que consta de un termino\n",
    "\n",
    "- $3x$\n",
    "- $2xy^3$\n",
    "- $-40x$\n",
    "- $\\sqrt{2} X^2$ (Siempre y cuando el exponente no este afectado por la raíz)\n",
    "\n",
    "#### Binomio: El binomio es un polinomio que consta de dos un termino\n",
    "\n",
    "- $3x + 5y$\n",
    "- $2xy^3 + 2xyz^2$\n",
    "- $-40x$ + $40x$\n",
    "- $\\sqrt{2} X^2 +3z$ (Siempre y cuando el exponente no este afectado por la raíz)\n",
    "\n",
    "#### Trinomio: El trinomio es un polinomio que consta de tres un termino\n",
    "\n",
    "- $a+b-3$ (no es necesario que tenga una letra en cada termino)\n",
    "- $2x^2-5x-3x^3 $ \n",
    "- $5m^3n+ 3m + 2n$\n",
    "\n",
    "#### Que no se considera un polinomio. (expresiones algebraicas)\n",
    "\n",
    "- Si el termino tiene variables dentro de su denominador $\\frac{5a}{b}$\n",
    "- Que haya letras o variables dentro de raices $\\sqrt{4a^2}$"
   ]
  },
  {
   "cell_type": "markdown",
   "metadata": {},
   "source": [
    "# Discriminante\n",
    "\n",
    "El discriminante es una expresión que se utiliza en el contexto de ecuaciones cuadráticas para determinar las características de las raíces de la ecuación. En una ecuación cuadrática de la forma:\n",
    "\n",
    "$$ax^2 + bx + c = 0$$\n",
    "\n",
    "El discriminante se calcula mediante la fórmula:\n",
    "\n",
    "$$\\Delta = b^2 - 4ac$$\n",
    "\n",
    "Donde:\n",
    "\n",
    "- $a$, $b$ y $c$ son los coeficientes de la ecuación cuadrática.\n",
    "- $b^2 - 4ac$ es la parte del discriminante que indica cómo se distribuyen las raíces de la ecuación en el plano complejo.\n",
    "\n",
    "El discriminante puede tener tres posibles valores:\n",
    "\n",
    "1. Si $\\Delta > 0$, entonces la ecuación tiene dos raíces reales y distintas.\n",
    "2. Si $\\Delta = 0$, entonces la ecuación tiene una raíz real doble (o repetida).\n",
    "3. Si $\\Delta < 0$, entonces la ecuación tiene dos raíces complejas conjugadas.\n",
    "\n",
    "El discriminante proporciona información valiosa sobre las raíces de la ecuación cuadrática y es una herramienta importante en el estudio de ecuaciones de segundo grado.\n"
   ]
  },
  {
   "cell_type": "markdown",
   "metadata": {},
   "source": [
    "# Ecuaciones cuadráticas\n",
    "\n",
    "Las ecuaciones cuadráticas son ecuaciones que tienen por lo menos un valor elevado al cuadrado\n",
    "\n",
    "Ecuación cuadrática con dos raíces reales y distintas:\n",
    "\n",
    "- Ejemplo: $x^2 - 5x + 6 = 0$\n",
    "- Coeficientes: $a = 1$, $b = -5$, $c = 6$\n",
    "- Discriminante: $\\Delta = (-5)^2 - 4(1)(6) = 25 - 24 = 1$\n",
    "- Tipo: $\\Delta > 0$, por lo tanto, la ecuación tiene dos raíces reales y distintas. (Dos soluciones distintas)\n",
    "\n",
    "\n",
    "Ecuación cuadrática con una raíz real doble:\n",
    "-  Ejemplo: $x^2 - 4x + 4 = 0$\n",
    "-  Coeficientes: $a = 1$, $b = -4$, $c = 4$\n",
    "-  Discriminante: $\\Delta = (-4)^2 - 4(1)(4) = 16 - 16 = 0$\n",
    "-  Tipo: $\\Delta = 0$, por lo tanto, la ecuación tiene una raíz real doble. (Una solucion posible)\n",
    "\n",
    "Ecuación cuadrática con raíces complejas conjugadas:\n",
    "- Ejemplo: $x^2 + 2x + 5 = 0$\n",
    "- Coeficientes: $a = 1$, $b = 2$, $c = 5$\n",
    "- Discriminante: $\\Delta = (2)^2 - 4(1)(5) = 4 - 20 = -16$\n",
    "- Tipo: $\\Delta < 0$, por lo tanto, la ecuación tiene dos raíces complejas conjugadas. (no tiene solucion real)\n"
   ]
  },
  {
   "cell_type": "markdown",
   "metadata": {},
   "source": [
    "# Factorizar"
   ]
  },
  {
   "cell_type": "markdown",
   "metadata": {},
   "source": [
    "Es un proceso que permite descomponer en factores una expresion matemática\n",
    "\n",
    "Factor : Cada uno de los numeros que se multiplican para formar un producto\n",
    "\n",
    "Ejemplo: $2 \\cdot 3 = 6$ \n",
    "\n",
    "- 2 = Factor\n",
    "- 3 = Factor\n",
    "- 6 = Producto\n",
    "\n",
    "\n"
   ]
  },
  {
   "cell_type": "code",
   "execution_count": 6,
   "metadata": {},
   "outputs": [
    {
     "name": "stdout",
     "output_type": "stream",
     "text": [
      "Las soluciones de la ecuación son:\n",
      "-1.00000000000000\n",
      "2.00000000000000\n"
     ]
    }
   ],
   "source": [
    "from sympy import symbols, Eq, solve\n",
    "\n",
    "# Definir la variable simbólica\n",
    "x = symbols('x')\n",
    "\n",
    "# Definir la ecuación\n",
    "eq = Eq(x**2 - x - 2,0)\n",
    "\n",
    "# Resolver la ecuación\n",
    "soluciones = solve(eq, x)\n",
    "\n",
    "# Imprimir las soluciones\n",
    "print(\"Las soluciones de la ecuación son:\")\n",
    "for solucion in soluciones:\n",
    "    print(solucion.evalf())  # evalf() para obtener valores numéricos si es posible\n"
   ]
  },
  {
   "cell_type": "markdown",
   "metadata": {},
   "source": []
  },
  {
   "cell_type": "markdown",
   "metadata": {},
   "source": [
    "\n",
    "Palabras importantes\n",
    "\n",
    "- Factor\n",
    "- Determinante\n",
    "- Termino"
   ]
  }
 ],
 "metadata": {
  "kernelspec": {
   "display_name": "Python 3",
   "language": "python",
   "name": "python3"
  },
  "language_info": {
   "codemirror_mode": {
    "name": "ipython",
    "version": 3
   },
   "file_extension": ".py",
   "mimetype": "text/x-python",
   "name": "python",
   "nbconvert_exporter": "python",
   "pygments_lexer": "ipython3",
   "version": "3.12.2"
  }
 },
 "nbformat": 4,
 "nbformat_minor": 2
}
