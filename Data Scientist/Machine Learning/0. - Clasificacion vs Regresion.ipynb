{
 "cells": [
  {
   "cell_type": "markdown",
   "metadata": {},
   "source": [
    "Tipos de entrenamiento\n",
    "\n",
    "| Algorithm                        | Classification | Regression |\n",
    "|----------------------------------|----------------|------------|\n",
    "| `Decision Trees`                   | x              | x          |\n",
    "| `Random Forests`                   | x              | x          |\n",
    "| Artificial Neural Networks (ANN) | x              | x          |\n",
    "| Gradient Boosting Machines (GBM) | x              | x          |\n",
    "| Support Vector Machines (SVM)    | x              | x          |\n",
    "| `Linear Regression`                | -              | x          |\n",
    "| Ridge Regression                 | -              | x          |\n",
    "| Lasso Regression                 | -              | x          |\n",
    "| ElasticNet Regression            | -              | x          |\n",
    "| `Logistic Regression `             | x              | -          |\n",
    "| Polynomial Regression            | x              | -          |\n",
    "| K-Nearest Neighbors (KNN)       | x              | -          |\n",
    "| Naive Bayes                      | x              | -          |\n",
    "| AdaBoost                         | x              | -          |\n",
    "| Gradient Boosting Trees (GBT)    | x              | -          |\n",
    "\n",
    "\n"
   ]
  },
  {
   "cell_type": "markdown",
   "metadata": {},
   "source": [
    "### Métricas de Evaluación :\n",
    "| Métrica                          | Modelo de regresión | Modelo de clasificación |\n",
    "|----------------------------------|---------------------|-------------------------|\n",
    "| Mean Absolute Error              | X                   | X                       |\n",
    "| Mean Square Error                | X                   | X                       |\n",
    "| Root Mean Square Error           | X                   | X                       |\n",
    "| R^2 Score                        | X                   | -                       |\n",
    "| Explained Variance Score         | X                   | -                       |\n",
    "| Mean Absolute Percentage Error   | X                   | -                       |\n",
    "| Accuracy                         | -                   | X                       |\n",
    "| Precision                        | -                   | X                       |\n",
    "| Recall (Sensitivity)             | -                   | X                       |\n",
    "| F1 Score                         | -                   | X                       |\n",
    "| ROC-AUC Score                    | -                   | X                       |\n",
    "| Confusion Matrix                 | -                   | X                       |\n",
    "| MCC                              | -                   | X                       |\n",
    "| Log Loss                         | -                   | X                       |\n",
    "| Curva Precision-Recall           | -                   | X                       |\n",
    "| Curva ROC                        | -                   | X                       |\n",
    "\n",
    "### Métodos de Codificación:\n",
    "| Métrica                          | Modelo de regresión | Modelo de clasificación |\n",
    "|----------------------------------|---------------------|-------------------------|\n",
    "| One Hot Encoding                 | -                   | X                       |\n",
    "| Label Encoder                    | -                   | X                       |\n",
    "| Ordinal Encoder                  | -                   | X                       |\n",
    "\n",
    "### Técnicas de Preprocesamiento de Datos:\n",
    "\n",
    "| Métrica                          | Modelo de regresión | Modelo de clasificación |\n",
    "|----------------------------------|---------------------|-------------------------|\n",
    "| Sobremuestreo                    | -                   | X                       |\n",
    "| Submuestreo                      | -                   | X                       |\n",
    "| Normalización                   | X                   | X                       |\n",
    "| Estandarización                 | X                   | X                       |\n",
    "| Escalado Min-Max                | X                   | X                       |\n",
    "| Imputación de Valores Faltantes | X                   | X                       |\n",
    "| Reducción de Dimensionalidad    | X                   | X                       |\n",
    "| Eliminación de Características  | X                   | X                       |\n",
    "| Transformación de Características | X                 | X                       |\n",
    "\n"
   ]
  },
  {
   "cell_type": "code",
   "execution_count": 1,
   "metadata": {},
   "outputs": [
    {
     "name": "stdout",
     "output_type": "stream",
     "text": [
      "Linear Regression\n",
      "MSE = 2129.8240528555298\n",
      "RMSE = 46.15001682400051\n",
      "Mean\n",
      "MSE = 2358.8874869200226\n",
      "RMSE = 48.568379496540985\n"
     ]
    }
   ],
   "source": [
    "import pandas as pd\n",
    "from sklearn.model_selection import train_test_split\n",
    "from sklearn.linear_model import LinearRegression\n",
    "from sklearn.metrics import mean_squared_error\n",
    "\n",
    "data = pd.read_csv('D:/Tripleten/datasets/flights_preprocessed.csv')\n",
    "\n",
    "target = data['Arrival Delay']\n",
    "features = data.drop(['Arrival Delay'], axis=1)\n",
    "features_train, features_valid, target_train, target_valid = train_test_split(\n",
    "    features, target, test_size=0.25, random_state=12345\n",
    ")\n",
    "\n",
    "model = LinearRegression()\n",
    "model.fit(features_train, target_train)\n",
    "predicted_valid = model.predict(features_valid)\n",
    "mse = mean_squared_error(target_valid, predicted_valid)\n",
    "\n",
    "print('Linear Regression')\n",
    "print('MSE =', mse)\n",
    "print('RMSE =', mse ** 0.5)\n",
    "\n",
    "\n",
    "\n",
    "# Metodo sin regresion linear, solamente con la librería de pandas.\n",
    "# Marca una diferencia de 2 minutos.\n",
    "\n",
    "predicted_valid = pd.Series(target_train.mean(), index=target_valid.index)\n",
    "mse = mean_squared_error(target_valid, predicted_valid)\n",
    "\n",
    "print('Mean')\n",
    "print('MSE =', mse)\n",
    "print('RMSE =', mse ** 0.5)"
   ]
  }
 ],
 "metadata": {
  "kernelspec": {
   "display_name": "Python 3",
   "language": "python",
   "name": "python3"
  },
  "language_info": {
   "codemirror_mode": {
    "name": "ipython",
    "version": 3
   },
   "file_extension": ".py",
   "mimetype": "text/x-python",
   "name": "python",
   "nbconvert_exporter": "python",
   "pygments_lexer": "ipython3",
   "version": "3.12.0"
  }
 },
 "nbformat": 4,
 "nbformat_minor": 2
}
