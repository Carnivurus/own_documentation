{
 "cells": [
  {
   "cell_type": "markdown",
   "metadata": {},
   "source": [
    "Tipos de entrenamiento\n",
    "\n",
    "| Algorithm                        | Classification | Regression |\n",
    "|----------------------------------|----------------|------------|\n",
    "| `Decision Trees`                   | x              | x          |\n",
    "| `Random Forests`                   | x              | x          |\n",
    "| Artificial Neural Networks (ANN) | x              | x          |\n",
    "| Gradient Boosting Machines (GBM) | x              | x          |\n",
    "| Support Vector Machines (SVM)    | x              | x          |\n",
    "| `Linear Regression`                | -              | x          |\n",
    "| Ridge Regression                 | -              | x          |\n",
    "| Lasso Regression                 | -              | x          |\n",
    "| ElasticNet Regression            | -              | x          |\n",
    "| `Logistic Regression `             | x              | -          |\n",
    "| Polynomial Regression            | x              | -          |\n",
    "| K-Nearest Neighbors (KNN)       | x              | -          |\n",
    "| Naive Bayes                      | x              | -          |\n",
    "| AdaBoost                         | x              | -          |\n",
    "| Gradient Boosting Trees (GBT)    | x              | -          |\n",
    "\n",
    "\n"
   ]
  },
  {
   "cell_type": "markdown",
   "metadata": {},
   "source": [
    "### Métricas de Evaluación :\n",
    "| Métrica                          | Modelo de regresión | Modelo de clasificación |\n",
    "|----------------------------------|---------------------|-------------------------|\n",
    "| Mean Absolute Error              | X                   | X                       |\n",
    "| Mean Square Error                | X                   | X                       |\n",
    "| Root Mean Square Error           | X                   | X                       |\n",
    "| R^2 Score                        | X                   | -                       |\n",
    "| Explained Variance Score         | X                   | -                       |\n",
    "| Mean Absolute Percentage Error   | X                   | -                       |\n",
    "| Accuracy                         | -                   | X                       |\n",
    "| Precision                        | -                   | X                       |\n",
    "| Recall (Sensitivity)             | -                   | X                       |\n",
    "| F1 Score                         | -                   | X                       |\n",
    "| ROC-AUC Score                    | -                   | X                       |\n",
    "| Confusion Matrix                 | -                   | X                       |\n",
    "| MCC                              | -                   | X                       |\n",
    "| Log Loss                         | -                   | X                       |\n",
    "| Curva Precision-Recall           | -                   | X                       |\n",
    "| Curva ROC                        | -                   | X                       |\n",
    "\n",
    "### Métodos de Codificación:\n",
    "| Métrica                          | Modelo de regresión | Modelo de clasificación |\n",
    "|----------------------------------|---------------------|-------------------------|\n",
    "| One Hot Encoding                 | -                   | X                       |\n",
    "| Label Encoder                    | -                   | X                       |\n",
    "| Ordinal Encoder                  | -                   | X                       |\n",
    "\n",
    "### Técnicas de Preprocesamiento de Datos:\n",
    "\n",
    "| Métrica                          | Modelo de regresión | Modelo de clasificación |\n",
    "|----------------------------------|---------------------|-------------------------|\n",
    "| Sobremuestreo                    | -                   | X                       |\n",
    "| Submuestreo                      | -                   | X                       |\n",
    "| Normalización                   | X                   | X                       |\n",
    "| Estandarización                 | X                   | X                       |\n",
    "| Escalado Min-Max                | X                   | X                       |\n",
    "| Imputación de Valores Faltantes | X                   | X                       |\n",
    "| Reducción de Dimensionalidad    | X                   | X                       |\n",
    "| Eliminación de Características  | X                   | X                       |\n",
    "| Transformación de Características | X                 | X                       |\n",
    "\n"
   ]
  },
  {
   "cell_type": "markdown",
   "metadata": {},
   "source": []
  }
 ],
 "metadata": {
  "kernelspec": {
   "display_name": "Python 3",
   "language": "python",
   "name": "python3"
  },
  "language_info": {
   "codemirror_mode": {
    "name": "ipython",
    "version": 3
   },
   "file_extension": ".py",
   "mimetype": "text/x-python",
   "name": "python",
   "nbconvert_exporter": "python",
   "pygments_lexer": "ipython3",
   "version": "3.12.0"
  }
 },
 "nbformat": 4,
 "nbformat_minor": 2
}
