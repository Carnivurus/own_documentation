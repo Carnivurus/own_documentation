{
 "cells": [
  {
   "cell_type": "markdown",
   "metadata": {},
   "source": [
    "## Logaritmo\n",
    "\n",
    "El logaritmo es una función matemática que describe la relación entre un número y la potencia a la que otro número, llamado base, debe elevarse para obtener ese número. En otras palabras, el logaritmo nos dice a qué exponente debe elevarse la base para obtener el número dado.\n",
    "\n",
    "La definición formal del logaritmo es la siguiente: \n",
    "\n",
    "Matemáticamente, esto se expresa como:\n",
    "\n",
    "$ \\log_b(x) = y $\n",
    "\n",
    "Si y solo si:\n",
    "\n",
    "$ b^y = x $\n",
    "\n",
    "Por ejemplo, si tomamos la base 2 y el número 8, el logaritmo en base 2 de 8 $ \\log_2(8) $ es 3, ya que $ 2^3 = 8 $.\n",
    "\n",
    "El logaritmo es una herramienta fundamental en matemáticas y tiene numerosas aplicaciones en campos como la ciencia, la ingeniería, la computación y la economía. Ayuda a simplificar cálculos y a expresar relaciones entre cantidades de una manera más compacta. Además, se utiliza en el análisis de algoritmos para describir la complejidad de tiempo en términos de logaritmos, especialmente en algoritmos de búsqueda y división y conquista.\n",
    "\n",
    "\n",
    "\n",
    "\n"
   ]
  },
  {
   "cell_type": "markdown",
   "metadata": {},
   "source": [
    "## Complejidad de Algoritmos"
   ]
  },
  {
   "cell_type": "markdown",
   "metadata": {},
   "source": [
    "La complejidad de algoritmos es una medida que se utiliza para analizar cuánto tiempo y recursos computacionales necesita un algoritmo para resolver un problema en función del tamaño de la entrada. Se puede dividir en dos tipos principales: la complejidad temporal y la complejidad espacial.\n",
    "\n",
    "- Complejidad temporal: `Se refiere al tiempo que tarda un algoritmo en completar su ejecución en función del tamaño de la entrada.` \n",
    "\n",
    "Se expresa generalmente en términos de la notación de O grande (O(n)), donde \"n\" es el tamaño de la entrada. La notación O grande proporciona un límite superior asintótico del tiempo de ejecución del algoritmo en función del tamaño de entrada. Por ejemplo, un algoritmo con complejidad O(n) significa que su tiempo de ejecución crece linealmente con el tamaño de la entrada.\n",
    "\n",
    "- Complejidad espacial: `Se refiere a la cantidad de memoria o espacio en el almacenamiento que un algoritmo necesita en función del tamaño de la entrada.`\n",
    "\n",
    " Al igual que con la complejidad temporal, se puede expresar utilizando la notación de O grande, pero esta vez se refiere al uso de la memoria en lugar del tiempo de ejecución.\n",
    "La complejidad de los algoritmos es crucial para evaluar su eficiencia y rendimiento, especialmente cuando se trabaja con grandes conjuntos de datos o recursos limitados. Los algoritmos con menor complejidad temporal y espacial suelen ser preferidos, ya que tienden a ser más eficientes y consumir menos recursos."
   ]
  },
  {
   "cell_type": "markdown",
   "metadata": {},
   "source": [
    "#### Constantes (cuando 'Big O' es igual a 1)"
   ]
  },
  {
   "cell_type": "markdown",
   "metadata": {},
   "source": [
    "Cualquier línea de código es considerada Big O de 1 siempre y cuando no sea un ciclo, no tenga recursion, no sea una llamada a una funcion de tiempo consante"
   ]
  },
  {
   "cell_type": "code",
   "execution_count": 1,
   "metadata": {},
   "outputs": [],
   "source": [
    "entrada = input() #O(1)\n",
    "x = 5             #O(1)\n",
    "\n",
    "if entrada == 'holi': #O(1) \n",
    "    print('saludo'* x) #O(1)\n",
    "\n",
    "\n",
    "# Este bucle for tiene complejidad O(1)\n",
    "for i in range(5):\n",
    "    print(\"Iteración\", i+1)"
   ]
  },
  {
   "cell_type": "markdown",
   "metadata": {},
   "source": [
    "#### Complejidad temporal cuando 'Big O' es igual a 'n'"
   ]
  },
  {
   "cell_type": "markdown",
   "metadata": {},
   "source": [
    "Se considera O(n) cuando la variable del ciclo va incrementando o decrementando por un número constante (siempre iterando en base a la entrada)"
   ]
  },
  {
   "cell_type": "code",
   "execution_count": 7,
   "metadata": {},
   "outputs": [],
   "source": [
    "# Este bucle for tiene complejidad O(n)\n",
    "\n",
    "n = 10  # Por ejemplo\n",
    "c = 2   # Por ejemplo\n",
    "\n",
    "for i in range(1, n+1, c):\n",
    "    # Cuerpo del bucle\n",
    "    x=2\n",
    "    #print(i)\n"
   ]
  },
  {
   "cell_type": "markdown",
   "metadata": {},
   "source": [
    "Si dentro de un for, tenemos otro que tambien tambien depende de n, entonces tendremos una complejidad de $O(n^2)$"
   ]
  },
  {
   "cell_type": "code",
   "execution_count": null,
   "metadata": {},
   "outputs": [],
   "source": [
    "# Ejemplo de algoritmo con complejidad O(n^2)\n",
    "n = 5  # Tamaño de la entrada, por ejemplo\n",
    "\n",
    "for i in range(n):\n",
    "    for j in range(n):\n",
    "        print(\"(\", i, \",\", j, \")\")\n"
   ]
  },
  {
   "cell_type": "markdown",
   "metadata": {},
   "source": [
    "Cuando O(log n)\n",
    "\n",
    "Significa que es el logaritmo con base 2 para llegar a n $O(log_2 n)$"
   ]
  },
  {
   "cell_type": "markdown",
   "metadata": {},
   "source": []
  }
 ],
 "metadata": {
  "kernelspec": {
   "display_name": "Python 3",
   "language": "python",
   "name": "python3"
  },
  "language_info": {
   "codemirror_mode": {
    "name": "ipython",
    "version": 3
   },
   "file_extension": ".py",
   "mimetype": "text/x-python",
   "name": "python",
   "nbconvert_exporter": "python",
   "pygments_lexer": "ipython3",
   "version": "3.12.3"
  }
 },
 "nbformat": 4,
 "nbformat_minor": 2
}
