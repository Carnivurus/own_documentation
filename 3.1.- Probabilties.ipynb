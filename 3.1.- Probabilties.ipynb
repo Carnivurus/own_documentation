{
 "cells": [
  {
   "cell_type": "markdown",
   "metadata": {},
   "source": [
    "## 1.- Probabilidades\n",
    "\n",
    "Probabilidad de un evento \n",
    "$$\n",
    "P(a) = \\frac{\\text{Número de casos que satisfacen el evento}}{\\text{Número total de casos posibles}}\n",
    "$$\n"
   ]
  },
  {
   "cell_type": "markdown",
   "metadata": {},
   "source": [
    "## Espacios muestrales"
   ]
  },
  {
   "cell_type": "markdown",
   "metadata": {},
   "source": [
    "El conjunto de todos los resultados posibles de un experimento se denomina espacio muestral, normalmente denotado con S por consiguiente la formula es:\n",
    "$$\n",
    "S= \\text{Espacio muestral}\n",
    "$$\n",
    "\n",
    "$$\n",
    "P(a) = \\frac{\\text{Número de casos que satisfacen el evento}}{\\text{len(S)}}\n",
    "$$"
   ]
  },
  {
   "cell_type": "markdown",
   "metadata": {},
   "source": [
    "## 2.- Eventos"
   ]
  },
  {
   "cell_type": "markdown",
   "metadata": {},
   "source": [
    "#### Eventos mutuamente excluyente"
   ]
  },
  {
   "cell_type": "markdown",
   "metadata": {},
   "source": [
    "Evento mutuamente excluyente = Eventos que no pueden ocurrir de manera simultanea \n",
    "$$P(\\text{A and B})= 0$$"
   ]
  },
  {
   "cell_type": "markdown",
   "metadata": {},
   "source": [
    "#### Eventos independientes"
   ]
  },
  {
   "cell_type": "markdown",
   "metadata": {},
   "source": [
    "Los eventos se denominan independientes si la ocurrencia de uno no afecta la probabilidad del otro.\n",
    "\n",
    "\n",
    "$$P(\\text{A and B})= P(A)*P(B)$$\n",
    "\n",
    "- Evento A = John paga $10 extra por una garantía de 1 año al finalizar la compra \n",
    "- Evento B = Sophie hace clic en ese enlace de cebo de clics, entonces si John paga por la garantía,"
   ]
  },
  {
   "cell_type": "markdown",
   "metadata": {},
   "source": [
    "#### Eventos dependientes"
   ]
  },
  {
   "cell_type": "markdown",
   "metadata": {},
   "source": [
    "Los eventos se denominan dependientes si la ocurrencia de uno afecta la probabilidad del otro.\n",
    "$$P(\\text{A and B})=P(A)*P(B∣A)$$\n",
    "\n",
    "- Evento A = Llueve\n",
    "- Evento B = Usas un chubasquero para ir a trabajar,"
   ]
  },
  {
   "cell_type": "markdown",
   "metadata": {},
   "source": [
    "## 3.-  Factorial de n"
   ]
  },
  {
   "cell_type": "markdown",
   "metadata": {},
   "source": [
    "\n",
    "El simbolo n! conocido como 'n factorial', representa el producto de todos los números enteros positivos desde 1 hasta n. Y se representa de la siguiente forma:\n",
    "\n",
    "$$n!=n⋅(n−1)⋅(n−2)⋅…⋅2⋅1$$\n",
    "\n",
    "Si buscaramos el factorial de 3, la respuesta sería n! = 6\n",
    "\n",
    "$$n!= (3)(2)(1)  = 6$$\n"
   ]
  },
  {
   "cell_type": "markdown",
   "metadata": {},
   "source": [
    "En python podemos llamar el factorial mediante el modulo factorial de la librería math"
   ]
  },
  {
   "cell_type": "code",
   "execution_count": 3,
   "metadata": {},
   "outputs": [
    {
     "name": "stdout",
     "output_type": "stream",
     "text": [
      "El resultado del factorial de 3 es 6\n"
     ]
    }
   ],
   "source": [
    "from math import factorial\n",
    "\n",
    "print('El resultado del factorial de 3 es' ,factorial(3))"
   ]
  },
  {
   "cell_type": "markdown",
   "metadata": {},
   "source": [
    "## 4.- Combinaciones"
   ]
  },
  {
   "cell_type": "markdown",
   "metadata": {},
   "source": [
    "Una vez conocido el n factorial es posible buscar combinaciones en un conjunto de datos, la formula para calcular el núµero de combinaciones es la siguiente:\n",
    "\n",
    "$$C\\binom{k}{n} = \\frac{n!}{\\text{k!(n-k)!}}$$\n",
    "\n",
    "\n",
    "- n = longitud del conjunto de datos\n",
    "- k = combinaciones\n",
    "\n",
    "Por ejemplo, si una cafetería vende 10 tipos de helado y quieres comprar tres diferentes, tienes:\n"
   ]
  },
  {
   "cell_type": "code",
   "execution_count": 9,
   "metadata": {},
   "outputs": [
    {
     "name": "stdout",
     "output_type": "stream",
     "text": [
      "Se tienen 120 combinaciones\n"
     ]
    }
   ],
   "source": [
    "import math\n",
    "n = 10 #tipos de helado\n",
    "k = 3 # tres tipos diferentes\n",
    "combinaciones= math.comb(n,k)\n",
    "print(f'Se tienen {combinaciones} combinaciones')"
   ]
  },
  {
   "cell_type": "markdown",
   "metadata": {},
   "source": [
    "## 3.- Permutaciones"
   ]
  },
  {
   "cell_type": "markdown",
   "metadata": {},
   "source": [
    "Una permutación reordenamiento de elementos:\n"
   ]
  },
  {
   "cell_type": "markdown",
   "metadata": {},
   "source": [
    "#### Formula de Permutaciones"
   ]
  },
  {
   "cell_type": "markdown",
   "metadata": {},
   "source": [
    "$$P\\binom{n}{k} = \\frac{n!}{(n-k)!}  $$ \n",
    "- Formula de permutaciones (donde interesa la posición de los elementos en el grupo formado)\n",
    "- n = tamaño del conjunto\n",
    "- k = numero de elemenos para formar la permutación\n",
    "\n"
   ]
  },
  {
   "cell_type": "code",
   "execution_count": 10,
   "metadata": {},
   "outputs": [
    {
     "name": "stdout",
     "output_type": "stream",
     "text": [
      "Se tienen 720 combinaciones\n"
     ]
    }
   ],
   "source": [
    "import math\n",
    "from math import factorial as f\n",
    "\n",
    "n=10 # Numero de entrevistados\n",
    "k=3  # Permutaciones posibles de tercias de entrevistados\n",
    "\n",
    "permutaciones = math.perm(n,k)\n",
    "print(f'Se tienen {permutaciones} combinaciones')"
   ]
  },
  {
   "cell_type": "markdown",
   "metadata": {},
   "source": [
    "* NOTA = Las combinaciones siempre seran menores a las permutaciones ya que las combinaciones no consideran la posición en la que se deben encontrar"
   ]
  },
  {
   "cell_type": "markdown",
   "metadata": {},
   "source": [
    "## Distribución binomial"
   ]
  },
  {
   "cell_type": "markdown",
   "metadata": {},
   "source": [
    "La distribución binomial es una distribución de propabilidad discreta que describe el número de resultados positivos en un numero fijo de ensayos.\n",
    "Ejemplo. (Se aplica un examen, Aprobado, Reprobado)"
   ]
  },
  {
   "cell_type": "markdown",
   "metadata": {},
   "source": [
    "Distribución Binomial.\n",
    "\n",
    "- distribución de probabilidad muestra la probabilidad de diferentes resultados para un experimento\n",
    "- Formula Binomial|probability = \"nCk * p **k * q **(n-k)\"\n",
    "- n= Pruebas\n",
    "- k= Exitos\n",
    "- p= probabilitdad de exito\n",
    "- q= probabilidad de fracaso\n",
    "\n",
    "\n",
    "Para combinar binomial con normal\n",
    "- mu = n * p (casos por probabilidad)\n",
    "- sigma = mt.sqrt(n * p * (1 - p))"
   ]
  },
  {
   "cell_type": "markdown",
   "metadata": {},
   "source": [
    "## Distribución uniforme"
   ]
  },
  {
   "cell_type": "markdown",
   "metadata": {},
   "source": [
    "La distribución de probabilidad continua en la que cada valor dentro de un rango determinado tiene la misma probabilidad de ser. Ejemplo. (al tirar un dado se tiene 1/6 de probabilidad de obtener un resultado)"
   ]
  },
  {
   "cell_type": "markdown",
   "metadata": {},
   "source": [
    "## Distribución normal"
   ]
  },
  {
   "cell_type": "markdown",
   "metadata": {},
   "source": [
    "La distribución de probabilidad discreta o continua en la que los datos tienden a agruparse en torno a un valor medio o promedio. (analizar las tallas mas demandadas de ropa, en general las tallas medianas predominaran)"
   ]
  },
  {
   "cell_type": "markdown",
   "metadata": {},
   "source": [
    "Distribución Normal (campana de Gauss)\n",
    "\n",
    "- Esta distribución se manifiesta en diversas situaciones, desde representar la altura de la población hasta determinar las tasas de falla en equipos.\n",
    "- Una distribución normal tiene dos parámetros clave: la media y la varianza.\n",
    "- X ∼ (μ, σ²) -  significa que la variable aleatoria X está distribuida normalmente, y su distribución está completamente caracterizada por una media μ y una varianza σ² \n",
    "- Moda, Mediana y Media son la misma al tener una distribución normal cuando esta estandarizada\n",
    "- Cumulative distribution function = .cdf() Da la probabilidad de que una variable aleatoria sea menor o igual que un valor determinado\n",
    "- percentage point function = .ppf() Da el valor de la variable aleatoria que corresponde a una determinada probabilidad\n",
    "---\n",
    "- La función de distribución acumulativa\n",
    "- st.norm(mu, sigma).ppf(treshold)\n",
    "- En caso de que quieras el valor arriba del treshold\n",
    "- p_more_visitors =1-st.norm(mu,sigma).cdf(more_threshold)\n"
   ]
  },
  {
   "cell_type": "markdown",
   "metadata": {},
   "source": [
    "- Teorema de límite central : cuando hay un número suficiente de observaciones en una muestra, la distribución muestral de las medias muestrales de cualquier población estadística tiende a seguir una distribución normal alrededor de la media de dicha población.Puedes estimar la media de una población estadística utilizando la media de una muestra. Cuanto mayor sea la muestra, más precisa será la media de la población y esto funciona para poblaciones estadísticas con cualquier distribución.\n",
    "- Distribución muestral: es el conjunto de valores medios de todas las muestras posibles de un cierto tamaño tomadas de una población estadística particular.\n",
    "- Estimated Estandard Error (E.S.E) = S #muestra / raiz(n) \n",
    "- Hipotesis de dos colas: Una prueba de hipótesis de dos colas está diseñada para mostrar si la media de la muestra es considerablemente mayor y considerablemente menor que la media de una población\n",
    "- significación estadística bilateral = probabilidad de que la media de toda la población estadística se desvíe del valor propuesto al menos tanto como vemos en la muestra (aumentando o disminuyendo en cualquier dirección).\n",
    "- La estadística de diferencia: Es el número de desviaciones estándar entre los valores comparados si ambas distribuciones se convierten en una distribución normal estándar con media 0 y desviación estándar 1. Este número no ayuda mucho a orientarse.\n",
    "- El valor p es la probabilidad de obtener un resultado al menos tan extremo como el que estás considerando, suponiendo que la hipótesis nula sea correcta\n",
    "- Significación estadística bilateral: que es la probabilidad de que la media de toda la población estadística se desvíe del valor propuesto al menos tanto como vemos en la muestra (aumentando o disminuyendo en cualquier dirección)."
   ]
  }
 ],
 "metadata": {
  "kernelspec": {
   "display_name": "Python 3",
   "language": "python",
   "name": "python3"
  },
  "language_info": {
   "codemirror_mode": {
    "name": "ipython",
    "version": 3
   },
   "file_extension": ".py",
   "mimetype": "text/x-python",
   "name": "python",
   "nbconvert_exporter": "python",
   "pygments_lexer": "ipython3",
   "version": "3.12.0"
  }
 },
 "nbformat": 4,
 "nbformat_minor": 2
}
