{
 "cells": [
  {
   "cell_type": "markdown",
   "metadata": {},
   "source": [
    "## Expresiones regulares\n",
    "\n",
    "Las Expresiones regulares son formulas para analizar texto, en python se llaman mediante la librería re, empezaremos por la expresion search que busca un texto en específico en una cadena"
   ]
  },
  {
   "cell_type": "code",
   "execution_count": 10,
   "metadata": {},
   "outputs": [],
   "source": [
    "#Añadimos la libreria\n",
    "import re"
   ]
  },
  {
   "cell_type": "code",
   "execution_count": 11,
   "metadata": {},
   "outputs": [],
   "source": [
    "#Añadimos la cadena para trabajar\n",
    "text = 'mi perro es bonito, los perros son geniales'"
   ]
  },
  {
   "cell_type": "markdown",
   "metadata": {},
   "source": [
    "## Metodo search"
   ]
  },
  {
   "cell_type": "markdown",
   "metadata": {},
   "source": [
    "Funcion ser y sus submetodos; 'start', 'end', 'span'"
   ]
  },
  {
   "cell_type": "code",
   "execution_count": 108,
   "metadata": {},
   "outputs": [
    {
     "name": "stdout",
     "output_type": "stream",
     "text": [
      "<re.Match object; span=(3, 8), match='perro'>\n",
      "3\n",
      "8\n",
      "(3, 8)\n",
      "perro\n",
      "['', '', '', 'bonito, ', '', '', 'geniales']\n"
     ]
    }
   ],
   "source": [
    "ssearch= re.search('perro',text)\n",
    "print(ssearch)\n",
    "print(ssearch.start())\n",
    "print(ssearch.end())\n",
    "print(ssearch.span())\n",
    "print(ssearch.group())\n",
    "# print(re.split(r'\\w+ ', text))"
   ]
  },
  {
   "cell_type": "code",
   "execution_count": 105,
   "metadata": {},
   "outputs": [
    {
     "name": "stdout",
     "output_type": "stream",
     "text": [
      "General\n"
     ]
    }
   ],
   "source": [
    "import re\n",
    "string = '\"\"General Slocum\" 15 June 1904 East River human factor'\n",
    "print(re.search(r'\\w+', string).group()) "
   ]
  },
  {
   "cell_type": "markdown",
   "metadata": {},
   "source": [
    "## Metodo findall"
   ]
  },
  {
   "cell_type": "code",
   "execution_count": 13,
   "metadata": {},
   "outputs": [
    {
     "name": "stdout",
     "output_type": "stream",
     "text": [
      "['perro', 'perro']\n"
     ]
    }
   ],
   "source": [
    "fsearch = re.findall('perro',text)\n",
    "print(fsearch)"
   ]
  },
  {
   "cell_type": "code",
   "execution_count": 114,
   "metadata": {},
   "outputs": [
    {
     "name": "stdout",
     "output_type": "stream",
     "text": [
      "<re.Match object; span=(15, 22), match='station'>\n"
     ]
    }
   ],
   "source": [
    "import re\n",
    "\n",
    "tion = \"Arrived at the station in total frustration\"\n",
    "print(re.search('[A-z]+tion', tion)) "
   ]
  },
  {
   "cell_type": "code",
   "execution_count": 119,
   "metadata": {},
   "outputs": [
    {
     "name": "stdout",
     "output_type": "stream",
     "text": [
      "['station', 'frustration']\n"
     ]
    }
   ],
   "source": [
    "import re\n",
    "\n",
    "tion = \"Arrived at the station in total frustration\"\n",
    "print(re.findall(r'[A-z]+tion', tion)) "
   ]
  },
  {
   "cell_type": "code",
   "execution_count": 126,
   "metadata": {},
   "outputs": [
    {
     "name": "stdout",
     "output_type": "stream",
     "text": [
      "['sixty-cents']\n"
     ]
    }
   ],
   "source": [
    "import re\n",
    "\n",
    "string = 'sixty-cents drops of rain'\n",
    "print(re.findall(r'\\w+-\\w+', string)) "
   ]
  },
  {
   "cell_type": "code",
   "execution_count": 128,
   "metadata": {},
   "outputs": [
    {
     "name": "stdout",
     "output_type": "stream",
     "text": [
      "4\n"
     ]
    }
   ],
   "source": [
    "import re\n",
    "\n",
    "string = 'sixty-seven drops of rain'\n",
    "print(len(re.findall(r'[\\w-]+', string))) "
   ]
  },
  {
   "cell_type": "markdown",
   "metadata": {},
   "source": [
    "## Metodo match\n",
    "\n",
    "Este metodo siempre buscará una coincidencia al `principio del texto`, es posible quitarle el case sensitive agregando un tercer parametro re.IGNORECASE"
   ]
  },
  {
   "cell_type": "code",
   "execution_count": 70,
   "metadata": {},
   "outputs": [
    {
     "name": "stdout",
     "output_type": "stream",
     "text": [
      "Si esta\n"
     ]
    }
   ],
   "source": [
    "nombre1='Sandra López'\n",
    "nombre2= 'Antonio Gómez'\n",
    "nombre3 = 'María López'\n",
    "\n",
    "if re.match('antonio',nombre2, re.IGNORECASE):\n",
    "    print('Si esta')\n",
    "else:\n",
    "    print('No esta')"
   ]
  },
  {
   "cell_type": "markdown",
   "metadata": {},
   "source": [
    "## Metodo Split\n",
    "\n",
    "Este metodo utiliza las expresiones regulares para definirlas como separador del string"
   ]
  },
  {
   "cell_type": "code",
   "execution_count": 117,
   "metadata": {},
   "outputs": [
    {
     "name": "stdout",
     "output_type": "stream",
     "text": [
      "['\"General Slocum\" ', ' June ', ' East River human factor']\n"
     ]
    }
   ],
   "source": [
    "string = '\"General Slocum\" 15 June 1904 East River human factor'\n",
    "print(re.split(r'\\d+', string)) \n",
    "\n",
    "# Es posible limitar el núnmero de splits\n",
    "# print(re.split('\\d+', string, maxsplit = 1)) "
   ]
  },
  {
   "cell_type": "markdown",
   "metadata": {},
   "source": [
    "## Metodo Sub (replace)"
   ]
  },
  {
   "cell_type": "markdown",
   "metadata": {},
   "source": [
    "También existen metodos para remplazar"
   ]
  },
  {
   "cell_type": "code",
   "execution_count": null,
   "metadata": {},
   "outputs": [
    {
     "name": "stdout",
     "output_type": "stream",
     "text": [
      "\"General Slocum\" [Fecha remplazada] June [Fecha remplazada] East River human factor\n"
     ]
    }
   ],
   "source": [
    "import re\n",
    "string = '\"General Slocum\" 15 June 1904 East River human factor'\n",
    "print( re.sub(r'\\d+',\"[Fecha remplazada]\",string))\n"
   ]
  },
  {
   "cell_type": "markdown",
   "metadata": {},
   "source": [
    "## Metacaracteres"
   ]
  },
  {
   "cell_type": "markdown",
   "metadata": {},
   "source": [
    "Ahora aclaremos que estas busquedas funcinoan con strings, cuando se trabaja con una lista es necesario trabajar con 'for' para poder ejecutar la librería re"
   ]
  },
  {
   "cell_type": "code",
   "execution_count": 56,
   "metadata": {},
   "outputs": [],
   "source": [
    "lista_nombres = ['Ana Carmen Gómez',\n",
    "                 'María Martín',\n",
    "                 'Sandra López',\n",
    "                 'Santiago Martín',\n",
    "                 'Niños Bueno']"
   ]
  },
  {
   "cell_type": "code",
   "execution_count": 36,
   "metadata": {},
   "outputs": [],
   "source": [
    "\n",
    "for name in lista_nombres:\n",
    "    if re.search('^Carm', name):\n",
    "        print(name)"
   ]
  },
  {
   "cell_type": "markdown",
   "metadata": {},
   "source": [
    "Como podrás observar, tanto search como find all ha buscado los resultados que que comienzan con las palabras escritas, si quisieramos ver la palabra final podemos usar el siguiente caracter '$'."
   ]
  },
  {
   "cell_type": "code",
   "execution_count": 34,
   "metadata": {},
   "outputs": [
    {
     "name": "stdout",
     "output_type": "stream",
     "text": [
      "María Martín\n",
      "Santiago Martín\n"
     ]
    }
   ],
   "source": [
    "\n",
    "for name in lista_nombres:\n",
    "    if re.search('n$', name):\n",
    "        print(name)"
   ]
  },
  {
   "cell_type": "markdown",
   "metadata": {},
   "source": [
    "Para buscar posibles carateres de buqueda podemos usar los corcheres [] y dentro los caracteres las variantes de caracteres que podríamos tener para un caracter específico, normalmente se usa para palabras como niño o niña: niñ[ao], también es usado para palabras acentuadas. Baúl, Baul: Ba[uú]l"
   ]
  },
  {
   "cell_type": "code",
   "execution_count": 57,
   "metadata": {},
   "outputs": [
    {
     "name": "stdout",
     "output_type": "stream",
     "text": [
      "Niños Bueno\n"
     ]
    }
   ],
   "source": [
    "\n",
    "for name in lista_nombres:\n",
    "    if re.findall('Niñ[oa]s', name):\n",
    "        print(name)"
   ]
  },
  {
   "cell_type": "code",
   "execution_count": 59,
   "metadata": {},
   "outputs": [
    {
     "name": "stdout",
     "output_type": "stream",
     "text": [
      "Niños Bueno\n"
     ]
    }
   ],
   "source": [
    "for name in lista_nombres:\n",
    "    if re.search('ñ', name):\n",
    "        print(name)"
   ]
  },
  {
   "cell_type": "markdown",
   "metadata": {},
   "source": [
    "## Rangos\n",
    "\n",
    "Los rangos nos permiten realizar una búsqueda más avanzada que incluya varios elementos aceptados sobre un caracter, en el siguiente ejemplo realizamos una busqueda de las palabras que inicien ('^') por las letras O hasta la T\n"
   ]
  },
  {
   "cell_type": "code",
   "execution_count": 63,
   "metadata": {},
   "outputs": [
    {
     "name": "stdout",
     "output_type": "stream",
     "text": [
      "Sandra López\n",
      "Santiago Martín\n"
     ]
    }
   ],
   "source": [
    "\n",
    "for name in lista_nombres:\n",
    "    if re.search('^[O-T]', name):\n",
    "        print(name)"
   ]
  },
  {
   "cell_type": "markdown",
   "metadata": {},
   "source": [
    "En dado caso que queramos lo contrario, es decir, el caracter inicial con letras que no sean O hasta la T (mayúsculas), podemos colocar el simbolo '^' dentro del corchete, (su funcion será diferente al '^' que se encuentre fuera del corchete)."
   ]
  },
  {
   "cell_type": "code",
   "execution_count": 65,
   "metadata": {},
   "outputs": [
    {
     "name": "stdout",
     "output_type": "stream",
     "text": [
      "Ana Carmen Gómez\n",
      "María Martín\n",
      "Niños Bueno\n"
     ]
    }
   ],
   "source": [
    "\n",
    "for name in lista_nombres:\n",
    "    if re.search('^[^O-T]', name):\n",
    "        print(name)"
   ]
  },
  {
   "cell_type": "markdown",
   "metadata": {},
   "source": [
    "## Resumen"
   ]
  },
  {
   "cell_type": "markdown",
   "metadata": {},
   "source": [
    "|Caracter|Explanation|\n",
    "|-------|------------------|\n",
    "| ^ |Inicio del string|\n",
    "| \\$ |Final del string|\n",
    "| '-'  |Rangos 0 - 9|\n",
    "| . |Any character except new line (\\n)|\n",
    "| \\* |0 or more caracters|\n",
    "| \\d |Busca cualuqier dígito|\n",
    "| \\w |Busca cualuqier letra o digito|\n"
   ]
  }
 ],
 "metadata": {
  "kernelspec": {
   "display_name": "Python 3",
   "language": "python",
   "name": "python3"
  },
  "language_info": {
   "codemirror_mode": {
    "name": "ipython",
    "version": 3
   },
   "file_extension": ".py",
   "mimetype": "text/x-python",
   "name": "python",
   "nbconvert_exporter": "python",
   "pygments_lexer": "ipython3",
   "version": "3.12.0"
  }
 },
 "nbformat": 4,
 "nbformat_minor": 2
}
