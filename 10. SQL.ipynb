{
 "cells": [
  {
   "cell_type": "markdown",
   "metadata": {},
   "source": [
    "## Tipos de datos\n",
    "\n",
    "#### Datos numéricos\n",
    "\n",
    "INTEGER\n",
    "REAL\n",
    "\n",
    "|Tipo de dato|Dato|Expression|\n",
    "|----------|----------|----------|\n",
    "|numérico|integer|INTEGER|\n",
    "|numérico|float|REAL|\n",
    "|string|text|varchar(n)|\n",
    "|string|text|text|\n",
    "|date|date and time|timestamp|\n",
    "|date|date|date|\n",
    "|logic|boolean|bool|\n"
   ]
  },
  {
   "cell_type": "markdown",
   "metadata": {},
   "source": [
    "Este es un ejemplo de como podríamos transformar los datos.\n",
    "\n",
    "```sql\n",
    "SELECT \n",
    "\tAVG(weight :: REAL) AS average\n",
    "    -- CAST AVG(weight AS REAL) AS average   <=== We also can use this expression\n",
    "FROM\n",
    "    products_data_all\n",
    "WHERE\n",
    "    units='oz'\n",
    "```"
   ]
  }
 ],
 "metadata": {
  "language_info": {
   "name": "python"
  }
 },
 "nbformat": 4,
 "nbformat_minor": 2
}
