{
 "cells": [
  {
   "cell_type": "markdown",
   "metadata": {},
   "source": [
    "## 1.- Probabilidades\n",
    "\n",
    "Probabilidad de un evento \n",
    "$$\n",
    "P(a) = \\frac{\\text{Número de casos que satisfacen el evento}}{\\text{Número total de casos posibles}}\n",
    "$$\n"
   ]
  },
  {
   "cell_type": "markdown",
   "metadata": {},
   "source": [
    "## Espacios muestrales\n",
    "El conjunto de todos los resultados posibles de un experimento se denomina espacio muestral, normalmente denotado con S por consiguiente la formula es:\n",
    "$$\n",
    "S= \\text{Espacio muestral}\n",
    "$$\n",
    "\n",
    "$$\n",
    "P(a) = \\frac{\\text{Número de casos que satisfacen el evento}}{\\text{len(S)}}\n",
    "$$"
   ]
  },
  {
   "cell_type": "markdown",
   "metadata": {},
   "source": [
    "## 2.- Eventos\n",
    "#### Eventos mutuamente excluyente\n",
    "Evento mutuamente excluyente = Eventos que no pueden ocurrir de manera simultanea \n",
    "$$P(\\text{A and B})= 0$$"
   ]
  },
  {
   "cell_type": "markdown",
   "metadata": {},
   "source": [
    "#### Eventos independientes\n",
    "\n",
    "Los eventos se denominan independientes si la ocurrencia de uno no afecta la probabilidad del otro.\n",
    "\n",
    "\n",
    "$$P(\\text{A and B})= P(A)*P(B)$$\n",
    "\n",
    "- Evento A = John paga $10 extra por una garantía de 1 año al finalizar la compra \n",
    "- Evento B = Sophie hace clic en ese enlace de cebo de clics"
   ]
  },
  {
   "cell_type": "markdown",
   "metadata": {},
   "source": [
    "#### Eventos dependientes\n",
    "\n",
    "Los eventos se denominan dependientes si la ocurrencia de uno afecta la probabilidad del otro.\n",
    "$$P(\\text{A and B})=P(A)*P(B∣A)$$\n",
    "\n",
    "- Evento A = Llueve\n",
    "- Evento B = Usas un chubasquero para ir a trabajar,"
   ]
  },
  {
   "cell_type": "markdown",
   "metadata": {},
   "source": [
    "## 3.-  Factorial de n\n",
    "\n",
    "El simbolo n! conocido como 'n factorial', representa el producto de todos los números enteros positivos desde 1 hasta n. Y se representa de la siguiente forma:\n",
    "\n",
    "$$n!=n⋅(n−1)⋅(n−2)⋅…⋅2⋅1$$\n",
    "\n",
    "Si buscaramos el factorial de 3, la respuesta sería 3! = 6\n",
    "\n",
    "$$n!= (3)(2)(1)  = 6$$\n"
   ]
  },
  {
   "cell_type": "markdown",
   "metadata": {},
   "source": [
    "En python podemos llamar el factorial mediante el modulo factorial de la librería math"
   ]
  },
  {
   "cell_type": "code",
   "execution_count": 3,
   "metadata": {},
   "outputs": [
    {
     "name": "stdout",
     "output_type": "stream",
     "text": [
      "El resultado del factorial de 3 es 6\n"
     ]
    }
   ],
   "source": [
    "from math import factorial\n",
    "\n",
    "print('El resultado del factorial de 3 es' ,factorial(3))"
   ]
  },
  {
   "cell_type": "markdown",
   "metadata": {},
   "source": [
    "## 4.- Combinaciones\n",
    "Una vez conocido el n factorial es posible buscar combinaciones en un conjunto de datos, la formula para calcular el número de combinaciones es la siguiente:\n",
    "\n",
    "$$C\\binom{k}{n} = \\frac{n!}{\\text{k!(n-k)!}}$$\n",
    "\n",
    "\n",
    "- n = longitud del conjunto de datos\n",
    "- k = combinaciones\n",
    "\n",
    "Por ejemplo, si una cafetería vende 10 tipos de helado y quieres comprar tres diferentes, tienes:"
   ]
  },
  {
   "cell_type": "code",
   "execution_count": 2,
   "metadata": {},
   "outputs": [
    {
     "name": "stdout",
     "output_type": "stream",
     "text": [
      "Se tienen 120 combinaciones\n"
     ]
    }
   ],
   "source": [
    "import math\n",
    "n = 10 #tipos de helado\n",
    "k = 3 # tres tipos diferentes\n",
    "combinaciones= math.comb(n,k)\n",
    "print(f'Se tienen {combinaciones} combinaciones')"
   ]
  },
  {
   "cell_type": "markdown",
   "metadata": {},
   "source": [
    "## 3.- Permutaciones\n",
    "Una permutación reordenamiento de elementos:"
   ]
  },
  {
   "cell_type": "markdown",
   "metadata": {},
   "source": [
    "#### Formula de Permutaciones"
   ]
  },
  {
   "cell_type": "markdown",
   "metadata": {},
   "source": [
    "$$P\\binom{n}{k} = \\frac{n!}{(n-k)!}  $$ \n",
    "- Formula de permutaciones (donde interesa la posición de los elementos en el grupo formado)\n",
    "- n = tamaño del conjunto\n",
    "- k = numero de elemenos para formar la permutación\n",
    "\n"
   ]
  },
  {
   "cell_type": "code",
   "execution_count": 4,
   "metadata": {},
   "outputs": [
    {
     "name": "stdout",
     "output_type": "stream",
     "text": [
      "Se tienen 720 combinaciones\n"
     ]
    }
   ],
   "source": [
    "import math\n",
    "from math import factorial as f\n",
    "\n",
    "n=10 # Numero de entrevistados\n",
    "k=3  # Permutaciones posibles de tercias de entrevistados\n",
    "\n",
    "permutaciones = math.perm(n,k)\n",
    "print(f'Se tienen {permutaciones} combinaciones')"
   ]
  },
  {
   "cell_type": "markdown",
   "metadata": {},
   "source": [
    "* NOTA = Las combinaciones siempre seran menores a las permutaciones ya que las combinaciones no consideran la posición en la que se deben encontrar"
   ]
  }
 ],
 "metadata": {
  "kernelspec": {
   "display_name": "Python 3",
   "language": "python",
   "name": "python3"
  },
  "language_info": {
   "codemirror_mode": {
    "name": "ipython",
    "version": 3
   },
   "file_extension": ".py",
   "mimetype": "text/x-python",
   "name": "python",
   "nbconvert_exporter": "python",
   "pygments_lexer": "ipython3",
   "version": "3.12.1"
  }
 },
 "nbformat": 4,
 "nbformat_minor": 2
}
