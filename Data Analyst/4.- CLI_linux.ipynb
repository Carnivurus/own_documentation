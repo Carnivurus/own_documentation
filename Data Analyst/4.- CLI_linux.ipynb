{
 "cells": [
  {
   "cell_type": "markdown",
   "metadata": {},
   "source": [
    "# Comandos para Linux"
   ]
  },
  {
   "cell_type": "markdown",
   "metadata": {},
   "source": [
    "Mas usados\n",
    "- mkdir = Crea un directorio\n",
    "- touch = crea un archivo\n",
    "- ls = Ofrece la lista de elementos\n",
    "- pwd = Imprime el directorio actual\n",
    "- mv = mover archivo (archivo a mover, ubicación)  / tambiem renombra los archivos\n",
    "- cp = copiar\n",
    "- echo = permite repetir un texto en consola o escribir directamente en un documento\n",
    "- nano = crea un archivo\n",
    "- vim = crea un archivo tambien\n",
    "- chmod = modificar los permisos de una carpeta\n",
    "- chown = modificar el dueño de una carpeta\n",
    "- passwd = asigna un password\n",
    "- sudo su = entrar a modo administrador\n",
    "- \n",
    "\n",
    "\n",
    "Otros\n",
    "- cat = permite accesar a un documento y ver su contenido (>> para aidicionar, >para remplazar)\n",
    "- wc = Devolvera el número de palabras de un documento(lineas, palabras, bytes)\n",
    "- head = Imprime las primeras 10 lineas de un documento\n",
    "- tail = Imprime las úøtimas 10 lineas de un documento"
   ]
  },
  {
   "cell_type": "markdown",
   "metadata": {},
   "source": [
    "## Options\n",
    "- -p = Permite crear un directorio y subdirectorio\n",
    "- -v = Verbose, muestra cada proceso\n",
    "- rm = Elimina directorios y archivos que ya no necesitas\n",
    "- -i = solicita un mensaje interactivo"
   ]
  },
  {
   "cell_type": "markdown",
   "metadata": {},
   "source": [
    "## Wildcards\n",
    "\n",
    "- \" * \" = Comodín que toma el valor de cualquier número y cualquier caracter. (ejemplo. *.jpg , buscara todos los archivos con formato jpg)\n",
    "- \" ? \" = Se usa para representa cualquier caracter individual (mv pic?.jpg) Movera todos los archivos que inicien con pic y tengan un digito después\n",
    "- \" [ ] \" = Se usan para establecer coincidencias de caracteres. Ejemplo mv pic[a-z]\n",
    "- \" { } \" = Establecer coincidencias con varios formulatios ejemplo mv {*.jpg, *.png}\n"
   ]
  },
  {
   "cell_type": "markdown",
   "metadata": {},
   "source": [
    " ## Comandos de busqueda"
   ]
  },
  {
   "cell_type": "markdown",
   "metadata": {},
   "source": [
    "find = busca archivos y directorios. (find . or find ~ ) :\n",
    "Options.\n",
    "-  -mtime (ctime -120 mtime -1)\n",
    "-  -delete\n",
    "-  -type -d or -f"
   ]
  },
  {
   "cell_type": "markdown",
   "metadata": {},
   "source": [
    "grep = busca un str en un texto y devuelve las lineas que lo contienen.\n",
    "\n",
    "grep -w \"texto a buscar\" another.txt\n",
    "- -w = coincidencias exactas.\n",
    "- -i = sin distincion entre mayúsculas y minúsculas.\n",
    "- -c = cuenta cuantas veces aparece esa palabra.\n",
    "- -l = te devuelve una lista de los archivos que cumplen la condición de texto\n"
   ]
  },
  {
   "cell_type": "markdown",
   "metadata": {},
   "source": [
    "## Alias"
   ]
  },
  {
   "cell_type": "markdown",
   "metadata": {},
   "source": [
    "Temporales:\n",
    "- alias \"name of the alias\" = \"command + route if needed\" | Create an alias\n",
    "- unalias \"name of the alias\" | delete de alias\n",
    "\n",
    "Permanentes:"
   ]
  },
  {
   "cell_type": "code",
   "execution_count": null,
   "metadata": {
    "vscode": {
     "languageId": "plaintext"
    }
   },
   "outputs": [],
   "source": []
  }
 ],
 "metadata": {
  "language_info": {
   "name": "python"
  }
 },
 "nbformat": 4,
 "nbformat_minor": 2
}
