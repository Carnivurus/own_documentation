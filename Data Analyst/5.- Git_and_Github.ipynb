{
 "cells": [
  {
   "cell_type": "markdown",
   "metadata": {},
   "source": [
    "\n",
    "git init = inicializar un repositorio \n",
    "git add = agregar un archivo al stage\n",
    "git commit = guardar los cambios\n",
    "git branch = agregar una rama\n",
    "git status = ver el estado del repositorio\n",
    "git pull = hacer fecth y merge\n",
    "git push = Subir la información a la nube\n",
    "\n",
    "git fecth = extraer un archivo de la nube al local\n",
    "git merge = unir una version en la nube con una local\n",
    "\n",
    "git config = setear usuario y correo\n",
    "git checkout = cambiar de branch (rama)\n",
    "git tag = asigna un tag\n"
   ]
  }
 ],
 "metadata": {
  "kernelspec": {
   "display_name": "Python 3",
   "language": "python",
   "name": "python3"
  },
  "language_info": {
   "codemirror_mode": {
    "name": "ipython",
    "version": 3
   },
   "file_extension": ".py",
   "mimetype": "text/x-python",
   "name": "python",
   "nbconvert_exporter": "python",
   "pygments_lexer": "ipython3",
   "version": "3.12.0"
  }
 },
 "nbformat": 4,
 "nbformat_minor": 2
}
