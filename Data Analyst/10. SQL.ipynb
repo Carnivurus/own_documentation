{
 "cells": [
  {
   "cell_type": "markdown",
   "metadata": {},
   "source": [
    "## Tipos de datos\n",
    "\n",
    "#### Datos numéricos\n",
    "\n",
    "INTEGER\n",
    "REAL\n",
    "\n",
    "|Tipo de dato|Dato|Expression|\n",
    "|----------|----------|----------|\n",
    "|numérico|integer|INTEGER|\n",
    "|numérico|float|REAL|\n",
    "|string|text|varchar(n)|\n",
    "|string|text|text|\n",
    "|date|date and time|timestamp|\n",
    "|date|date|date|\n",
    "|logic|boolean|bool|\n"
   ]
  },
  {
   "cell_type": "markdown",
   "metadata": {},
   "source": [
    "Este es un ejemplo de como podríamos transformar los datos.\n",
    "\n",
    "```sql\n",
    "SELECT \n",
    "\tAVG(weight :: REAL) AS average\n",
    "    -- CAST AVG(weight AS REAL) AS average   <=== We also can use this expression\n",
    "FROM\n",
    "    products_data_all\n",
    "WHERE\n",
    "    units='oz'\n",
    "```"
   ]
  },
  {
   "cell_type": "markdown",
   "metadata": {},
   "source": [
    "Este es un ejemplo de como podríamos transformar los datos.\n",
    "\n",
    "```sql\n",
    "\n",
    "SELECT \n",
    "    AVG(weight :: REAL) AS average,\n",
    "    -- CAST AVG(weight AS REAL) AS average   <=== We also can use this expression\n",
    "    COUNT(DISTINCT id) AS id_count,\n",
    "    product_name,\n",
    "    category,\n",
    "    price / AVG(price) OVER (PARTITION BY category, store_name) as ratio \n",
    "FROM\n",
    "    products_data_all\n",
    "WHERE\n",
    "    units='oz'\n",
    "GROUP BY\n",
    "    average,\n",
    "    product_name,\n",
    "    category\n",
    "HAVING\n",
    "    average > 2\n",
    "ORDER BY\n",
    "    product_name DESC\n",
    "\n",
    "LIMIT 4\n",
    ";\n",
    "\n",
    "\n",
    "```"
   ]
  },
  {
   "cell_type": "markdown",
   "metadata": {},
   "source": [
    "Windows in SQL"
   ]
  },
  {
   "cell_type": "markdown",
   "metadata": {},
   "source": [
    "Funciones para ventanas:\n",
    "- ROW_NUMBER () : Enúmera la fila bajo la condicion de over\n",
    "- RANK () : devuelve el índice de la fila\n",
    "- NTILE(n) : podemos cerar una columna que divida/clasifique los datos en el número que le indiquemos\n",
    "- LAG() : comparar el valor actual con los anteriores\n",
    "- LEAD() : comparar el valor actual con los posteriores\n",
    "\n",
    "Parameters:\n",
    "\n",
    "- PARTITION BY\n",
    "- ORDER BY\n",
    "- ROWS\n",
    "- BETWEEN\n",
    "\n",
    "Posicion de filas:\n",
    "- UNBOUNDED PRECEDING: todas las filas que están por encima de la actual\n",
    "- N PRECEDING: las n filas por encima de la actual\n",
    "- CURRENT ROW: la fila actual\n",
    "- N FOLLOWING: las n filas debajo de la actual\n",
    "- UNBOUNDED FOLLOWING: todas las filas debajo de la actual"
   ]
  },
  {
   "cell_type": "markdown",
   "metadata": {},
   "source": [
    "```sql\n",
    "\n",
    "SELECT\n",
    "    author_id,\n",
    "    name,\n",
    "    SUM(price) OVER (ORDER BY author_id ROWS BETWEEN UNBOUNDED PRECEDING AND CURRENT ROW)\n",
    "FROM\n",
    "    books_price; \n",
    "\n",
    "\n",
    "```"
   ]
  },
  {
   "cell_type": "markdown",
   "metadata": {},
   "source": [
    "```sql\n",
    "SELECT DISTINCT\n",
    "name_store AS store_name,\n",
    "category ,\n",
    "date_upd::date AS sale_date,\n",
    "name,\n",
    "price,\n",
    "RANK() OVER(PARTITION BY name_store, category ORDER BY price ASC ) as rank\n",
    "FROM\n",
    "    products_data_all\n",
    "WHERE \n",
    "    date_upd::date = '2019-06-02' \n",
    "ORDER BY\n",
    "    store_name,\n",
    "    category,\n",
    "    rank;\n",
    "```"
   ]
  },
  {
   "cell_type": "code",
   "execution_count": 2,
   "metadata": {},
   "outputs": [
    {
     "name": "stdout",
     "output_type": "stream",
     "text": [
      "<Response [200]>\n"
     ]
    }
   ],
   "source": []
  }
 ],
 "metadata": {
  "kernelspec": {
   "display_name": "Python 3",
   "language": "python",
   "name": "python3"
  },
  "language_info": {
   "codemirror_mode": {
    "name": "ipython",
    "version": 3
   },
   "file_extension": ".py",
   "mimetype": "text/x-python",
   "name": "python",
   "nbconvert_exporter": "python",
   "pygments_lexer": "ipython3",
   "version": "3.12.0"
  }
 },
 "nbformat": 4,
 "nbformat_minor": 2
}
