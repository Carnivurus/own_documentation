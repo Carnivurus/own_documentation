{
 "cells": [
  {
   "cell_type": "code",
   "execution_count": null,
   "metadata": {},
   "outputs": [],
   "source": [
    "from pyspark import SparkContext\n",
    "from pyspark.sql import SparkSession\n",
    "\n",
    "spark = SparkSession.builder.appName('weather').getOrCreate()\n",
    "\n",
    "sc = spark\n",
    "weather_entry = sc.parallelize(['2009-01-01',15.1,26.1])\n",
    "\n",
    "weather_entry.take(3)\n",
    "\n",
    "\n",
    "\n"
   ]
  },
  {
   "cell_type": "code",
   "execution_count": null,
   "metadata": {},
   "outputs": [],
   "source": [
    "from pyspark.sql import SparkSession\n",
    "\n",
    "APP_NAME = 'sampleApp'\n",
    "\n",
    "spark = SparkSession.builder.appName(APP_NAME).getOrCreate() "
   ]
  },
  {
   "cell_type": "code",
   "execution_count": 7,
   "metadata": {},
   "outputs": [
    {
     "name": "stdout",
     "output_type": "stream",
     "text": [
      "    apellido\n",
      "0  Hernández\n",
      "1      Perez\n"
     ]
    }
   ],
   "source": [
    "import pandas as pd\n",
    "\n",
    "headers = ['nombre', 'apellido']\n",
    "datas= [['Juan', 'Hernández'],['Gabi','Perez']]\n",
    "\n",
    "df = pd.DataFrame(data = datas, columns=headers)\n",
    "\n",
    "# print(df)\n",
    "\n",
    "h = df.drop(['nombre'], axis=1)\n",
    "# print(h)\n",
    "\n",
    "\n",
    "y = df.drop(columns='nombre')\n",
    "print(y)"
   ]
  },
  {
   "cell_type": "code",
   "execution_count": null,
   "metadata": {},
   "outputs": [],
   "source": [
    "import pandas as "
   ]
  }
 ],
 "metadata": {
  "kernelspec": {
   "display_name": "Python 3",
   "language": "python",
   "name": "python3"
  },
  "language_info": {
   "codemirror_mode": {
    "name": "ipython",
    "version": 3
   },
   "file_extension": ".py",
   "mimetype": "text/x-python",
   "name": "python",
   "nbconvert_exporter": "python",
   "pygments_lexer": "ipython3",
   "version": "3.12.0"
  }
 },
 "nbformat": 4,
 "nbformat_minor": 2
}
